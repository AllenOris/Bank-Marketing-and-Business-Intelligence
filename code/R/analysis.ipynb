{
 "cells": [
  {
   "cell_type": "markdown",
   "metadata": {},
   "source": [
    "# Bank Marketing "
   ]
  },
  {
   "cell_type": "code",
   "execution_count": 1,
   "metadata": {},
   "outputs": [],
   "source": [
    "bank_additional_full_df<-read.csv('./data/bank-additional/bank-additional-full.csv',sep=';')\n",
    "bank_additional_df=read.csv('./data/bank-additional/bank-additional.csv',sep=';')\n",
    "bank_full_df=read.csv('./data/bank/bank-full.csv',sep=';')\n",
    "bank_df=read.csv('./data/bank/bank.csv',sep=';')\n",
    "dat=bank_additional_df"
   ]
  },
  {
   "cell_type": "markdown",
   "metadata": {},
   "source": [
    "**查看列信息**"
   ]
  },
  {
   "cell_type": "code",
   "execution_count": 2,
   "metadata": {
    "scrolled": false
   },
   "outputs": [
    {
     "data": {
      "text/html": [
       "<ol class=list-inline>\n",
       "\t<li>'age'</li>\n",
       "\t<li>'job'</li>\n",
       "\t<li>'marital'</li>\n",
       "\t<li>'education'</li>\n",
       "\t<li>'default'</li>\n",
       "\t<li>'housing'</li>\n",
       "\t<li>'loan'</li>\n",
       "\t<li>'contact'</li>\n",
       "\t<li>'month'</li>\n",
       "\t<li>'day_of_week'</li>\n",
       "\t<li>'duration'</li>\n",
       "\t<li>'campaign'</li>\n",
       "\t<li>'pdays'</li>\n",
       "\t<li>'previous'</li>\n",
       "\t<li>'poutcome'</li>\n",
       "\t<li>'emp.var.rate'</li>\n",
       "\t<li>'cons.price.idx'</li>\n",
       "\t<li>'cons.conf.idx'</li>\n",
       "\t<li>'euribor3m'</li>\n",
       "\t<li>'nr.employed'</li>\n",
       "\t<li>'y'</li>\n",
       "</ol>\n"
      ],
      "text/latex": [
       "\\begin{enumerate*}\n",
       "\\item 'age'\n",
       "\\item 'job'\n",
       "\\item 'marital'\n",
       "\\item 'education'\n",
       "\\item 'default'\n",
       "\\item 'housing'\n",
       "\\item 'loan'\n",
       "\\item 'contact'\n",
       "\\item 'month'\n",
       "\\item 'day\\_of\\_week'\n",
       "\\item 'duration'\n",
       "\\item 'campaign'\n",
       "\\item 'pdays'\n",
       "\\item 'previous'\n",
       "\\item 'poutcome'\n",
       "\\item 'emp.var.rate'\n",
       "\\item 'cons.price.idx'\n",
       "\\item 'cons.conf.idx'\n",
       "\\item 'euribor3m'\n",
       "\\item 'nr.employed'\n",
       "\\item 'y'\n",
       "\\end{enumerate*}\n"
      ],
      "text/markdown": [
       "1. 'age'\n",
       "2. 'job'\n",
       "3. 'marital'\n",
       "4. 'education'\n",
       "5. 'default'\n",
       "6. 'housing'\n",
       "7. 'loan'\n",
       "8. 'contact'\n",
       "9. 'month'\n",
       "10. 'day_of_week'\n",
       "11. 'duration'\n",
       "12. 'campaign'\n",
       "13. 'pdays'\n",
       "14. 'previous'\n",
       "15. 'poutcome'\n",
       "16. 'emp.var.rate'\n",
       "17. 'cons.price.idx'\n",
       "18. 'cons.conf.idx'\n",
       "19. 'euribor3m'\n",
       "20. 'nr.employed'\n",
       "21. 'y'\n",
       "\n",
       "\n"
      ],
      "text/plain": [
       " [1] \"age\"            \"job\"            \"marital\"        \"education\"     \n",
       " [5] \"default\"        \"housing\"        \"loan\"           \"contact\"       \n",
       " [9] \"month\"          \"day_of_week\"    \"duration\"       \"campaign\"      \n",
       "[13] \"pdays\"          \"previous\"       \"poutcome\"       \"emp.var.rate\"  \n",
       "[17] \"cons.price.idx\" \"cons.conf.idx\"  \"euribor3m\"      \"nr.employed\"   \n",
       "[21] \"y\"             "
      ]
     },
     "metadata": {},
     "output_type": "display_data"
    },
    {
     "name": "stdout",
     "output_type": "stream",
     "text": [
      "'data.frame':\t4119 obs. of  21 variables:\n",
      " $ age           : int  30 39 25 38 47 32 32 41 31 35 ...\n",
      " $ job           : Factor w/ 12 levels \"admin.\",\"blue-collar\",..: 2 8 8 8 1 8 1 3 8 2 ...\n",
      " $ marital       : Factor w/ 4 levels \"divorced\",\"married\",..: 2 3 2 2 2 3 3 2 1 2 ...\n",
      " $ education     : Factor w/ 8 levels \"basic.4y\",\"basic.6y\",..: 3 4 4 3 7 7 7 7 6 3 ...\n",
      " $ default       : Factor w/ 3 levels \"no\",\"unknown\",..: 1 1 1 1 1 1 1 2 1 2 ...\n",
      " $ housing       : Factor w/ 3 levels \"no\",\"unknown\",..: 3 1 3 2 3 1 3 3 1 1 ...\n",
      " $ loan          : Factor w/ 3 levels \"no\",\"unknown\",..: 1 1 1 2 1 1 1 1 1 1 ...\n",
      " $ contact       : Factor w/ 2 levels \"cellular\",\"telephone\": 1 2 2 2 1 1 1 1 1 2 ...\n",
      " $ month         : Factor w/ 10 levels \"apr\",\"aug\",\"dec\",..: 7 7 5 5 8 10 10 8 8 7 ...\n",
      " $ day_of_week   : Factor w/ 5 levels \"fri\",\"mon\",\"thu\",..: 1 1 5 1 2 3 2 2 4 3 ...\n",
      " $ duration      : int  487 346 227 17 58 128 290 44 68 170 ...\n",
      " $ campaign      : int  2 4 1 3 1 3 4 2 1 1 ...\n",
      " $ pdays         : int  999 999 999 999 999 999 999 999 999 999 ...\n",
      " $ previous      : int  0 0 0 0 0 2 0 0 1 0 ...\n",
      " $ poutcome      : Factor w/ 3 levels \"failure\",\"nonexistent\",..: 2 2 2 2 2 1 2 2 1 2 ...\n",
      " $ emp.var.rate  : num  -1.8 1.1 1.4 1.4 -0.1 -1.1 -1.1 -0.1 -0.1 1.1 ...\n",
      " $ cons.price.idx: num  92.9 94 94.5 94.5 93.2 ...\n",
      " $ cons.conf.idx : num  -46.2 -36.4 -41.8 -41.8 -42 -37.5 -37.5 -42 -42 -36.4 ...\n",
      " $ euribor3m     : num  1.31 4.86 4.96 4.96 4.19 ...\n",
      " $ nr.employed   : num  5099 5191 5228 5228 5196 ...\n",
      " $ y             : Factor w/ 2 levels \"no\",\"yes\": 1 1 1 1 1 1 1 1 1 1 ...\n"
     ]
    }
   ],
   "source": [
    "colnames(dat)\n",
    "str(dat)"
   ]
  },
  {
   "cell_type": "markdown",
   "metadata": {},
   "source": [
    "**是否存在空值**"
   ]
  },
  {
   "cell_type": "code",
   "execution_count": 3,
   "metadata": {
    "scrolled": false
   },
   "outputs": [
    {
     "data": {
      "text/html": [
       "<dl class=dl-horizontal>\n",
       "\t<dt>age</dt>\n",
       "\t\t<dd>FALSE</dd>\n",
       "\t<dt>job</dt>\n",
       "\t\t<dd>FALSE</dd>\n",
       "\t<dt>marital</dt>\n",
       "\t\t<dd>FALSE</dd>\n",
       "\t<dt>education</dt>\n",
       "\t\t<dd>FALSE</dd>\n",
       "\t<dt>default</dt>\n",
       "\t\t<dd>FALSE</dd>\n",
       "\t<dt>housing</dt>\n",
       "\t\t<dd>FALSE</dd>\n",
       "\t<dt>loan</dt>\n",
       "\t\t<dd>FALSE</dd>\n",
       "\t<dt>contact</dt>\n",
       "\t\t<dd>FALSE</dd>\n",
       "\t<dt>month</dt>\n",
       "\t\t<dd>FALSE</dd>\n",
       "\t<dt>day_of_week</dt>\n",
       "\t\t<dd>FALSE</dd>\n",
       "\t<dt>duration</dt>\n",
       "\t\t<dd>FALSE</dd>\n",
       "\t<dt>campaign</dt>\n",
       "\t\t<dd>FALSE</dd>\n",
       "\t<dt>pdays</dt>\n",
       "\t\t<dd>FALSE</dd>\n",
       "\t<dt>previous</dt>\n",
       "\t\t<dd>FALSE</dd>\n",
       "\t<dt>poutcome</dt>\n",
       "\t\t<dd>FALSE</dd>\n",
       "\t<dt>emp.var.rate</dt>\n",
       "\t\t<dd>FALSE</dd>\n",
       "\t<dt>cons.price.idx</dt>\n",
       "\t\t<dd>FALSE</dd>\n",
       "\t<dt>cons.conf.idx</dt>\n",
       "\t\t<dd>FALSE</dd>\n",
       "\t<dt>euribor3m</dt>\n",
       "\t\t<dd>FALSE</dd>\n",
       "\t<dt>nr.employed</dt>\n",
       "\t\t<dd>FALSE</dd>\n",
       "\t<dt>y</dt>\n",
       "\t\t<dd>FALSE</dd>\n",
       "</dl>\n"
      ],
      "text/latex": [
       "\\begin{description*}\n",
       "\\item[age] FALSE\n",
       "\\item[job] FALSE\n",
       "\\item[marital] FALSE\n",
       "\\item[education] FALSE\n",
       "\\item[default] FALSE\n",
       "\\item[housing] FALSE\n",
       "\\item[loan] FALSE\n",
       "\\item[contact] FALSE\n",
       "\\item[month] FALSE\n",
       "\\item[day\\textbackslash{}\\_of\\textbackslash{}\\_week] FALSE\n",
       "\\item[duration] FALSE\n",
       "\\item[campaign] FALSE\n",
       "\\item[pdays] FALSE\n",
       "\\item[previous] FALSE\n",
       "\\item[poutcome] FALSE\n",
       "\\item[emp.var.rate] FALSE\n",
       "\\item[cons.price.idx] FALSE\n",
       "\\item[cons.conf.idx] FALSE\n",
       "\\item[euribor3m] FALSE\n",
       "\\item[nr.employed] FALSE\n",
       "\\item[y] FALSE\n",
       "\\end{description*}\n"
      ],
      "text/markdown": [
       "age\n",
       ":   FALSEjob\n",
       ":   FALSEmarital\n",
       ":   FALSEeducation\n",
       ":   FALSEdefault\n",
       ":   FALSEhousing\n",
       ":   FALSEloan\n",
       ":   FALSEcontact\n",
       ":   FALSEmonth\n",
       ":   FALSEday_of_week\n",
       ":   FALSEduration\n",
       ":   FALSEcampaign\n",
       ":   FALSEpdays\n",
       ":   FALSEprevious\n",
       ":   FALSEpoutcome\n",
       ":   FALSEemp.var.rate\n",
       ":   FALSEcons.price.idx\n",
       ":   FALSEcons.conf.idx\n",
       ":   FALSEeuribor3m\n",
       ":   FALSEnr.employed\n",
       ":   FALSEy\n",
       ":   FALSE\n",
       "\n"
      ],
      "text/plain": [
       "           age            job        marital      education        default \n",
       "         FALSE          FALSE          FALSE          FALSE          FALSE \n",
       "       housing           loan        contact          month    day_of_week \n",
       "         FALSE          FALSE          FALSE          FALSE          FALSE \n",
       "      duration       campaign          pdays       previous       poutcome \n",
       "         FALSE          FALSE          FALSE          FALSE          FALSE \n",
       "  emp.var.rate cons.price.idx  cons.conf.idx      euribor3m    nr.employed \n",
       "         FALSE          FALSE          FALSE          FALSE          FALSE \n",
       "             y \n",
       "         FALSE "
      ]
     },
     "metadata": {},
     "output_type": "display_data"
    },
    {
     "data": {
      "text/html": [
       "<table>\n",
       "<caption>A data.frame: 5 × 12</caption>\n",
       "<thead>\n",
       "\t<tr><th scope=col>age</th><th scope=col>job</th><th scope=col>marital</th><th scope=col>education</th><th scope=col>default</th><th scope=col>housing</th><th scope=col>loan</th><th scope=col>contact</th><th scope=col>month</th><th scope=col>day_of_week</th><th scope=col>duration</th><th scope=col>campaign</th></tr>\n",
       "\t<tr><th scope=col>&lt;int&gt;</th><th scope=col>&lt;fct&gt;</th><th scope=col>&lt;fct&gt;</th><th scope=col>&lt;fct&gt;</th><th scope=col>&lt;fct&gt;</th><th scope=col>&lt;fct&gt;</th><th scope=col>&lt;fct&gt;</th><th scope=col>&lt;fct&gt;</th><th scope=col>&lt;fct&gt;</th><th scope=col>&lt;fct&gt;</th><th scope=col>&lt;int&gt;</th><th scope=col>&lt;int&gt;</th></tr>\n",
       "</thead>\n",
       "<tbody>\n",
       "\t<tr><td>30</td><td>blue-collar</td><td>married</td><td>basic.9y         </td><td>no</td><td>yes    </td><td>no     </td><td>cellular </td><td>may</td><td>fri</td><td>487</td><td>2</td></tr>\n",
       "\t<tr><td>39</td><td>services   </td><td>single </td><td>high.school      </td><td>no</td><td>no     </td><td>no     </td><td>telephone</td><td>may</td><td>fri</td><td>346</td><td>4</td></tr>\n",
       "\t<tr><td>25</td><td>services   </td><td>married</td><td>high.school      </td><td>no</td><td>yes    </td><td>no     </td><td>telephone</td><td>jun</td><td>wed</td><td>227</td><td>1</td></tr>\n",
       "\t<tr><td>38</td><td>services   </td><td>married</td><td>basic.9y         </td><td>no</td><td>unknown</td><td>unknown</td><td>telephone</td><td>jun</td><td>fri</td><td> 17</td><td>3</td></tr>\n",
       "\t<tr><td>47</td><td>admin.     </td><td>married</td><td>university.degree</td><td>no</td><td>yes    </td><td>no     </td><td>cellular </td><td>nov</td><td>mon</td><td> 58</td><td>1</td></tr>\n",
       "</tbody>\n",
       "</table>\n"
      ],
      "text/latex": [
       "A data.frame: 5 × 12\n",
       "\\begin{tabular}{r|llllllllllll}\n",
       " age & job & marital & education & default & housing & loan & contact & month & day\\_of\\_week & duration & campaign\\\\\n",
       " <int> & <fct> & <fct> & <fct> & <fct> & <fct> & <fct> & <fct> & <fct> & <fct> & <int> & <int>\\\\\n",
       "\\hline\n",
       "\t 30 & blue-collar & married & basic.9y          & no & yes     & no      & cellular  & may & fri & 487 & 2\\\\\n",
       "\t 39 & services    & single  & high.school       & no & no      & no      & telephone & may & fri & 346 & 4\\\\\n",
       "\t 25 & services    & married & high.school       & no & yes     & no      & telephone & jun & wed & 227 & 1\\\\\n",
       "\t 38 & services    & married & basic.9y          & no & unknown & unknown & telephone & jun & fri &  17 & 3\\\\\n",
       "\t 47 & admin.      & married & university.degree & no & yes     & no      & cellular  & nov & mon &  58 & 1\\\\\n",
       "\\end{tabular}\n"
      ],
      "text/markdown": [
       "\n",
       "A data.frame: 5 × 12\n",
       "\n",
       "| age &lt;int&gt; | job &lt;fct&gt; | marital &lt;fct&gt; | education &lt;fct&gt; | default &lt;fct&gt; | housing &lt;fct&gt; | loan &lt;fct&gt; | contact &lt;fct&gt; | month &lt;fct&gt; | day_of_week &lt;fct&gt; | duration &lt;int&gt; | campaign &lt;int&gt; |\n",
       "|---|---|---|---|---|---|---|---|---|---|---|---|\n",
       "| 30 | blue-collar | married | basic.9y          | no | yes     | no      | cellular  | may | fri | 487 | 2 |\n",
       "| 39 | services    | single  | high.school       | no | no      | no      | telephone | may | fri | 346 | 4 |\n",
       "| 25 | services    | married | high.school       | no | yes     | no      | telephone | jun | wed | 227 | 1 |\n",
       "| 38 | services    | married | basic.9y          | no | unknown | unknown | telephone | jun | fri |  17 | 3 |\n",
       "| 47 | admin.      | married | university.degree | no | yes     | no      | cellular  | nov | mon |  58 | 1 |\n",
       "\n"
      ],
      "text/plain": [
       "  age job         marital education         default housing loan    contact  \n",
       "1 30  blue-collar married basic.9y          no      yes     no      cellular \n",
       "2 39  services    single  high.school       no      no      no      telephone\n",
       "3 25  services    married high.school       no      yes     no      telephone\n",
       "4 38  services    married basic.9y          no      unknown unknown telephone\n",
       "5 47  admin.      married university.degree no      yes     no      cellular \n",
       "  month day_of_week duration campaign\n",
       "1 may   fri         487      2       \n",
       "2 may   fri         346      4       \n",
       "3 jun   wed         227      1       \n",
       "4 jun   fri          17      3       \n",
       "5 nov   mon          58      1       "
      ]
     },
     "metadata": {},
     "output_type": "display_data"
    },
    {
     "data": {
      "text/html": [
       "<table>\n",
       "<caption>A data.frame: 5 × 9</caption>\n",
       "<thead>\n",
       "\t<tr><th scope=col>pdays</th><th scope=col>previous</th><th scope=col>poutcome</th><th scope=col>emp.var.rate</th><th scope=col>cons.price.idx</th><th scope=col>cons.conf.idx</th><th scope=col>euribor3m</th><th scope=col>nr.employed</th><th scope=col>y</th></tr>\n",
       "\t<tr><th scope=col>&lt;int&gt;</th><th scope=col>&lt;int&gt;</th><th scope=col>&lt;fct&gt;</th><th scope=col>&lt;dbl&gt;</th><th scope=col>&lt;dbl&gt;</th><th scope=col>&lt;dbl&gt;</th><th scope=col>&lt;dbl&gt;</th><th scope=col>&lt;dbl&gt;</th><th scope=col>&lt;fct&gt;</th></tr>\n",
       "</thead>\n",
       "<tbody>\n",
       "\t<tr><td>999</td><td>0</td><td>nonexistent</td><td>-1.8</td><td>92.893</td><td>-46.2</td><td>1.313</td><td>5099.1</td><td>no</td></tr>\n",
       "\t<tr><td>999</td><td>0</td><td>nonexistent</td><td> 1.1</td><td>93.994</td><td>-36.4</td><td>4.855</td><td>5191.0</td><td>no</td></tr>\n",
       "\t<tr><td>999</td><td>0</td><td>nonexistent</td><td> 1.4</td><td>94.465</td><td>-41.8</td><td>4.962</td><td>5228.1</td><td>no</td></tr>\n",
       "\t<tr><td>999</td><td>0</td><td>nonexistent</td><td> 1.4</td><td>94.465</td><td>-41.8</td><td>4.959</td><td>5228.1</td><td>no</td></tr>\n",
       "\t<tr><td>999</td><td>0</td><td>nonexistent</td><td>-0.1</td><td>93.200</td><td>-42.0</td><td>4.191</td><td>5195.8</td><td>no</td></tr>\n",
       "</tbody>\n",
       "</table>\n"
      ],
      "text/latex": [
       "A data.frame: 5 × 9\n",
       "\\begin{tabular}{r|lllllllll}\n",
       " pdays & previous & poutcome & emp.var.rate & cons.price.idx & cons.conf.idx & euribor3m & nr.employed & y\\\\\n",
       " <int> & <int> & <fct> & <dbl> & <dbl> & <dbl> & <dbl> & <dbl> & <fct>\\\\\n",
       "\\hline\n",
       "\t 999 & 0 & nonexistent & -1.8 & 92.893 & -46.2 & 1.313 & 5099.1 & no\\\\\n",
       "\t 999 & 0 & nonexistent &  1.1 & 93.994 & -36.4 & 4.855 & 5191.0 & no\\\\\n",
       "\t 999 & 0 & nonexistent &  1.4 & 94.465 & -41.8 & 4.962 & 5228.1 & no\\\\\n",
       "\t 999 & 0 & nonexistent &  1.4 & 94.465 & -41.8 & 4.959 & 5228.1 & no\\\\\n",
       "\t 999 & 0 & nonexistent & -0.1 & 93.200 & -42.0 & 4.191 & 5195.8 & no\\\\\n",
       "\\end{tabular}\n"
      ],
      "text/markdown": [
       "\n",
       "A data.frame: 5 × 9\n",
       "\n",
       "| pdays &lt;int&gt; | previous &lt;int&gt; | poutcome &lt;fct&gt; | emp.var.rate &lt;dbl&gt; | cons.price.idx &lt;dbl&gt; | cons.conf.idx &lt;dbl&gt; | euribor3m &lt;dbl&gt; | nr.employed &lt;dbl&gt; | y &lt;fct&gt; |\n",
       "|---|---|---|---|---|---|---|---|---|\n",
       "| 999 | 0 | nonexistent | -1.8 | 92.893 | -46.2 | 1.313 | 5099.1 | no |\n",
       "| 999 | 0 | nonexistent |  1.1 | 93.994 | -36.4 | 4.855 | 5191.0 | no |\n",
       "| 999 | 0 | nonexistent |  1.4 | 94.465 | -41.8 | 4.962 | 5228.1 | no |\n",
       "| 999 | 0 | nonexistent |  1.4 | 94.465 | -41.8 | 4.959 | 5228.1 | no |\n",
       "| 999 | 0 | nonexistent | -0.1 | 93.200 | -42.0 | 4.191 | 5195.8 | no |\n",
       "\n"
      ],
      "text/plain": [
       "  pdays previous poutcome    emp.var.rate cons.price.idx cons.conf.idx\n",
       "1 999   0        nonexistent -1.8         92.893         -46.2        \n",
       "2 999   0        nonexistent  1.1         93.994         -36.4        \n",
       "3 999   0        nonexistent  1.4         94.465         -41.8        \n",
       "4 999   0        nonexistent  1.4         94.465         -41.8        \n",
       "5 999   0        nonexistent -0.1         93.200         -42.0        \n",
       "  euribor3m nr.employed y \n",
       "1 1.313     5099.1      no\n",
       "2 4.855     5191.0      no\n",
       "3 4.962     5228.1      no\n",
       "4 4.959     5228.1      no\n",
       "5 4.191     5195.8      no"
      ]
     },
     "metadata": {},
     "output_type": "display_data"
    },
    {
     "data": {
      "text/html": [
       "<ol class=list-inline>\n",
       "\t<li>4119</li>\n",
       "\t<li>21</li>\n",
       "</ol>\n"
      ],
      "text/latex": [
       "\\begin{enumerate*}\n",
       "\\item 4119\n",
       "\\item 21\n",
       "\\end{enumerate*}\n"
      ],
      "text/markdown": [
       "1. 4119\n",
       "2. 21\n",
       "\n",
       "\n"
      ],
      "text/plain": [
       "[1] 4119   21"
      ]
     },
     "metadata": {},
     "output_type": "display_data"
    }
   ],
   "source": [
    "indx<-apply(dat,2,function(x) any(is.na(x)))\n",
    "indx\n",
    "dat[1:5,1:12]\n",
    "dat[1:5,13:21]\n",
    "dim(dat)"
   ]
  },
  {
   "cell_type": "code",
   "execution_count": 4,
   "metadata": {
    "scrolled": false
   },
   "outputs": [
    {
     "data": {
      "image/png": "[encoded data removed]",
      "text/plain": [
       "plot without title"
      ]
     },
     "metadata": {},
     "output_type": "display_data"
    }
   ],
   "source": [
    "library(pastecs)\n",
    "library(ggplot2)\n",
    "library(dfexplore)\n",
    "# stat.desc(bank_additional_full_df)\n",
    "dfplot(dat)"
   ]
  },
  {
   "cell_type": "code",
   "execution_count": 5,
   "metadata": {},
   "outputs": [
    {
     "data": {
      "text/html": [
       "<ol class=list-inline>\n",
       "\t<li>'yes'</li>\n",
       "\t<li>'no'</li>\n",
       "</ol>\n"
      ],
      "text/latex": [
       "\\begin{enumerate*}\n",
       "\\item 'yes'\n",
       "\\item 'no'\n",
       "\\end{enumerate*}\n"
      ],
      "text/markdown": [
       "1. 'yes'\n",
       "2. 'no'\n",
       "\n",
       "\n"
      ],
      "text/plain": [
       "[1] \"yes\" \"no\" "
      ]
     },
     "metadata": {},
     "output_type": "display_data"
    },
    {
     "data": {
      "text/html": [
       "<ol class=list-inline>\n",
       "\t<li><span style=white-space:pre-wrap>'yes(10.95%)        '</span></li>\n",
       "\t<li><span style=white-space:pre-wrap>'no(89.05%)        '</span></li>\n",
       "</ol>\n"
      ],
      "text/latex": [
       "\\begin{enumerate*}\n",
       "\\item 'yes(10.95\\%)        '\n",
       "\\item 'no(89.05\\%)        '\n",
       "\\end{enumerate*}\n"
      ],
      "text/markdown": [
       "1. <span style=white-space:pre-wrap>'yes(10.95%)        '</span>\n",
       "2. <span style=white-space:pre-wrap>'no(89.05%)        '</span>\n",
       "\n",
       "\n"
      ],
      "text/plain": [
       "[1] \"yes(10.95%)        \" \"no(89.05%)        \" "
      ]
     },
     "metadata": {},
     "output_type": "display_data"
    },
    {
     "data": {
      "image/png": "[encoded data removed]",
      "text/plain": [
       "plot without title"
      ]
     },
     "metadata": {},
     "output_type": "display_data"
    }
   ],
   "source": [
    "library(ggplot2)\n",
    "dt=data.frame(A=c(sum(dat$y=='yes'),sum(dat$y=='no')),B=c('yes','no'))\n",
    "myLabel = as.vector(dt$B)   ## 转成向量，否则图例的标签可能与实际顺序不一致\n",
    "myLabel\n",
    "myLabel = paste(myLabel, \"(\", round(dt$A / sum(dt$A) * 100, 2), \"%)        \", sep = \"\")   ## 用 round() 对结果保留两位小数\n",
    "myLabel\n",
    "p <- ggplot(dt, aes(x = \"\", y = A, fill = B)) + \n",
    "  geom_bar(stat = \"identity\", width = 1) +    \n",
    "  coord_polar(theta = \"y\") + \n",
    "  labs(x = \"\", y = \"\", title = \"\") + \n",
    "  theme(axis.ticks = element_blank()) + \n",
    "  theme(legend.title = element_blank(), legend.position = \"top\") + \n",
    "  scale_fill_discrete(breaks = dt$B, labels = myLabel)   ## 将原来的图例标签换成现在的myLabel\n",
    "p+ggtitle('接受推销比例')\n"
   ]
  },
  {
   "cell_type": "code",
   "execution_count": 6,
   "metadata": {},
   "outputs": [
    {
     "name": "stderr",
     "output_type": "stream",
     "text": [
      "`stat_bin()` using `bins = 30`. Pick better value with `binwidth`.\n"
     ]
    },
    {
     "data": {
      "image/png": "[encoded data removed]",
      "text/plain": [
       "plot without title"
      ]
     },
     "metadata": {},
     "output_type": "display_data"
    }
   ],
   "source": [
    "p<-ggplot(dat)+geom_histogram(aes(x=emp.var.rate,fill=y))\n",
    "p+xlab('就业变动率')+ylab('数量')+ggtitle('就业变动率直方图')"
   ]
  },
  {
   "cell_type": "code",
   "execution_count": 7,
   "metadata": {},
   "outputs": [
    {
     "name": "stderr",
     "output_type": "stream",
     "text": [
      "`stat_bin()` using `bins = 30`. Pick better value with `binwidth`.\n"
     ]
    },
    {
     "data": {
      "image/png": "[encoded data removed]",
      "text/plain": [
       "plot without title"
      ]
     },
     "metadata": {},
     "output_type": "display_data"
    }
   ],
   "source": [
    "# previous属性直方图(联系次数)\n",
    "# pdf('img/img01.pdf',width=4,height=4)\n",
    "# theme(text = element_text(family='GB1'))\n",
    "p<-ggplot(dat)+geom_histogram(aes(x=previous,fill=y))\n",
    "p+xlab('联系一个客户的次数')+ylab('数量')+ggtitle('就业变动率直方图')\n",
    "# +  theme(text = element_text(family='GB1'))\n",
    "# dev.off()"
   ]
  },
  {
   "cell_type": "code",
   "execution_count": 8,
   "metadata": {},
   "outputs": [
    {
     "name": "stderr",
     "output_type": "stream",
     "text": [
      "Warning message:\n",
      "“Ignoring unknown aesthetics: width”`stat_bin()` using `bins = 30`. Pick better value with `binwidth`.\n"
     ]
    },
    {
     "data": {
      "image/png": "[encoded data removed]",
      "text/plain": [
       "plot without title"
      ]
     },
     "metadata": {},
     "output_type": "display_data"
    }
   ],
   "source": [
    "# previous属性直方图(联系次数)\n",
    "# pdf('img/img01.pdf',width=4,height=4)\n",
    "# theme(text = element_text(family='GB1'))\n",
    "p<-ggplot(dat)+geom_histogram(aes(x=age,width=1))\n",
    "p+xlab('年龄')+ylab('数量')+ggtitle('年龄分布')"
   ]
  },
  {
   "cell_type": "code",
   "execution_count": 9,
   "metadata": {},
   "outputs": [
    {
     "data": {
      "text/html": [
       "<dl class=dl-horizontal>\n",
       "\t<dt>nbr.val</dt>\n",
       "\t\t<dd>4119</dd>\n",
       "\t<dt>nbr.null</dt>\n",
       "\t\t<dd>1</dd>\n",
       "\t<dt>nbr.na</dt>\n",
       "\t\t<dd>0</dd>\n",
       "\t<dt>min</dt>\n",
       "\t\t<dd>0</dd>\n",
       "\t<dt>max</dt>\n",
       "\t\t<dd>60.7166666666667</dd>\n",
       "\t<dt>range</dt>\n",
       "\t\t<dd>60.7166666666667</dd>\n",
       "\t<dt>sum</dt>\n",
       "\t\t<dd>17628.5</dd>\n",
       "\t<dt>median</dt>\n",
       "\t\t<dd>3.01666666666667</dd>\n",
       "\t<dt>mean</dt>\n",
       "\t\t<dd>4.27980092255402</dd>\n",
       "\t<dt>SE.mean</dt>\n",
       "\t\t<dd>0.0661436518606795</dd>\n",
       "\t<dt>CI.mean.0.95</dt>\n",
       "\t\t<dd>0.129677290078325</dd>\n",
       "\t<dt>var</dt>\n",
       "\t\t<dd>18.0205536649616</dd>\n",
       "\t<dt>std.dev</dt>\n",
       "\t\t<dd>4.24506226867895</dd>\n",
       "\t<dt>coef.var</dt>\n",
       "\t\t<dd>0.991883114541145</dd>\n",
       "</dl>\n"
      ],
      "text/latex": [
       "\\begin{description*}\n",
       "\\item[nbr.val] 4119\n",
       "\\item[nbr.null] 1\n",
       "\\item[nbr.na] 0\n",
       "\\item[min] 0\n",
       "\\item[max] 60.7166666666667\n",
       "\\item[range] 60.7166666666667\n",
       "\\item[sum] 17628.5\n",
       "\\item[median] 3.01666666666667\n",
       "\\item[mean] 4.27980092255402\n",
       "\\item[SE.mean] 0.0661436518606795\n",
       "\\item[CI.mean.0.95] 0.129677290078325\n",
       "\\item[var] 18.0205536649616\n",
       "\\item[std.dev] 4.24506226867895\n",
       "\\item[coef.var] 0.991883114541145\n",
       "\\end{description*}\n"
      ],
      "text/markdown": [
       "nbr.val\n",
       ":   4119nbr.null\n",
       ":   1nbr.na\n",
       ":   0min\n",
       ":   0max\n",
       ":   60.7166666666667range\n",
       ":   60.7166666666667sum\n",
       ":   17628.5median\n",
       ":   3.01666666666667mean\n",
       ":   4.27980092255402SE.mean\n",
       ":   0.0661436518606795CI.mean.0.95\n",
       ":   0.129677290078325var\n",
       ":   18.0205536649616std.dev\n",
       ":   4.24506226867895coef.var\n",
       ":   0.991883114541145\n",
       "\n"
      ],
      "text/plain": [
       "     nbr.val     nbr.null       nbr.na          min          max        range \n",
       "4.119000e+03 1.000000e+00 0.000000e+00 0.000000e+00 6.071667e+01 6.071667e+01 \n",
       "         sum       median         mean      SE.mean CI.mean.0.95          var \n",
       "1.762850e+04 3.016667e+00 4.279801e+00 6.614365e-02 1.296773e-01 1.802055e+01 \n",
       "     std.dev     coef.var \n",
       "4.245062e+00 9.918831e-01 "
      ]
     },
     "metadata": {},
     "output_type": "display_data"
    },
    {
     "data": {
      "image/png": "[encoded data removed]",
      "text/plain": [
       "plot without title"
      ]
     },
     "metadata": {},
     "output_type": "display_data"
    }
   ],
   "source": [
    "library(pastecs)\n",
    "stat.desc(dat$duration/60)\n",
    "ggplot(dat, aes(x=duration)) + geom_density(colour='orange')"
   ]
  },
  {
   "cell_type": "code",
   "execution_count": 10,
   "metadata": {},
   "outputs": [
    {
     "data": {
      "image/png": "[encoded data removed]",
      "text/plain": [
       "plot without title"
      ]
     },
     "metadata": {},
     "output_type": "display_data"
    }
   ],
   "source": [
    "myfunc <- function(x){\n",
    "  sum(x=='yes')/length(x)\n",
    "}\n",
    "dat2<-dat\n",
    "dat2$duration[dat2$duration>1500]<-1500\n",
    "dat2$duration<-dat2$duration%/%30\n",
    "dur<-aggregate(dat2$y, by=list(dat2$duration),FUN=myfunc)\n",
    "library(ggplot2)\n",
    "# library(lubridate) \n",
    "p<-ggplot(data = dur, mapping = aes(x = Group.1, y = x, group = 1000)) + geom_line(\n",
    "    colour='red')\n",
    "p+xlab('电话持续时长(30s)')+ylab(\"接受产品比例\")+ggtitle('电话时间与接受比例折线图')"
   ]
  },
  {
   "cell_type": "code",
   "execution_count": 11,
   "metadata": {},
   "outputs": [
    {
     "data": {
      "text/html": [
       "<ol class=list-inline>\n",
       "\t<li>'age'</li>\n",
       "\t<li>'job'</li>\n",
       "\t<li>'marital'</li>\n",
       "\t<li>'education'</li>\n",
       "\t<li>'default'</li>\n",
       "\t<li>'housing'</li>\n",
       "\t<li>'loan'</li>\n",
       "\t<li>'contact'</li>\n",
       "\t<li>'month'</li>\n",
       "\t<li>'day_of_week'</li>\n",
       "\t<li>'duration'</li>\n",
       "\t<li>'campaign'</li>\n",
       "\t<li>'pdays'</li>\n",
       "\t<li>'previous'</li>\n",
       "\t<li>'poutcome'</li>\n",
       "\t<li>'emp.var.rate'</li>\n",
       "\t<li>'cons.price.idx'</li>\n",
       "\t<li>'cons.conf.idx'</li>\n",
       "\t<li>'euribor3m'</li>\n",
       "\t<li>'nr.employed'</li>\n",
       "\t<li>'y'</li>\n",
       "</ol>\n"
      ],
      "text/latex": [
       "\\begin{enumerate*}\n",
       "\\item 'age'\n",
       "\\item 'job'\n",
       "\\item 'marital'\n",
       "\\item 'education'\n",
       "\\item 'default'\n",
       "\\item 'housing'\n",
       "\\item 'loan'\n",
       "\\item 'contact'\n",
       "\\item 'month'\n",
       "\\item 'day\\_of\\_week'\n",
       "\\item 'duration'\n",
       "\\item 'campaign'\n",
       "\\item 'pdays'\n",
       "\\item 'previous'\n",
       "\\item 'poutcome'\n",
       "\\item 'emp.var.rate'\n",
       "\\item 'cons.price.idx'\n",
       "\\item 'cons.conf.idx'\n",
       "\\item 'euribor3m'\n",
       "\\item 'nr.employed'\n",
       "\\item 'y'\n",
       "\\end{enumerate*}\n"
      ],
      "text/markdown": [
       "1. 'age'\n",
       "2. 'job'\n",
       "3. 'marital'\n",
       "4. 'education'\n",
       "5. 'default'\n",
       "6. 'housing'\n",
       "7. 'loan'\n",
       "8. 'contact'\n",
       "9. 'month'\n",
       "10. 'day_of_week'\n",
       "11. 'duration'\n",
       "12. 'campaign'\n",
       "13. 'pdays'\n",
       "14. 'previous'\n",
       "15. 'poutcome'\n",
       "16. 'emp.var.rate'\n",
       "17. 'cons.price.idx'\n",
       "18. 'cons.conf.idx'\n",
       "19. 'euribor3m'\n",
       "20. 'nr.employed'\n",
       "21. 'y'\n",
       "\n",
       "\n"
      ],
      "text/plain": [
       " [1] \"age\"            \"job\"            \"marital\"        \"education\"     \n",
       " [5] \"default\"        \"housing\"        \"loan\"           \"contact\"       \n",
       " [9] \"month\"          \"day_of_week\"    \"duration\"       \"campaign\"      \n",
       "[13] \"pdays\"          \"previous\"       \"poutcome\"       \"emp.var.rate\"  \n",
       "[17] \"cons.price.idx\" \"cons.conf.idx\"  \"euribor3m\"      \"nr.employed\"   \n",
       "[21] \"y\"             "
      ]
     },
     "metadata": {},
     "output_type": "display_data"
    }
   ],
   "source": [
    "colnames(dat)"
   ]
  },
  {
   "cell_type": "code",
   "execution_count": 12,
   "metadata": {},
   "outputs": [
    {
     "data": {
      "text/html": [
       "<ol class=list-inline>\n",
       "\t<li>'age'</li>\n",
       "\t<li>'job'</li>\n",
       "\t<li>'marital'</li>\n",
       "\t<li>'education'</li>\n",
       "\t<li>'default'</li>\n",
       "\t<li>'housing'</li>\n",
       "\t<li>'loan'</li>\n",
       "\t<li>'contact'</li>\n",
       "\t<li>'month'</li>\n",
       "\t<li>'day_of_week'</li>\n",
       "\t<li>'campaign'</li>\n",
       "\t<li>'pdays'</li>\n",
       "\t<li>'previous'</li>\n",
       "\t<li>'poutcome'</li>\n",
       "\t<li>'emp.var.rate'</li>\n",
       "\t<li>'cons.price.idx'</li>\n",
       "\t<li>'cons.conf.idx'</li>\n",
       "\t<li>'euribor3m'</li>\n",
       "\t<li>'nr.employed'</li>\n",
       "\t<li>'y'</li>\n",
       "</ol>\n"
      ],
      "text/latex": [
       "\\begin{enumerate*}\n",
       "\\item 'age'\n",
       "\\item 'job'\n",
       "\\item 'marital'\n",
       "\\item 'education'\n",
       "\\item 'default'\n",
       "\\item 'housing'\n",
       "\\item 'loan'\n",
       "\\item 'contact'\n",
       "\\item 'month'\n",
       "\\item 'day\\_of\\_week'\n",
       "\\item 'campaign'\n",
       "\\item 'pdays'\n",
       "\\item 'previous'\n",
       "\\item 'poutcome'\n",
       "\\item 'emp.var.rate'\n",
       "\\item 'cons.price.idx'\n",
       "\\item 'cons.conf.idx'\n",
       "\\item 'euribor3m'\n",
       "\\item 'nr.employed'\n",
       "\\item 'y'\n",
       "\\end{enumerate*}\n"
      ],
      "text/markdown": [
       "1. 'age'\n",
       "2. 'job'\n",
       "3. 'marital'\n",
       "4. 'education'\n",
       "5. 'default'\n",
       "6. 'housing'\n",
       "7. 'loan'\n",
       "8. 'contact'\n",
       "9. 'month'\n",
       "10. 'day_of_week'\n",
       "11. 'campaign'\n",
       "12. 'pdays'\n",
       "13. 'previous'\n",
       "14. 'poutcome'\n",
       "15. 'emp.var.rate'\n",
       "16. 'cons.price.idx'\n",
       "17. 'cons.conf.idx'\n",
       "18. 'euribor3m'\n",
       "19. 'nr.employed'\n",
       "20. 'y'\n",
       "\n",
       "\n"
      ],
      "text/plain": [
       " [1] \"age\"            \"job\"            \"marital\"        \"education\"     \n",
       " [5] \"default\"        \"housing\"        \"loan\"           \"contact\"       \n",
       " [9] \"month\"          \"day_of_week\"    \"campaign\"       \"pdays\"         \n",
       "[13] \"previous\"       \"poutcome\"       \"emp.var.rate\"   \"cons.price.idx\"\n",
       "[17] \"cons.conf.idx\"  \"euribor3m\"      \"nr.employed\"    \"y\"             "
      ]
     },
     "metadata": {},
     "output_type": "display_data"
    }
   ],
   "source": [
    "dat_e<-dat[,-11]\n",
    "colnames(dat_e)"
   ]
  },
  {
   "cell_type": "code",
   "execution_count": 13,
   "metadata": {},
   "outputs": [
    {
     "name": "stderr",
     "output_type": "stream",
     "text": [
      "geom_path: Each group consists of only one observation. Do you need to adjust\n",
      "the group aesthetic?\n"
     ]
    },
    {
     "data": {
      "image/png": "[encoded data removed]",
      "text/plain": [
       "plot without title"
      ]
     },
     "metadata": {},
     "output_type": "display_data"
    },
    {
     "data": {
      "image/png": "[encoded data removed]",
      "text/plain": [
       "plot without title"
      ]
     },
     "metadata": {},
     "output_type": "display_data"
    }
   ],
   "source": [
    "library(ggplot2)\n",
    "myfunc <- function(x){\n",
    "  sum(x=='yes')/length(x)\n",
    "}\n",
    "\n",
    "dat2<-dat\n",
    "job<-aggregate(dat2$y, by=list(dat2$job),FUN=myfunc)\n",
    "library(ggplot2)\n",
    "# library(lubridate) \n",
    "\n",
    "ggplot(dat, aes(x=job,fill=y)) + geom_bar(stat=\"count\")\n",
    "\n",
    "p<-ggplot(data = job, mapping = aes(x = Group.1, y = x)) + geom_line(\n",
    "    colour='red')+geom_bar(stat='identity',fill='orange')\n",
    "p+xlab('工作')+ylab(\"接受产品比例\")+ggtitle('工作与接受比例比例图')\n"
   ]
  },
  {
   "cell_type": "code",
   "execution_count": 14,
   "metadata": {},
   "outputs": [
    {
     "name": "stderr",
     "output_type": "stream",
     "text": [
      "geom_path: Each group consists of only one observation. Do you need to adjust\n",
      "the group aesthetic?\n"
     ]
    },
    {
     "data": {
      "image/png": "[encoded data removed]",
      "text/plain": [
       "plot without title"
      ]
     },
     "metadata": {},
     "output_type": "display_data"
    },
    {
     "data": {
      "image/png": "[encoded data removed]",
      "text/plain": [
       "plot without title"
      ]
     },
     "metadata": {},
     "output_type": "display_data"
    }
   ],
   "source": [
    "library(ggplot2)\n",
    "myfunc <- function(x){\n",
    "  sum(x=='yes')/length(x)\n",
    "}\n",
    "\n",
    "dat2<-dat\n",
    "marital<-aggregate(dat2$y, by=list(dat2$marital),FUN=myfunc)\n",
    "library(ggplot2)\n",
    "# library(lubridate) \n",
    "\n",
    "ggplot(dat, aes(x=marital,fill=y)) + geom_bar(stat=\"count\")\n",
    "\n",
    "p<-ggplot(data = marital, mapping = aes(x = Group.1, y = x)) + geom_line(\n",
    "    colour='red')+geom_bar(stat='identity',fill='orange')\n",
    "p+xlab('婚姻状况')+ylab(\"接受产品比例\")+ggtitle('婚姻状况与接受比例图')\n"
   ]
  },
  {
   "cell_type": "code",
   "execution_count": 15,
   "metadata": {},
   "outputs": [
    {
     "name": "stderr",
     "output_type": "stream",
     "text": [
      "geom_path: Each group consists of only one observation. Do you need to adjust\n",
      "the group aesthetic?\n"
     ]
    },
    {
     "data": {
      "image/png": "[encoded data removed]",
      "text/plain": [
       "plot without title"
      ]
     },
     "metadata": {},
     "output_type": "display_data"
    },
    {
     "data": {
      "image/png": "[encoded data removed]",
      "text/plain": [
       "plot without title"
      ]
     },
     "metadata": {},
     "output_type": "display_data"
    }
   ],
   "source": [
    "library(ggplot2)\n",
    "myfunc <- function(x){\n",
    "  sum(x=='yes')/length(x)\n",
    "}\n",
    "\n",
    "dat2<-dat\n",
    "education<-aggregate(dat2$y, by=list(dat2$education),FUN=myfunc)\n",
    "library(ggplot2)\n",
    "# library(lubridate) \n",
    "\n",
    "ggplot(dat, aes(x=education,fill=y)) + geom_bar(stat=\"count\")\n",
    "\n",
    "p<-ggplot(data = education, mapping = aes(x = Group.1, y = x)) + geom_line(\n",
    "    colour='red')+geom_bar(stat='identity',fill='orange')\n",
    "p+xlab('教育状况')+ylab(\"接受产品比例\")+ggtitle('教育状况与接受比例图')\n"
   ]
  },
  {
   "cell_type": "code",
   "execution_count": 16,
   "metadata": {},
   "outputs": [
    {
     "data": {
      "text/html": [
       "<ol class=list-inline>\n",
       "\t<li>'age'</li>\n",
       "\t<li>'job'</li>\n",
       "\t<li>'marital'</li>\n",
       "\t<li>'education'</li>\n",
       "\t<li>'default'</li>\n",
       "\t<li>'housing'</li>\n",
       "\t<li>'loan'</li>\n",
       "\t<li>'contact'</li>\n",
       "\t<li>'month'</li>\n",
       "\t<li>'day_of_week'</li>\n",
       "\t<li>'duration'</li>\n",
       "\t<li>'campaign'</li>\n",
       "\t<li>'pdays'</li>\n",
       "\t<li>'previous'</li>\n",
       "\t<li>'poutcome'</li>\n",
       "\t<li>'emp.var.rate'</li>\n",
       "\t<li>'cons.price.idx'</li>\n",
       "\t<li>'cons.conf.idx'</li>\n",
       "\t<li>'euribor3m'</li>\n",
       "\t<li>'nr.employed'</li>\n",
       "\t<li>'y'</li>\n",
       "</ol>\n"
      ],
      "text/latex": [
       "\\begin{enumerate*}\n",
       "\\item 'age'\n",
       "\\item 'job'\n",
       "\\item 'marital'\n",
       "\\item 'education'\n",
       "\\item 'default'\n",
       "\\item 'housing'\n",
       "\\item 'loan'\n",
       "\\item 'contact'\n",
       "\\item 'month'\n",
       "\\item 'day\\_of\\_week'\n",
       "\\item 'duration'\n",
       "\\item 'campaign'\n",
       "\\item 'pdays'\n",
       "\\item 'previous'\n",
       "\\item 'poutcome'\n",
       "\\item 'emp.var.rate'\n",
       "\\item 'cons.price.idx'\n",
       "\\item 'cons.conf.idx'\n",
       "\\item 'euribor3m'\n",
       "\\item 'nr.employed'\n",
       "\\item 'y'\n",
       "\\end{enumerate*}\n"
      ],
      "text/markdown": [
       "1. 'age'\n",
       "2. 'job'\n",
       "3. 'marital'\n",
       "4. 'education'\n",
       "5. 'default'\n",
       "6. 'housing'\n",
       "7. 'loan'\n",
       "8. 'contact'\n",
       "9. 'month'\n",
       "10. 'day_of_week'\n",
       "11. 'duration'\n",
       "12. 'campaign'\n",
       "13. 'pdays'\n",
       "14. 'previous'\n",
       "15. 'poutcome'\n",
       "16. 'emp.var.rate'\n",
       "17. 'cons.price.idx'\n",
       "18. 'cons.conf.idx'\n",
       "19. 'euribor3m'\n",
       "20. 'nr.employed'\n",
       "21. 'y'\n",
       "\n",
       "\n"
      ],
      "text/plain": [
       " [1] \"age\"            \"job\"            \"marital\"        \"education\"     \n",
       " [5] \"default\"        \"housing\"        \"loan\"           \"contact\"       \n",
       " [9] \"month\"          \"day_of_week\"    \"duration\"       \"campaign\"      \n",
       "[13] \"pdays\"          \"previous\"       \"poutcome\"       \"emp.var.rate\"  \n",
       "[17] \"cons.price.idx\" \"cons.conf.idx\"  \"euribor3m\"      \"nr.employed\"   \n",
       "[21] \"y\"             "
      ]
     },
     "metadata": {},
     "output_type": "display_data"
    }
   ],
   "source": [
    "colnames(dat)"
   ]
  },
  {
   "cell_type": "code",
   "execution_count": 17,
   "metadata": {},
   "outputs": [
    {
     "data": {
      "text/html": [
       "<table>\n",
       "<caption>A matrix: 10 × 10 of type dbl</caption>\n",
       "<thead>\n",
       "\t<tr><th></th><th scope=col>age</th><th scope=col>duration</th><th scope=col>campaign</th><th scope=col>pdays</th><th scope=col>previous</th><th scope=col>emp.var.rate</th><th scope=col>cons.price.idx</th><th scope=col>cons.conf.idx</th><th scope=col>euribor3m</th><th scope=col>nr.employed</th></tr>\n",
       "</thead>\n",
       "<tbody>\n",
       "\t<tr><th scope=row>age</th><td> 1.0000000000</td><td> 0.04129858</td><td>-0.014169150</td><td>-0.04342483</td><td> 0.05093104</td><td>-0.01919176</td><td>-0.0004819963</td><td> 0.098135199</td><td>-0.01503288</td><td>-0.04193615</td></tr>\n",
       "\t<tr><th scope=row>duration</th><td> 0.0412985752</td><td> 1.00000000</td><td>-0.085348013</td><td>-0.04699821</td><td> 0.02572418</td><td>-0.02884831</td><td> 0.0166722553</td><td>-0.034744748</td><td>-0.03232899</td><td>-0.04421756</td></tr>\n",
       "\t<tr><th scope=row>campaign</th><td>-0.0141691499</td><td>-0.08534801</td><td> 1.000000000</td><td> 0.05874163</td><td>-0.09148987</td><td> 0.17607871</td><td> 0.1450207792</td><td> 0.007882403</td><td> 0.15943531</td><td> 0.16103686</td></tr>\n",
       "\t<tr><th scope=row>pdays</th><td>-0.0434248272</td><td>-0.04699821</td><td> 0.058741625</td><td> 1.00000000</td><td>-0.58794114</td><td> 0.27068388</td><td> 0.0584719199</td><td>-0.092089964</td><td> 0.30147800</td><td> 0.38198311</td></tr>\n",
       "\t<tr><th scope=row>previous</th><td> 0.0509310356</td><td> 0.02572418</td><td>-0.091489869</td><td>-0.58794114</td><td> 1.00000000</td><td>-0.41523813</td><td>-0.1649219571</td><td>-0.051420341</td><td>-0.45885135</td><td>-0.51485341</td></tr>\n",
       "\t<tr><th scope=row>emp.var.rate</th><td>-0.0191917634</td><td>-0.02884831</td><td> 0.176078710</td><td> 0.27068388</td><td>-0.41523813</td><td> 1.00000000</td><td> 0.7551545557</td><td> 0.195021904</td><td> 0.97030796</td><td> 0.89717322</td></tr>\n",
       "\t<tr><th scope=row>cons.price.idx</th><td>-0.0004819963</td><td> 0.01667226</td><td> 0.145020779</td><td> 0.05847192</td><td>-0.16492196</td><td> 0.75515456</td><td> 1.0000000000</td><td> 0.045834979</td><td> 0.65715937</td><td> 0.47255976</td></tr>\n",
       "\t<tr><th scope=row>cons.conf.idx</th><td> 0.0981351994</td><td>-0.03474475</td><td> 0.007882403</td><td>-0.09208996</td><td>-0.05142034</td><td> 0.19502190</td><td> 0.0458349788</td><td> 1.000000000</td><td> 0.27659517</td><td> 0.10705420</td></tr>\n",
       "\t<tr><th scope=row>euribor3m</th><td>-0.0150328845</td><td>-0.03232899</td><td> 0.159435309</td><td> 0.30147800</td><td>-0.45885135</td><td> 0.97030796</td><td> 0.6571593688</td><td> 0.276595165</td><td> 1.00000000</td><td> 0.94258928</td></tr>\n",
       "\t<tr><th scope=row>nr.employed</th><td>-0.0419361520</td><td>-0.04421756</td><td> 0.161036860</td><td> 0.38198311</td><td>-0.51485341</td><td> 0.89717322</td><td> 0.4725597632</td><td> 0.107054204</td><td> 0.94258928</td><td> 1.00000000</td></tr>\n",
       "</tbody>\n",
       "</table>\n"
      ],
      "text/latex": [
       "A matrix: 10 × 10 of type dbl\n",
       "\\begin{tabular}{r|llllllllll}\n",
       "  & age & duration & campaign & pdays & previous & emp.var.rate & cons.price.idx & cons.conf.idx & euribor3m & nr.employed\\\\\n",
       "\\hline\n",
       "\tage &  1.0000000000 &  0.04129858 & -0.014169150 & -0.04342483 &  0.05093104 & -0.01919176 & -0.0004819963 &  0.098135199 & -0.01503288 & -0.04193615\\\\\n",
       "\tduration &  0.0412985752 &  1.00000000 & -0.085348013 & -0.04699821 &  0.02572418 & -0.02884831 &  0.0166722553 & -0.034744748 & -0.03232899 & -0.04421756\\\\\n",
       "\tcampaign & -0.0141691499 & -0.08534801 &  1.000000000 &  0.05874163 & -0.09148987 &  0.17607871 &  0.1450207792 &  0.007882403 &  0.15943531 &  0.16103686\\\\\n",
       "\tpdays & -0.0434248272 & -0.04699821 &  0.058741625 &  1.00000000 & -0.58794114 &  0.27068388 &  0.0584719199 & -0.092089964 &  0.30147800 &  0.38198311\\\\\n",
       "\tprevious &  0.0509310356 &  0.02572418 & -0.091489869 & -0.58794114 &  1.00000000 & -0.41523813 & -0.1649219571 & -0.051420341 & -0.45885135 & -0.51485341\\\\\n",
       "\temp.var.rate & -0.0191917634 & -0.02884831 &  0.176078710 &  0.27068388 & -0.41523813 &  1.00000000 &  0.7551545557 &  0.195021904 &  0.97030796 &  0.89717322\\\\\n",
       "\tcons.price.idx & -0.0004819963 &  0.01667226 &  0.145020779 &  0.05847192 & -0.16492196 &  0.75515456 &  1.0000000000 &  0.045834979 &  0.65715937 &  0.47255976\\\\\n",
       "\tcons.conf.idx &  0.0981351994 & -0.03474475 &  0.007882403 & -0.09208996 & -0.05142034 &  0.19502190 &  0.0458349788 &  1.000000000 &  0.27659517 &  0.10705420\\\\\n",
       "\teuribor3m & -0.0150328845 & -0.03232899 &  0.159435309 &  0.30147800 & -0.45885135 &  0.97030796 &  0.6571593688 &  0.276595165 &  1.00000000 &  0.94258928\\\\\n",
       "\tnr.employed & -0.0419361520 & -0.04421756 &  0.161036860 &  0.38198311 & -0.51485341 &  0.89717322 &  0.4725597632 &  0.107054204 &  0.94258928 &  1.00000000\\\\\n",
       "\\end{tabular}\n"
      ],
      "text/markdown": [
       "\n",
       "A matrix: 10 × 10 of type dbl\n",
       "\n",
       "| <!--/--> | age | duration | campaign | pdays | previous | emp.var.rate | cons.price.idx | cons.conf.idx | euribor3m | nr.employed |\n",
       "|---|---|---|---|---|---|---|---|---|---|---|\n",
       "| age |  1.0000000000 |  0.04129858 | -0.014169150 | -0.04342483 |  0.05093104 | -0.01919176 | -0.0004819963 |  0.098135199 | -0.01503288 | -0.04193615 |\n",
       "| duration |  0.0412985752 |  1.00000000 | -0.085348013 | -0.04699821 |  0.02572418 | -0.02884831 |  0.0166722553 | -0.034744748 | -0.03232899 | -0.04421756 |\n",
       "| campaign | -0.0141691499 | -0.08534801 |  1.000000000 |  0.05874163 | -0.09148987 |  0.17607871 |  0.1450207792 |  0.007882403 |  0.15943531 |  0.16103686 |\n",
       "| pdays | -0.0434248272 | -0.04699821 |  0.058741625 |  1.00000000 | -0.58794114 |  0.27068388 |  0.0584719199 | -0.092089964 |  0.30147800 |  0.38198311 |\n",
       "| previous |  0.0509310356 |  0.02572418 | -0.091489869 | -0.58794114 |  1.00000000 | -0.41523813 | -0.1649219571 | -0.051420341 | -0.45885135 | -0.51485341 |\n",
       "| emp.var.rate | -0.0191917634 | -0.02884831 |  0.176078710 |  0.27068388 | -0.41523813 |  1.00000000 |  0.7551545557 |  0.195021904 |  0.97030796 |  0.89717322 |\n",
       "| cons.price.idx | -0.0004819963 |  0.01667226 |  0.145020779 |  0.05847192 | -0.16492196 |  0.75515456 |  1.0000000000 |  0.045834979 |  0.65715937 |  0.47255976 |\n",
       "| cons.conf.idx |  0.0981351994 | -0.03474475 |  0.007882403 | -0.09208996 | -0.05142034 |  0.19502190 |  0.0458349788 |  1.000000000 |  0.27659517 |  0.10705420 |\n",
       "| euribor3m | -0.0150328845 | -0.03232899 |  0.159435309 |  0.30147800 | -0.45885135 |  0.97030796 |  0.6571593688 |  0.276595165 |  1.00000000 |  0.94258928 |\n",
       "| nr.employed | -0.0419361520 | -0.04421756 |  0.161036860 |  0.38198311 | -0.51485341 |  0.89717322 |  0.4725597632 |  0.107054204 |  0.94258928 |  1.00000000 |\n",
       "\n"
      ],
      "text/plain": [
       "               age           duration    campaign     pdays       previous   \n",
       "age             1.0000000000  0.04129858 -0.014169150 -0.04342483  0.05093104\n",
       "duration        0.0412985752  1.00000000 -0.085348013 -0.04699821  0.02572418\n",
       "campaign       -0.0141691499 -0.08534801  1.000000000  0.05874163 -0.09148987\n",
       "pdays          -0.0434248272 -0.04699821  0.058741625  1.00000000 -0.58794114\n",
       "previous        0.0509310356  0.02572418 -0.091489869 -0.58794114  1.00000000\n",
       "emp.var.rate   -0.0191917634 -0.02884831  0.176078710  0.27068388 -0.41523813\n",
       "cons.price.idx -0.0004819963  0.01667226  0.145020779  0.05847192 -0.16492196\n",
       "cons.conf.idx   0.0981351994 -0.03474475  0.007882403 -0.09208996 -0.05142034\n",
       "euribor3m      -0.0150328845 -0.03232899  0.159435309  0.30147800 -0.45885135\n",
       "nr.employed    -0.0419361520 -0.04421756  0.161036860  0.38198311 -0.51485341\n",
       "               emp.var.rate cons.price.idx cons.conf.idx euribor3m  \n",
       "age            -0.01919176  -0.0004819963   0.098135199  -0.01503288\n",
       "duration       -0.02884831   0.0166722553  -0.034744748  -0.03232899\n",
       "campaign        0.17607871   0.1450207792   0.007882403   0.15943531\n",
       "pdays           0.27068388   0.0584719199  -0.092089964   0.30147800\n",
       "previous       -0.41523813  -0.1649219571  -0.051420341  -0.45885135\n",
       "emp.var.rate    1.00000000   0.7551545557   0.195021904   0.97030796\n",
       "cons.price.idx  0.75515456   1.0000000000   0.045834979   0.65715937\n",
       "cons.conf.idx   0.19502190   0.0458349788   1.000000000   0.27659517\n",
       "euribor3m       0.97030796   0.6571593688   0.276595165   1.00000000\n",
       "nr.employed     0.89717322   0.4725597632   0.107054204   0.94258928\n",
       "               nr.employed\n",
       "age            -0.04193615\n",
       "duration       -0.04421756\n",
       "campaign        0.16103686\n",
       "pdays           0.38198311\n",
       "previous       -0.51485341\n",
       "emp.var.rate    0.89717322\n",
       "cons.price.idx  0.47255976\n",
       "cons.conf.idx   0.10705420\n",
       "euribor3m       0.94258928\n",
       "nr.employed     1.00000000"
      ]
     },
     "metadata": {},
     "output_type": "display_data"
    }
   ],
   "source": [
    "dat_num<-dat[,c('y','age','duration','campaign','pdays','previous',\n",
    "                'emp.var.rate','cons.price.idx','cons.conf.idx',\n",
    "                'euribor3m','nr.employed')]\n",
    "cor(dat_num[,-1])"
   ]
  },
  {
   "cell_type": "code",
   "execution_count": 18,
   "metadata": {},
   "outputs": [
    {
     "data": {
      "text/html": [
       "<table>\n",
       "<caption>A data.frame: 6 × 11</caption>\n",
       "<thead>\n",
       "\t<tr><th scope=col>y</th><th scope=col>job</th><th scope=col>marital</th><th scope=col>education</th><th scope=col>default</th><th scope=col>housing</th><th scope=col>loan</th><th scope=col>contact</th><th scope=col>month</th><th scope=col>day_of_week</th><th scope=col>poutcome</th></tr>\n",
       "\t<tr><th scope=col>&lt;chr&gt;</th><th scope=col>&lt;fct&gt;</th><th scope=col>&lt;fct&gt;</th><th scope=col>&lt;fct&gt;</th><th scope=col>&lt;fct&gt;</th><th scope=col>&lt;fct&gt;</th><th scope=col>&lt;fct&gt;</th><th scope=col>&lt;fct&gt;</th><th scope=col>&lt;fct&gt;</th><th scope=col>&lt;fct&gt;</th><th scope=col>&lt;fct&gt;</th></tr>\n",
       "</thead>\n",
       "<tbody>\n",
       "\t<tr><td>0</td><td>blue-collar</td><td>married</td><td>basic.9y         </td><td>no</td><td>yes    </td><td>no     </td><td>cellular </td><td>may</td><td>fri</td><td>nonexistent</td></tr>\n",
       "\t<tr><td>0</td><td>services   </td><td>single </td><td>high.school      </td><td>no</td><td>no     </td><td>no     </td><td>telephone</td><td>may</td><td>fri</td><td>nonexistent</td></tr>\n",
       "\t<tr><td>0</td><td>services   </td><td>married</td><td>high.school      </td><td>no</td><td>yes    </td><td>no     </td><td>telephone</td><td>jun</td><td>wed</td><td>nonexistent</td></tr>\n",
       "\t<tr><td>0</td><td>services   </td><td>married</td><td>basic.9y         </td><td>no</td><td>unknown</td><td>unknown</td><td>telephone</td><td>jun</td><td>fri</td><td>nonexistent</td></tr>\n",
       "\t<tr><td>0</td><td>admin.     </td><td>married</td><td>university.degree</td><td>no</td><td>yes    </td><td>no     </td><td>cellular </td><td>nov</td><td>mon</td><td>nonexistent</td></tr>\n",
       "\t<tr><td>0</td><td>services   </td><td>single </td><td>university.degree</td><td>no</td><td>no     </td><td>no     </td><td>cellular </td><td>sep</td><td>thu</td><td>failure    </td></tr>\n",
       "</tbody>\n",
       "</table>\n"
      ],
      "text/latex": [
       "A data.frame: 6 × 11\n",
       "\\begin{tabular}{r|lllllllllll}\n",
       " y & job & marital & education & default & housing & loan & contact & month & day\\_of\\_week & poutcome\\\\\n",
       " <chr> & <fct> & <fct> & <fct> & <fct> & <fct> & <fct> & <fct> & <fct> & <fct> & <fct>\\\\\n",
       "\\hline\n",
       "\t 0 & blue-collar & married & basic.9y          & no & yes     & no      & cellular  & may & fri & nonexistent\\\\\n",
       "\t 0 & services    & single  & high.school       & no & no      & no      & telephone & may & fri & nonexistent\\\\\n",
       "\t 0 & services    & married & high.school       & no & yes     & no      & telephone & jun & wed & nonexistent\\\\\n",
       "\t 0 & services    & married & basic.9y          & no & unknown & unknown & telephone & jun & fri & nonexistent\\\\\n",
       "\t 0 & admin.      & married & university.degree & no & yes     & no      & cellular  & nov & mon & nonexistent\\\\\n",
       "\t 0 & services    & single  & university.degree & no & no      & no      & cellular  & sep & thu & failure    \\\\\n",
       "\\end{tabular}\n"
      ],
      "text/markdown": [
       "\n",
       "A data.frame: 6 × 11\n",
       "\n",
       "| y &lt;chr&gt; | job &lt;fct&gt; | marital &lt;fct&gt; | education &lt;fct&gt; | default &lt;fct&gt; | housing &lt;fct&gt; | loan &lt;fct&gt; | contact &lt;fct&gt; | month &lt;fct&gt; | day_of_week &lt;fct&gt; | poutcome &lt;fct&gt; |\n",
       "|---|---|---|---|---|---|---|---|---|---|---|\n",
       "| 0 | blue-collar | married | basic.9y          | no | yes     | no      | cellular  | may | fri | nonexistent |\n",
       "| 0 | services    | single  | high.school       | no | no      | no      | telephone | may | fri | nonexistent |\n",
       "| 0 | services    | married | high.school       | no | yes     | no      | telephone | jun | wed | nonexistent |\n",
       "| 0 | services    | married | basic.9y          | no | unknown | unknown | telephone | jun | fri | nonexistent |\n",
       "| 0 | admin.      | married | university.degree | no | yes     | no      | cellular  | nov | mon | nonexistent |\n",
       "| 0 | services    | single  | university.degree | no | no      | no      | cellular  | sep | thu | failure     |\n",
       "\n"
      ],
      "text/plain": [
       "  y job         marital education         default housing loan    contact  \n",
       "1 0 blue-collar married basic.9y          no      yes     no      cellular \n",
       "2 0 services    single  high.school       no      no      no      telephone\n",
       "3 0 services    married high.school       no      yes     no      telephone\n",
       "4 0 services    married basic.9y          no      unknown unknown telephone\n",
       "5 0 admin.      married university.degree no      yes     no      cellular \n",
       "6 0 services    single  university.degree no      no      no      cellular \n",
       "  month day_of_week poutcome   \n",
       "1 may   fri         nonexistent\n",
       "2 may   fri         nonexistent\n",
       "3 jun   wed         nonexistent\n",
       "4 jun   fri         nonexistent\n",
       "5 nov   mon         nonexistent\n",
       "6 sep   thu         failure    "
      ]
     },
     "metadata": {},
     "output_type": "display_data"
    },
    {
     "name": "stdout",
     "output_type": "stream",
     "text": [
      "[1] \"job\"\n",
      "[1] 0.1586\n",
      "attr(,\"howgood\")\n",
      "[1] \"Highly Predictive\"\n",
      "\n",
      "[1] \"marital\"\n",
      "[1] 0.02434\n",
      "attr(,\"howgood\")\n",
      "[1] \"Not Predictive\"\n",
      "\n",
      "[1] \"education\"\n",
      "[1] 0.06159\n",
      "attr(,\"howgood\")\n",
      "[1] \"Somewhat Predictive\"\n",
      "\n",
      "[1] \"default\"\n",
      "[1] 0.07701\n",
      "attr(,\"howgood\")\n",
      "[1] \"Somewhat Predictive\"\n",
      "\n",
      "[1] \"housing\"\n",
      "[1] 0.001732\n",
      "attr(,\"howgood\")\n",
      "[1] \"Not Predictive\"\n",
      "\n",
      "[1] \"loan\"\n",
      "[1] 0.003006\n",
      "attr(,\"howgood\")\n",
      "[1] \"Not Predictive\"\n",
      "\n",
      "[1] \"contact\"\n",
      "[1] 0.2325\n",
      "attr(,\"howgood\")\n",
      "[1] \"Highly Predictive\"\n",
      "\n",
      "[1] \"month\"\n",
      "[1] 0.463\n",
      "attr(,\"howgood\")\n",
      "[1] \"Highly Predictive\"\n",
      "\n",
      "[1] \"day_of_week\"\n",
      "[1] 0.001274\n",
      "attr(,\"howgood\")\n",
      "[1] \"Not Predictive\"\n",
      "\n",
      "[1] \"poutcome\"\n",
      "[1] 0.6016\n",
      "attr(,\"howgood\")\n",
      "[1] \"Highly Predictive\"\n",
      "\n"
     ]
    }
   ],
   "source": [
    "library(InformationValue)\n",
    "dat_cat<-dat[,c('y','job','marital','education','default','housing',\n",
    "               'loan','contact','month','day_of_week','poutcome')]\n",
    "options(scipen = 999, digits = 4)\n",
    "\n",
    "dat_cat$y<-as.vector(dat_cat$y)\n",
    "dat_cat$y[dat_cat$y=='yes']<-'1'\n",
    "dat_cat$y[dat_cat$y=='no']<-'0'\n",
    "head(dat_cat)\n",
    "i<-1\n",
    "for(col in dat_cat[-1]){\n",
    "    i<-i+1\n",
    "    print(colnames(dat_cat)[i])\n",
    "    print(IV(X=col,Y=dat_cat$y))\n",
    "    cat('\\n')\n",
    "}\n",
    "#     \n",
    "# print(\"教育 IV\")"
   ]
  },
  {
   "cell_type": "code",
   "execution_count": 19,
   "metadata": {},
   "outputs": [
    {
     "data": {
      "text/html": [
       "<table>\n",
       "<caption>A data.frame: 6 × 21</caption>\n",
       "<thead>\n",
       "\t<tr><th scope=col>y</th><th scope=col>job</th><th scope=col>marital</th><th scope=col>education</th><th scope=col>default</th><th scope=col>housing</th><th scope=col>loan</th><th scope=col>contact</th><th scope=col>month</th><th scope=col>day_of_week</th><th scope=col>⋯</th><th scope=col>age</th><th scope=col>duration</th><th scope=col>campaign</th><th scope=col>pdays</th><th scope=col>previous</th><th scope=col>emp.var.rate</th><th scope=col>cons.price.idx</th><th scope=col>cons.conf.idx</th><th scope=col>euribor3m</th><th scope=col>nr.employed</th></tr>\n",
       "\t<tr><th scope=col>&lt;fct&gt;</th><th scope=col>&lt;fct&gt;</th><th scope=col>&lt;fct&gt;</th><th scope=col>&lt;fct&gt;</th><th scope=col>&lt;fct&gt;</th><th scope=col>&lt;fct&gt;</th><th scope=col>&lt;fct&gt;</th><th scope=col>&lt;fct&gt;</th><th scope=col>&lt;fct&gt;</th><th scope=col>&lt;fct&gt;</th><th scope=col>⋯</th><th scope=col>&lt;int&gt;</th><th scope=col>&lt;int&gt;</th><th scope=col>&lt;int&gt;</th><th scope=col>&lt;int&gt;</th><th scope=col>&lt;int&gt;</th><th scope=col>&lt;dbl&gt;</th><th scope=col>&lt;dbl&gt;</th><th scope=col>&lt;dbl&gt;</th><th scope=col>&lt;dbl&gt;</th><th scope=col>&lt;dbl&gt;</th></tr>\n",
       "</thead>\n",
       "<tbody>\n",
       "\t<tr><td>0</td><td>blue-collar</td><td>married</td><td>basic.9y         </td><td>no</td><td>yes    </td><td>no     </td><td>cellular </td><td>may</td><td>fri</td><td>⋯</td><td>30</td><td>487</td><td>2</td><td>999</td><td>0</td><td>-1.8</td><td>92.89</td><td>-46.2</td><td>1.313</td><td>5099</td></tr>\n",
       "\t<tr><td>0</td><td>services   </td><td>single </td><td>high.school      </td><td>no</td><td>no     </td><td>no     </td><td>telephone</td><td>may</td><td>fri</td><td>⋯</td><td>39</td><td>346</td><td>4</td><td>999</td><td>0</td><td> 1.1</td><td>93.99</td><td>-36.4</td><td>4.855</td><td>5191</td></tr>\n",
       "\t<tr><td>0</td><td>services   </td><td>married</td><td>high.school      </td><td>no</td><td>yes    </td><td>no     </td><td>telephone</td><td>jun</td><td>wed</td><td>⋯</td><td>25</td><td>227</td><td>1</td><td>999</td><td>0</td><td> 1.4</td><td>94.47</td><td>-41.8</td><td>4.962</td><td>5228</td></tr>\n",
       "\t<tr><td>0</td><td>services   </td><td>married</td><td>basic.9y         </td><td>no</td><td>unknown</td><td>unknown</td><td>telephone</td><td>jun</td><td>fri</td><td>⋯</td><td>38</td><td> 17</td><td>3</td><td>999</td><td>0</td><td> 1.4</td><td>94.47</td><td>-41.8</td><td>4.959</td><td>5228</td></tr>\n",
       "\t<tr><td>0</td><td>admin.     </td><td>married</td><td>university.degree</td><td>no</td><td>yes    </td><td>no     </td><td>cellular </td><td>nov</td><td>mon</td><td>⋯</td><td>47</td><td> 58</td><td>1</td><td>999</td><td>0</td><td>-0.1</td><td>93.20</td><td>-42.0</td><td>4.191</td><td>5196</td></tr>\n",
       "\t<tr><td>0</td><td>services   </td><td>single </td><td>university.degree</td><td>no</td><td>no     </td><td>no     </td><td>cellular </td><td>sep</td><td>thu</td><td>⋯</td><td>32</td><td>128</td><td>3</td><td>999</td><td>2</td><td>-1.1</td><td>94.20</td><td>-37.5</td><td>0.884</td><td>4964</td></tr>\n",
       "</tbody>\n",
       "</table>\n"
      ],
      "text/latex": [
       "A data.frame: 6 × 21\n",
       "\\begin{tabular}{r|lllllllllllllllllllll}\n",
       " y & job & marital & education & default & housing & loan & contact & month & day\\_of\\_week & poutcome & age & duration & campaign & pdays & previous & emp.var.rate & cons.price.idx & cons.conf.idx & euribor3m & nr.employed\\\\\n",
       " <fct> & <fct> & <fct> & <fct> & <fct> & <fct> & <fct> & <fct> & <fct> & <fct> & <fct> & <int> & <int> & <int> & <int> & <int> & <dbl> & <dbl> & <dbl> & <dbl> & <dbl>\\\\\n",
       "\\hline\n",
       "\t 0 & blue-collar & married & basic.9y          & no & yes     & no      & cellular  & may & fri & nonexistent & 30 & 487 & 2 & 999 & 0 & -1.8 & 92.89 & -46.2 & 1.313 & 5099\\\\\n",
       "\t 0 & services    & single  & high.school       & no & no      & no      & telephone & may & fri & nonexistent & 39 & 346 & 4 & 999 & 0 &  1.1 & 93.99 & -36.4 & 4.855 & 5191\\\\\n",
       "\t 0 & services    & married & high.school       & no & yes     & no      & telephone & jun & wed & nonexistent & 25 & 227 & 1 & 999 & 0 &  1.4 & 94.47 & -41.8 & 4.962 & 5228\\\\\n",
       "\t 0 & services    & married & basic.9y          & no & unknown & unknown & telephone & jun & fri & nonexistent & 38 &  17 & 3 & 999 & 0 &  1.4 & 94.47 & -41.8 & 4.959 & 5228\\\\\n",
       "\t 0 & admin.      & married & university.degree & no & yes     & no      & cellular  & nov & mon & nonexistent & 47 &  58 & 1 & 999 & 0 & -0.1 & 93.20 & -42.0 & 4.191 & 5196\\\\\n",
       "\t 0 & services    & single  & university.degree & no & no      & no      & cellular  & sep & thu & failure     & 32 & 128 & 3 & 999 & 2 & -1.1 & 94.20 & -37.5 & 0.884 & 4964\\\\\n",
       "\\end{tabular}\n"
      ],
      "text/markdown": [
       "\n",
       "A data.frame: 6 × 21\n",
       "\n",
       "| y &lt;fct&gt; | job &lt;fct&gt; | marital &lt;fct&gt; | education &lt;fct&gt; | default &lt;fct&gt; | housing &lt;fct&gt; | loan &lt;fct&gt; | contact &lt;fct&gt; | month &lt;fct&gt; | day_of_week &lt;fct&gt; | ⋯ ⋯ | age &lt;int&gt; | duration &lt;int&gt; | campaign &lt;int&gt; | pdays &lt;int&gt; | previous &lt;int&gt; | emp.var.rate &lt;dbl&gt; | cons.price.idx &lt;dbl&gt; | cons.conf.idx &lt;dbl&gt; | euribor3m &lt;dbl&gt; | nr.employed &lt;dbl&gt; |\n",
       "|---|---|---|---|---|---|---|---|---|---|---|---|---|---|---|---|---|---|---|---|---|\n",
       "| 0 | blue-collar | married | basic.9y          | no | yes     | no      | cellular  | may | fri | ⋯ | 30 | 487 | 2 | 999 | 0 | -1.8 | 92.89 | -46.2 | 1.313 | 5099 |\n",
       "| 0 | services    | single  | high.school       | no | no      | no      | telephone | may | fri | ⋯ | 39 | 346 | 4 | 999 | 0 |  1.1 | 93.99 | -36.4 | 4.855 | 5191 |\n",
       "| 0 | services    | married | high.school       | no | yes     | no      | telephone | jun | wed | ⋯ | 25 | 227 | 1 | 999 | 0 |  1.4 | 94.47 | -41.8 | 4.962 | 5228 |\n",
       "| 0 | services    | married | basic.9y          | no | unknown | unknown | telephone | jun | fri | ⋯ | 38 |  17 | 3 | 999 | 0 |  1.4 | 94.47 | -41.8 | 4.959 | 5228 |\n",
       "| 0 | admin.      | married | university.degree | no | yes     | no      | cellular  | nov | mon | ⋯ | 47 |  58 | 1 | 999 | 0 | -0.1 | 93.20 | -42.0 | 4.191 | 5196 |\n",
       "| 0 | services    | single  | university.degree | no | no      | no      | cellular  | sep | thu | ⋯ | 32 | 128 | 3 | 999 | 2 | -1.1 | 94.20 | -37.5 | 0.884 | 4964 |\n",
       "\n"
      ],
      "text/plain": [
       "  y job         marital education         default housing loan    contact  \n",
       "1 0 blue-collar married basic.9y          no      yes     no      cellular \n",
       "2 0 services    single  high.school       no      no      no      telephone\n",
       "3 0 services    married high.school       no      yes     no      telephone\n",
       "4 0 services    married basic.9y          no      unknown unknown telephone\n",
       "5 0 admin.      married university.degree no      yes     no      cellular \n",
       "6 0 services    single  university.degree no      no      no      cellular \n",
       "  month day_of_week ⋯ age duration campaign pdays previous emp.var.rate\n",
       "1 may   fri         ⋯ 30  487      2        999   0        -1.8        \n",
       "2 may   fri         ⋯ 39  346      4        999   0         1.1        \n",
       "3 jun   wed         ⋯ 25  227      1        999   0         1.4        \n",
       "4 jun   fri         ⋯ 38   17      3        999   0         1.4        \n",
       "5 nov   mon         ⋯ 47   58      1        999   0        -0.1        \n",
       "6 sep   thu         ⋯ 32  128      3        999   2        -1.1        \n",
       "  cons.price.idx cons.conf.idx euribor3m nr.employed\n",
       "1 92.89          -46.2         1.313     5099       \n",
       "2 93.99          -36.4         4.855     5191       \n",
       "3 94.47          -41.8         4.962     5228       \n",
       "4 94.47          -41.8         4.959     5228       \n",
       "5 93.20          -42.0         4.191     5196       \n",
       "6 94.20          -37.5         0.884     4964       "
      ]
     },
     "metadata": {},
     "output_type": "display_data"
    },
    {
     "name": "stdout",
     "output_type": "stream",
     "text": [
      "'data.frame':\t4119 obs. of  21 variables:\n",
      " $ y             : Factor w/ 2 levels \"0\",\"1\": 1 1 1 1 1 1 1 1 1 1 ...\n",
      " $ job           : Factor w/ 12 levels \"admin.\",\"blue-collar\",..: 2 8 8 8 1 8 1 3 8 2 ...\n",
      " $ marital       : Factor w/ 4 levels \"divorced\",\"married\",..: 2 3 2 2 2 3 3 2 1 2 ...\n",
      " $ education     : Factor w/ 8 levels \"basic.4y\",\"basic.6y\",..: 3 4 4 3 7 7 7 7 6 3 ...\n",
      " $ default       : Factor w/ 3 levels \"no\",\"unknown\",..: 1 1 1 1 1 1 1 2 1 2 ...\n",
      " $ housing       : Factor w/ 3 levels \"no\",\"unknown\",..: 3 1 3 2 3 1 3 3 1 1 ...\n",
      " $ loan          : Factor w/ 3 levels \"no\",\"unknown\",..: 1 1 1 2 1 1 1 1 1 1 ...\n",
      " $ contact       : Factor w/ 2 levels \"cellular\",\"telephone\": 1 2 2 2 1 1 1 1 1 2 ...\n",
      " $ month         : Factor w/ 10 levels \"apr\",\"aug\",\"dec\",..: 7 7 5 5 8 10 10 8 8 7 ...\n",
      " $ day_of_week   : Factor w/ 5 levels \"fri\",\"mon\",\"thu\",..: 1 1 5 1 2 3 2 2 4 3 ...\n",
      " $ poutcome      : Factor w/ 3 levels \"failure\",\"nonexistent\",..: 2 2 2 2 2 1 2 2 1 2 ...\n",
      " $ age           : int  30 39 25 38 47 32 32 41 31 35 ...\n",
      " $ duration      : int  487 346 227 17 58 128 290 44 68 170 ...\n",
      " $ campaign      : int  2 4 1 3 1 3 4 2 1 1 ...\n",
      " $ pdays         : int  999 999 999 999 999 999 999 999 999 999 ...\n",
      " $ previous      : int  0 0 0 0 0 2 0 0 1 0 ...\n",
      " $ emp.var.rate  : num  -1.8 1.1 1.4 1.4 -0.1 -1.1 -1.1 -0.1 -0.1 1.1 ...\n",
      " $ cons.price.idx: num  92.9 94 94.5 94.5 93.2 ...\n",
      " $ cons.conf.idx : num  -46.2 -36.4 -41.8 -41.8 -42 -37.5 -37.5 -42 -42 -36.4 ...\n",
      " $ euribor3m     : num  1.31 4.86 4.96 4.96 4.19 ...\n",
      " $ nr.employed   : num  5099 5191 5228 5228 5196 ...\n"
     ]
    }
   ],
   "source": [
    "train<-data.frame(dat_cat,dat_num[,-1])\n",
    "train$y<-as.factor(train$y)\n",
    "head(train)\n",
    "str(train)"
   ]
  },
  {
   "cell_type": "code",
   "execution_count": 20,
   "metadata": {},
   "outputs": [
    {
     "name": "stderr",
     "output_type": "stream",
     "text": [
      "\n",
      "Attaching package: ‘caret’\n",
      "\n",
      "The following objects are masked from ‘package:InformationValue’:\n",
      "\n",
      "    confusionMatrix, precision, sensitivity, specificity\n",
      "\n"
     ]
    },
    {
     "data": {
      "text/html": [
       "<ol class=list-inline>\n",
       "\t<li>'yes'</li>\n",
       "\t<li>'no'</li>\n",
       "</ol>\n"
      ],
      "text/latex": [
       "\\begin{enumerate*}\n",
       "\\item 'yes'\n",
       "\\item 'no'\n",
       "\\end{enumerate*}\n"
      ],
      "text/markdown": [
       "1. 'yes'\n",
       "2. 'no'\n",
       "\n",
       "\n"
      ],
      "text/plain": [
       "[1] \"yes\" \"no\" "
      ]
     },
     "metadata": {},
     "output_type": "display_data"
    }
   ],
   "source": [
    "library(lattice)\n",
    "library(caret)\n",
    "train2<-train\n",
    "train2$y<-as.vector(train2$y)\n",
    "train2$y[train2$y==\"0\"]<-'no'\n",
    "train2$y[train2$y==\"1\"]<-'yes'\n",
    "train2$y<-factor(train2$y,levels=c('yes','no'))\n",
    "levels(train2$y)\n",
    "train<-train2"
   ]
  },
  {
   "cell_type": "code",
   "execution_count": 21,
   "metadata": {},
   "outputs": [
    {
     "data": {
      "text/html": [
       "<table>\n",
       "<caption>A data.frame: 6 × 21</caption>\n",
       "<thead>\n",
       "\t<tr><th scope=col>y</th><th scope=col>job</th><th scope=col>marital</th><th scope=col>education</th><th scope=col>default</th><th scope=col>housing</th><th scope=col>loan</th><th scope=col>contact</th><th scope=col>month</th><th scope=col>day_of_week</th><th scope=col>⋯</th><th scope=col>age</th><th scope=col>duration</th><th scope=col>campaign</th><th scope=col>pdays</th><th scope=col>previous</th><th scope=col>emp.var.rate</th><th scope=col>cons.price.idx</th><th scope=col>cons.conf.idx</th><th scope=col>euribor3m</th><th scope=col>nr.employed</th></tr>\n",
       "\t<tr><th scope=col>&lt;fct&gt;</th><th scope=col>&lt;fct&gt;</th><th scope=col>&lt;fct&gt;</th><th scope=col>&lt;fct&gt;</th><th scope=col>&lt;fct&gt;</th><th scope=col>&lt;fct&gt;</th><th scope=col>&lt;fct&gt;</th><th scope=col>&lt;fct&gt;</th><th scope=col>&lt;fct&gt;</th><th scope=col>&lt;fct&gt;</th><th scope=col>⋯</th><th scope=col>&lt;int&gt;</th><th scope=col>&lt;int&gt;</th><th scope=col>&lt;int&gt;</th><th scope=col>&lt;int&gt;</th><th scope=col>&lt;int&gt;</th><th scope=col>&lt;dbl&gt;</th><th scope=col>&lt;dbl&gt;</th><th scope=col>&lt;dbl&gt;</th><th scope=col>&lt;dbl&gt;</th><th scope=col>&lt;dbl&gt;</th></tr>\n",
       "</thead>\n",
       "<tbody>\n",
       "\t<tr><td>no</td><td>blue-collar</td><td>married</td><td>basic.9y         </td><td>no</td><td>yes    </td><td>no     </td><td>cellular </td><td>may</td><td>fri</td><td>⋯</td><td>30</td><td>487</td><td>2</td><td>999</td><td>0</td><td>-1.8</td><td>92.89</td><td>-46.2</td><td>1.313</td><td>5099</td></tr>\n",
       "\t<tr><td>no</td><td>services   </td><td>single </td><td>high.school      </td><td>no</td><td>no     </td><td>no     </td><td>telephone</td><td>may</td><td>fri</td><td>⋯</td><td>39</td><td>346</td><td>4</td><td>999</td><td>0</td><td> 1.1</td><td>93.99</td><td>-36.4</td><td>4.855</td><td>5191</td></tr>\n",
       "\t<tr><td>no</td><td>services   </td><td>married</td><td>high.school      </td><td>no</td><td>yes    </td><td>no     </td><td>telephone</td><td>jun</td><td>wed</td><td>⋯</td><td>25</td><td>227</td><td>1</td><td>999</td><td>0</td><td> 1.4</td><td>94.47</td><td>-41.8</td><td>4.962</td><td>5228</td></tr>\n",
       "\t<tr><td>no</td><td>services   </td><td>married</td><td>basic.9y         </td><td>no</td><td>unknown</td><td>unknown</td><td>telephone</td><td>jun</td><td>fri</td><td>⋯</td><td>38</td><td> 17</td><td>3</td><td>999</td><td>0</td><td> 1.4</td><td>94.47</td><td>-41.8</td><td>4.959</td><td>5228</td></tr>\n",
       "\t<tr><td>no</td><td>admin.     </td><td>married</td><td>university.degree</td><td>no</td><td>yes    </td><td>no     </td><td>cellular </td><td>nov</td><td>mon</td><td>⋯</td><td>47</td><td> 58</td><td>1</td><td>999</td><td>0</td><td>-0.1</td><td>93.20</td><td>-42.0</td><td>4.191</td><td>5196</td></tr>\n",
       "\t<tr><td>no</td><td>services   </td><td>single </td><td>university.degree</td><td>no</td><td>no     </td><td>no     </td><td>cellular </td><td>sep</td><td>thu</td><td>⋯</td><td>32</td><td>128</td><td>3</td><td>999</td><td>2</td><td>-1.1</td><td>94.20</td><td>-37.5</td><td>0.884</td><td>4964</td></tr>\n",
       "</tbody>\n",
       "</table>\n"
      ],
      "text/latex": [
       "A data.frame: 6 × 21\n",
       "\\begin{tabular}{r|lllllllllllllllllllll}\n",
       " y & job & marital & education & default & housing & loan & contact & month & day\\_of\\_week & poutcome & age & duration & campaign & pdays & previous & emp.var.rate & cons.price.idx & cons.conf.idx & euribor3m & nr.employed\\\\\n",
       " <fct> & <fct> & <fct> & <fct> & <fct> & <fct> & <fct> & <fct> & <fct> & <fct> & <fct> & <int> & <int> & <int> & <int> & <int> & <dbl> & <dbl> & <dbl> & <dbl> & <dbl>\\\\\n",
       "\\hline\n",
       "\t no & blue-collar & married & basic.9y          & no & yes     & no      & cellular  & may & fri & nonexistent & 30 & 487 & 2 & 999 & 0 & -1.8 & 92.89 & -46.2 & 1.313 & 5099\\\\\n",
       "\t no & services    & single  & high.school       & no & no      & no      & telephone & may & fri & nonexistent & 39 & 346 & 4 & 999 & 0 &  1.1 & 93.99 & -36.4 & 4.855 & 5191\\\\\n",
       "\t no & services    & married & high.school       & no & yes     & no      & telephone & jun & wed & nonexistent & 25 & 227 & 1 & 999 & 0 &  1.4 & 94.47 & -41.8 & 4.962 & 5228\\\\\n",
       "\t no & services    & married & basic.9y          & no & unknown & unknown & telephone & jun & fri & nonexistent & 38 &  17 & 3 & 999 & 0 &  1.4 & 94.47 & -41.8 & 4.959 & 5228\\\\\n",
       "\t no & admin.      & married & university.degree & no & yes     & no      & cellular  & nov & mon & nonexistent & 47 &  58 & 1 & 999 & 0 & -0.1 & 93.20 & -42.0 & 4.191 & 5196\\\\\n",
       "\t no & services    & single  & university.degree & no & no      & no      & cellular  & sep & thu & failure     & 32 & 128 & 3 & 999 & 2 & -1.1 & 94.20 & -37.5 & 0.884 & 4964\\\\\n",
       "\\end{tabular}\n"
      ],
      "text/markdown": [
       "\n",
       "A data.frame: 6 × 21\n",
       "\n",
       "| y &lt;fct&gt; | job &lt;fct&gt; | marital &lt;fct&gt; | education &lt;fct&gt; | default &lt;fct&gt; | housing &lt;fct&gt; | loan &lt;fct&gt; | contact &lt;fct&gt; | month &lt;fct&gt; | day_of_week &lt;fct&gt; | ⋯ ⋯ | age &lt;int&gt; | duration &lt;int&gt; | campaign &lt;int&gt; | pdays &lt;int&gt; | previous &lt;int&gt; | emp.var.rate &lt;dbl&gt; | cons.price.idx &lt;dbl&gt; | cons.conf.idx &lt;dbl&gt; | euribor3m &lt;dbl&gt; | nr.employed &lt;dbl&gt; |\n",
       "|---|---|---|---|---|---|---|---|---|---|---|---|---|---|---|---|---|---|---|---|---|\n",
       "| no | blue-collar | married | basic.9y          | no | yes     | no      | cellular  | may | fri | ⋯ | 30 | 487 | 2 | 999 | 0 | -1.8 | 92.89 | -46.2 | 1.313 | 5099 |\n",
       "| no | services    | single  | high.school       | no | no      | no      | telephone | may | fri | ⋯ | 39 | 346 | 4 | 999 | 0 |  1.1 | 93.99 | -36.4 | 4.855 | 5191 |\n",
       "| no | services    | married | high.school       | no | yes     | no      | telephone | jun | wed | ⋯ | 25 | 227 | 1 | 999 | 0 |  1.4 | 94.47 | -41.8 | 4.962 | 5228 |\n",
       "| no | services    | married | basic.9y          | no | unknown | unknown | telephone | jun | fri | ⋯ | 38 |  17 | 3 | 999 | 0 |  1.4 | 94.47 | -41.8 | 4.959 | 5228 |\n",
       "| no | admin.      | married | university.degree | no | yes     | no      | cellular  | nov | mon | ⋯ | 47 |  58 | 1 | 999 | 0 | -0.1 | 93.20 | -42.0 | 4.191 | 5196 |\n",
       "| no | services    | single  | university.degree | no | no      | no      | cellular  | sep | thu | ⋯ | 32 | 128 | 3 | 999 | 2 | -1.1 | 94.20 | -37.5 | 0.884 | 4964 |\n",
       "\n"
      ],
      "text/plain": [
       "  y  job         marital education         default housing loan    contact  \n",
       "1 no blue-collar married basic.9y          no      yes     no      cellular \n",
       "2 no services    single  high.school       no      no      no      telephone\n",
       "3 no services    married high.school       no      yes     no      telephone\n",
       "4 no services    married basic.9y          no      unknown unknown telephone\n",
       "5 no admin.      married university.degree no      yes     no      cellular \n",
       "6 no services    single  university.degree no      no      no      cellular \n",
       "  month day_of_week ⋯ age duration campaign pdays previous emp.var.rate\n",
       "1 may   fri         ⋯ 30  487      2        999   0        -1.8        \n",
       "2 may   fri         ⋯ 39  346      4        999   0         1.1        \n",
       "3 jun   wed         ⋯ 25  227      1        999   0         1.4        \n",
       "4 jun   fri         ⋯ 38   17      3        999   0         1.4        \n",
       "5 nov   mon         ⋯ 47   58      1        999   0        -0.1        \n",
       "6 sep   thu         ⋯ 32  128      3        999   2        -1.1        \n",
       "  cons.price.idx cons.conf.idx euribor3m nr.employed\n",
       "1 92.89          -46.2         1.313     5099       \n",
       "2 93.99          -36.4         4.855     5191       \n",
       "3 94.47          -41.8         4.962     5228       \n",
       "4 94.47          -41.8         4.959     5228       \n",
       "5 93.20          -42.0         4.191     5196       \n",
       "6 94.20          -37.5         0.884     4964       "
      ]
     },
     "metadata": {},
     "output_type": "display_data"
    },
    {
     "data": {
      "text/html": [
       "<table>\n",
       "<caption>A data.frame: 6 × 18</caption>\n",
       "<thead>\n",
       "\t<tr><th scope=col>y</th><th scope=col>job</th><th scope=col>education</th><th scope=col>default</th><th scope=col>contact</th><th scope=col>month</th><th scope=col>poutcome</th><th scope=col>housing</th><th scope=col>age</th><th scope=col>duration</th><th scope=col>campaign</th><th scope=col>pdays</th><th scope=col>previous</th><th scope=col>emp.var.rate</th><th scope=col>cons.price.idx</th><th scope=col>cons.conf.idx</th><th scope=col>euribor3m</th><th scope=col>nr.employed</th></tr>\n",
       "\t<tr><th scope=col>&lt;fct&gt;</th><th scope=col>&lt;fct&gt;</th><th scope=col>&lt;fct&gt;</th><th scope=col>&lt;fct&gt;</th><th scope=col>&lt;fct&gt;</th><th scope=col>&lt;fct&gt;</th><th scope=col>&lt;fct&gt;</th><th scope=col>&lt;fct&gt;</th><th scope=col>&lt;int&gt;</th><th scope=col>&lt;int&gt;</th><th scope=col>&lt;int&gt;</th><th scope=col>&lt;int&gt;</th><th scope=col>&lt;int&gt;</th><th scope=col>&lt;dbl&gt;</th><th scope=col>&lt;dbl&gt;</th><th scope=col>&lt;dbl&gt;</th><th scope=col>&lt;dbl&gt;</th><th scope=col>&lt;dbl&gt;</th></tr>\n",
       "</thead>\n",
       "<tbody>\n",
       "\t<tr><td>no</td><td>blue-collar</td><td>basic.9y         </td><td>no</td><td>cellular </td><td>may</td><td>nonexistent</td><td>yes    </td><td>30</td><td>487</td><td>2</td><td>999</td><td>0</td><td>-1.8</td><td>92.89</td><td>-46.2</td><td>1.313</td><td>5099</td></tr>\n",
       "\t<tr><td>no</td><td>services   </td><td>high.school      </td><td>no</td><td>telephone</td><td>may</td><td>nonexistent</td><td>no     </td><td>39</td><td>346</td><td>4</td><td>999</td><td>0</td><td> 1.1</td><td>93.99</td><td>-36.4</td><td>4.855</td><td>5191</td></tr>\n",
       "\t<tr><td>no</td><td>services   </td><td>high.school      </td><td>no</td><td>telephone</td><td>jun</td><td>nonexistent</td><td>yes    </td><td>25</td><td>227</td><td>1</td><td>999</td><td>0</td><td> 1.4</td><td>94.47</td><td>-41.8</td><td>4.962</td><td>5228</td></tr>\n",
       "\t<tr><td>no</td><td>services   </td><td>basic.9y         </td><td>no</td><td>telephone</td><td>jun</td><td>nonexistent</td><td>unknown</td><td>38</td><td> 17</td><td>3</td><td>999</td><td>0</td><td> 1.4</td><td>94.47</td><td>-41.8</td><td>4.959</td><td>5228</td></tr>\n",
       "\t<tr><td>no</td><td>admin.     </td><td>university.degree</td><td>no</td><td>cellular </td><td>nov</td><td>nonexistent</td><td>yes    </td><td>47</td><td> 58</td><td>1</td><td>999</td><td>0</td><td>-0.1</td><td>93.20</td><td>-42.0</td><td>4.191</td><td>5196</td></tr>\n",
       "\t<tr><td>no</td><td>services   </td><td>university.degree</td><td>no</td><td>cellular </td><td>sep</td><td>failure    </td><td>no     </td><td>32</td><td>128</td><td>3</td><td>999</td><td>2</td><td>-1.1</td><td>94.20</td><td>-37.5</td><td>0.884</td><td>4964</td></tr>\n",
       "</tbody>\n",
       "</table>\n"
      ],
      "text/latex": [
       "A data.frame: 6 × 18\n",
       "\\begin{tabular}{r|llllllllllllllllll}\n",
       " y & job & education & default & contact & month & poutcome & housing & age & duration & campaign & pdays & previous & emp.var.rate & cons.price.idx & cons.conf.idx & euribor3m & nr.employed\\\\\n",
       " <fct> & <fct> & <fct> & <fct> & <fct> & <fct> & <fct> & <fct> & <int> & <int> & <int> & <int> & <int> & <dbl> & <dbl> & <dbl> & <dbl> & <dbl>\\\\\n",
       "\\hline\n",
       "\t no & blue-collar & basic.9y          & no & cellular  & may & nonexistent & yes     & 30 & 487 & 2 & 999 & 0 & -1.8 & 92.89 & -46.2 & 1.313 & 5099\\\\\n",
       "\t no & services    & high.school       & no & telephone & may & nonexistent & no      & 39 & 346 & 4 & 999 & 0 &  1.1 & 93.99 & -36.4 & 4.855 & 5191\\\\\n",
       "\t no & services    & high.school       & no & telephone & jun & nonexistent & yes     & 25 & 227 & 1 & 999 & 0 &  1.4 & 94.47 & -41.8 & 4.962 & 5228\\\\\n",
       "\t no & services    & basic.9y          & no & telephone & jun & nonexistent & unknown & 38 &  17 & 3 & 999 & 0 &  1.4 & 94.47 & -41.8 & 4.959 & 5228\\\\\n",
       "\t no & admin.      & university.degree & no & cellular  & nov & nonexistent & yes     & 47 &  58 & 1 & 999 & 0 & -0.1 & 93.20 & -42.0 & 4.191 & 5196\\\\\n",
       "\t no & services    & university.degree & no & cellular  & sep & failure     & no      & 32 & 128 & 3 & 999 & 2 & -1.1 & 94.20 & -37.5 & 0.884 & 4964\\\\\n",
       "\\end{tabular}\n"
      ],
      "text/markdown": [
       "\n",
       "A data.frame: 6 × 18\n",
       "\n",
       "| y &lt;fct&gt; | job &lt;fct&gt; | education &lt;fct&gt; | default &lt;fct&gt; | contact &lt;fct&gt; | month &lt;fct&gt; | poutcome &lt;fct&gt; | housing &lt;fct&gt; | age &lt;int&gt; | duration &lt;int&gt; | campaign &lt;int&gt; | pdays &lt;int&gt; | previous &lt;int&gt; | emp.var.rate &lt;dbl&gt; | cons.price.idx &lt;dbl&gt; | cons.conf.idx &lt;dbl&gt; | euribor3m &lt;dbl&gt; | nr.employed &lt;dbl&gt; |\n",
       "|---|---|---|---|---|---|---|---|---|---|---|---|---|---|---|---|---|---|\n",
       "| no | blue-collar | basic.9y          | no | cellular  | may | nonexistent | yes     | 30 | 487 | 2 | 999 | 0 | -1.8 | 92.89 | -46.2 | 1.313 | 5099 |\n",
       "| no | services    | high.school       | no | telephone | may | nonexistent | no      | 39 | 346 | 4 | 999 | 0 |  1.1 | 93.99 | -36.4 | 4.855 | 5191 |\n",
       "| no | services    | high.school       | no | telephone | jun | nonexistent | yes     | 25 | 227 | 1 | 999 | 0 |  1.4 | 94.47 | -41.8 | 4.962 | 5228 |\n",
       "| no | services    | basic.9y          | no | telephone | jun | nonexistent | unknown | 38 |  17 | 3 | 999 | 0 |  1.4 | 94.47 | -41.8 | 4.959 | 5228 |\n",
       "| no | admin.      | university.degree | no | cellular  | nov | nonexistent | yes     | 47 |  58 | 1 | 999 | 0 | -0.1 | 93.20 | -42.0 | 4.191 | 5196 |\n",
       "| no | services    | university.degree | no | cellular  | sep | failure     | no      | 32 | 128 | 3 | 999 | 2 | -1.1 | 94.20 | -37.5 | 0.884 | 4964 |\n",
       "\n"
      ],
      "text/plain": [
       "  y  job         education         default contact   month poutcome    housing\n",
       "1 no blue-collar basic.9y          no      cellular  may   nonexistent yes    \n",
       "2 no services    high.school       no      telephone may   nonexistent no     \n",
       "3 no services    high.school       no      telephone jun   nonexistent yes    \n",
       "4 no services    basic.9y          no      telephone jun   nonexistent unknown\n",
       "5 no admin.      university.degree no      cellular  nov   nonexistent yes    \n",
       "6 no services    university.degree no      cellular  sep   failure     no     \n",
       "  age duration campaign pdays previous emp.var.rate cons.price.idx\n",
       "1 30  487      2        999   0        -1.8         92.89         \n",
       "2 39  346      4        999   0         1.1         93.99         \n",
       "3 25  227      1        999   0         1.4         94.47         \n",
       "4 38   17      3        999   0         1.4         94.47         \n",
       "5 47   58      1        999   0        -0.1         93.20         \n",
       "6 32  128      3        999   2        -1.1         94.20         \n",
       "  cons.conf.idx euribor3m nr.employed\n",
       "1 -46.2         1.313     5099       \n",
       "2 -36.4         4.855     5191       \n",
       "3 -41.8         4.962     5228       \n",
       "4 -41.8         4.959     5228       \n",
       "5 -42.0         4.191     5196       \n",
       "6 -37.5         0.884     4964       "
      ]
     },
     "metadata": {},
     "output_type": "display_data"
    }
   ],
   "source": [
    "set.seed(233)\n",
    "head(train)\n",
    "train<-subset(train,select=(c(y,job,education,default,contact,month,poutcome,housing,\n",
    "                            age,duration,campaign,pdays,previous,emp.var.rate,cons.price.idx,\n",
    "                            cons.conf.idx,euribor3m,nr.employed)))\n",
    "head(train)"
   ]
  },
  {
   "cell_type": "code",
   "execution_count": 22,
   "metadata": {},
   "outputs": [],
   "source": [
    "multiplot <- function(..., plotlist=NULL, file, cols=1, layout=NULL) {\n",
    "  library(grid)\n",
    " \n",
    "  # Make a list from the ... arguments and plotlist\n",
    "  plots <- c(list(...), plotlist)\n",
    " \n",
    "  numPlots = length(plots)\n",
    " \n",
    "  # If layout is NULL, then use 'cols' to determine layout\n",
    "  if (is.null(layout)) {\n",
    "    # Make the panel\n",
    "    # ncol: Number of columns of plots\n",
    "    # nrow: Number of rows needed, calculated from # of cols\n",
    "    layout <- matrix(seq(1, cols * ceiling(numPlots/cols)),\n",
    "                    ncol = cols, nrow = ceiling(numPlots/cols))\n",
    "  }\n",
    " \n",
    " if (numPlots==1) {\n",
    "    print(plots[[1]])\n",
    " \n",
    "  } else {\n",
    "    # Set up the page\n",
    "    grid.newpage()\n",
    "    pushViewport(viewport(layout = grid.layout(nrow(layout), ncol(layout))))\n",
    " \n",
    "    # Make each plot, in the correct location\n",
    "    for (i in 1:numPlots) {\n",
    "      # Get the i,j matrix positions of the regions that contain this subplot\n",
    "      matchidx <- as.data.frame(which(layout == i, arr.ind = TRUE))\n",
    " \n",
    "      print(plots[[i]], vp = viewport(layout.pos.row = matchidx$row,\n",
    "                                      layout.pos.col = matchidx$col))\n",
    "    }\n",
    "  }\n",
    "}\n"
   ]
  },
  {
   "cell_type": "code",
   "execution_count": 23,
   "metadata": {},
   "outputs": [
    {
     "data": {
      "image/png": "[encoded data removed]",
      "text/plain": [
       "plot without title"
      ]
     },
     "metadata": {},
     "output_type": "display_data"
    }
   ],
   "source": [
    "# 训练集分割\n",
    "partition_indexed<-createDataPartition(train$y,times=1,p=.7,list=FALSE)\n",
    "bank.train<-train[partition_indexed,]\n",
    "bank.test<-train[-partition_indexed,]\n",
    "\n",
    "library(ggplot2)\n",
    "dt<-data.frame(A=c(sum(bank.train$y=='yes'),sum(bank.train$y=='no')),B=c('yes','no'))\n",
    "myLabel = as.vector(dt$B)   ## 转成向量，否则图例的标签可能与实际顺序不一致\n",
    "myLabel = paste(myLabel, \"(\", round(dt$A / sum(dt$A) * 100, 2), \"%)        \", sep = \"\")   ## 用 round() 对结果保留两位小数\n",
    "p <- ggplot(dt, aes(x = \"\", y = A, fill = B)) + \n",
    "  geom_bar(stat = \"identity\", width = 1) +    \n",
    "  coord_polar(theta = \"y\") + \n",
    "  labs(x = \"\", y = \"\", title = \"\") + \n",
    "  theme(axis.ticks = element_blank()) + \n",
    "  theme(legend.title = element_blank(), legend.position = \"top\") + \n",
    "  scale_fill_discrete(breaks = dt$B, labels = myLabel)   ## 将原来的图例标签换成现在的myLabel\n",
    "p1<-p+ggtitle('训练集接受推销比例')\n",
    "\n",
    "dt<-data.frame(A=c(sum(bank.test$y=='yes'),sum(bank.test$y=='no')),B=c('yes','no'))\n",
    "myLabel = as.vector(dt$B)   ## 转成向量，否则图例的标签可能与实际顺序不一致\n",
    "myLabel = paste(myLabel, \"(\", round(dt$A / sum(dt$A) * 100, 2), \"%)        \", sep = \"\")   ## 用 round() 对结果保留两位小数\n",
    "p <- ggplot(dt, aes(x = \"\", y = A, fill = B)) + \n",
    "  geom_bar(stat = \"identity\", width = 1) +    \n",
    "  coord_polar(theta = \"y\") + \n",
    "  labs(x = \"\", y = \"\", title = \"\") + \n",
    "  theme(axis.ticks = element_blank()) + \n",
    "  theme(legend.title = element_blank(), legend.position = \"top\") + \n",
    "  scale_fill_discrete(breaks = dt$B, labels = myLabel)   ## 将原来的图例标签换成现在的myLabel\n",
    "p2<-p+ggtitle('测试集接受推销比例')\n",
    "multiplot(p1, p2,cols=2)"
   ]
  },
  {
   "cell_type": "markdown",
   "metadata": {},
   "source": [
    "## 开始训练"
   ]
  },
  {
   "cell_type": "markdown",
   "metadata": {},
   "source": [
    "### 结果存储声明"
   ]
  },
  {
   "cell_type": "code",
   "execution_count": 24,
   "metadata": {},
   "outputs": [],
   "source": [
    "matrix1 <- data.frame(model=0,Accuracy=0,Sensitivity=0,Precision=0,Specificity=0,Recall=0,F1=0,Kappa=0,TP=0,FN=0,FP=0,TF=0)\n",
    "matrix1 <- matrix1[-1,]\n",
    "library(miscTools)\n",
    "saveMatrix1<-function(mat,label){\n",
    "    df<-data.frame(mat[2])\n",
    "    df3<-data.frame(mat[3])\n",
    "    acc<-df3[1,1]\n",
    "    df4<-data.frame(mat[4])\n",
    "    sen<-df4[1,1]\n",
    "    spe<-df4[2,1]\n",
    "    pre<-df4[5,1]\n",
    "    rec<-df4[6,1]\n",
    "    f1<-df4[7,1]\n",
    "    kappa<-df3[2,1]\n",
    "    line<-data.frame(model=label,Accuracy=acc,Sensitivity=sen,Precesion=pre,Specificity=spe,Recall=rec,F1=f1,\n",
    "                     Kappa=kappa,TP=df[1,3],FN=df[2,3],FP=df[3,3],TF=df[4,3])\n",
    "    return(line)\n",
    "}\n",
    "\n",
    "matrix2 <- data.frame(model=0,Accuracy=0,Sensitivity=0,Precision=0,Specificity=0,Recall=0,F1=0,Kappa=0,TP=0,FN=0,FP=0,TF=0)\n",
    "matrix2 <- matrix2[-1,]\n",
    "library(miscTools)\n",
    "saveMatrix2<-function(mat,label){\n",
    "    df<-data.frame(mat[2])\n",
    "    df3<-data.frame(mat[3])\n",
    "    acc<-df3[1,1]\n",
    "    df4<-data.frame(mat[4])\n",
    "    sen<-df4[1,1]\n",
    "    spe<-df4[2,1]\n",
    "    pre<-df4[5,1]\n",
    "    rec<-df4[6,1]\n",
    "    f1<-df4[7,1]\n",
    "    kappa<-df3[2,1]\n",
    "    line<-data.frame(model=label,Accuracy=acc,Sensitivity=sen,Precesion=pre,Specificity=spe,Recall=rec,F1=f1,\n",
    "                     Kappa=kappa,TP=df[1,3],FN=df[2,3],FP=df[3,3],TF=df[4,3])\n",
    "    return(line)\n",
    "}"
   ]
  },
  {
   "cell_type": "markdown",
   "metadata": {},
   "source": [
    "### 逻辑回归"
   ]
  },
  {
   "cell_type": "code",
   "execution_count": 25,
   "metadata": {},
   "outputs": [
    {
     "data": {
      "text/plain": [
       "Confusion Matrix and Statistics\n",
       "\n",
       "          Reference\n",
       "Prediction  yes   no\n",
       "       yes   55   13\n",
       "       no    80 1087\n",
       "                                          \n",
       "               Accuracy : 0.925           \n",
       "                 95% CI : (0.909, 0.939)  \n",
       "    No Information Rate : 0.891           \n",
       "    P-Value [Acc > NIR] : 0.00003601184575\n",
       "                                          \n",
       "                  Kappa : 0.506           \n",
       "                                          \n",
       " Mcnemar's Test P-Value : 0.00000000000771\n",
       "                                          \n",
       "            Sensitivity : 0.4074          \n",
       "            Specificity : 0.9882          \n",
       "         Pos Pred Value : 0.8088          \n",
       "         Neg Pred Value : 0.9314          \n",
       "             Prevalence : 0.1093          \n",
       "         Detection Rate : 0.0445          \n",
       "   Detection Prevalence : 0.0551          \n",
       "      Balanced Accuracy : 0.6978          \n",
       "                                          \n",
       "       'Positive' Class : yes             \n",
       "                                          "
      ]
     },
     "metadata": {},
     "output_type": "display_data"
    }
   ],
   "source": [
    "# train with logistic regression\n",
    "mod_fit<-train(y~.,data=bank.train,\n",
    "              method='LogitBoost',family='binomial')\n",
    "predictions<-predict(mod_fit,bank.test[,-1])\n",
    "mat<-confusionMatrix(predictions,bank.test[,1])\n",
    "mat\n",
    "matrix1<-rbind(matrix1,saveMatrix1(mat,\"逻辑回归\"))"
   ]
  },
  {
   "cell_type": "code",
   "execution_count": 26,
   "metadata": {},
   "outputs": [
    {
     "data": {
      "text/plain": [
       "Confusion Matrix and Statistics\n",
       "\n",
       "          Reference\n",
       "Prediction  yes   no\n",
       "       yes   27   18\n",
       "       no   108 1082\n",
       "                                             \n",
       "               Accuracy : 0.898              \n",
       "                 95% CI : (0.88, 0.914)      \n",
       "    No Information Rate : 0.891              \n",
       "    P-Value [Acc > NIR] : 0.221              \n",
       "                                             \n",
       "                  Kappa : 0.26               \n",
       "                                             \n",
       " Mcnemar's Test P-Value : 0.00000000000000221\n",
       "                                             \n",
       "            Sensitivity : 0.2000             \n",
       "            Specificity : 0.9836             \n",
       "         Pos Pred Value : 0.6000             \n",
       "         Neg Pred Value : 0.9092             \n",
       "             Prevalence : 0.1093             \n",
       "         Detection Rate : 0.0219             \n",
       "   Detection Prevalence : 0.0364             \n",
       "      Balanced Accuracy : 0.5918             \n",
       "                                             \n",
       "       'Positive' Class : yes                \n",
       "                                             "
      ]
     },
     "metadata": {},
     "output_type": "display_data"
    }
   ],
   "source": [
    "# cut duration\n",
    "bank.train2<-bank.train\n",
    "bank.test2<-bank.test\n",
    "bank.train2$duration<-NULL\n",
    "bank.test2$duration<-NULL\n",
    "mod_fit<-train(y~.,data=bank.train2,\n",
    "              method='LogitBoost',family='binomial')\n",
    "predictions<-predict(mod_fit,bank.test2[,-1])\n",
    "mat<-confusionMatrix(predictions,bank.test2[,1])\n",
    "mat\n",
    "matrix2<-rbind(matrix2,saveMatrix2(mat,\"逻辑回归\"))"
   ]
  },
  {
   "cell_type": "markdown",
   "metadata": {},
   "source": [
    "## SVM\n",
    "kernel\t\n",
    "the kernel used in training and predicting. You might consider changing some of the following parameters, depending on the kernel type.\n",
    "\n",
    "linear:\n",
    "\n",
    "𝑢′∗𝑣\n",
    "\n",
    "polynomial:\n",
    "\n",
    "(𝑔𝑎𝑚𝑚𝑎∗𝑢′∗𝑣+𝑐𝑜𝑒𝑓0)𝑑𝑒𝑔𝑟𝑒𝑒\n",
    "\n",
    "radial basis:\n",
    "\n",
    "𝑒𝑥𝑝(−𝑔𝑎𝑚𝑚𝑎∗|𝑢−𝑣|2)\n",
    "\n",
    "sigmoid:\n",
    "\n",
    "𝑡𝑎𝑛ℎ(𝑔𝑎𝑚𝑚𝑎∗𝑢′∗𝑣+𝑐𝑜𝑒𝑓0)"
   ]
  },
  {
   "cell_type": "code",
   "execution_count": 27,
   "metadata": {},
   "outputs": [],
   "source": [
    "# library(e1071)\n",
    "# tuned<-tune(svm,y~.,\n",
    "#            data=bank.train,\n",
    "#            kernel='polynomial',\n",
    "#            ranges=list(cost=c(0.001,0.01,0.1,1,10,100)))\n",
    "# summary(tuned)"
   ]
  },
  {
   "cell_type": "code",
   "execution_count": 28,
   "metadata": {},
   "outputs": [
    {
     "data": {
      "text/plain": [
       "Confusion Matrix and Statistics\n",
       "\n",
       "          Reference\n",
       "Prediction  yes   no\n",
       "       yes   64   28\n",
       "       no    71 1072\n",
       "                                        \n",
       "               Accuracy : 0.92          \n",
       "                 95% CI : (0.903, 0.934)\n",
       "    No Information Rate : 0.891         \n",
       "    P-Value [Acc > NIR] : 0.000381      \n",
       "                                        \n",
       "                  Kappa : 0.521         \n",
       "                                        \n",
       " Mcnemar's Test P-Value : 0.0000243     \n",
       "                                        \n",
       "            Sensitivity : 0.4741        \n",
       "            Specificity : 0.9745        \n",
       "         Pos Pred Value : 0.6957        \n",
       "         Neg Pred Value : 0.9379        \n",
       "             Prevalence : 0.1093        \n",
       "         Detection Rate : 0.0518        \n",
       "   Detection Prevalence : 0.0745        \n",
       "      Balanced Accuracy : 0.7243        \n",
       "                                        \n",
       "       'Positive' Class : yes           \n",
       "                                        "
      ]
     },
     "metadata": {},
     "output_type": "display_data"
    }
   ],
   "source": [
    "# svm\n",
    "library('e1071')\n",
    "svmfit<-svm(y~.,data=bank.train,kernel='polynomial',cost=100,scale=FALSE)\n",
    "# summary(svmfit)\n",
    "predictions.svm<-predict(svmfit,bank.test[,-1],type='class')\n",
    "mat<-confusionMatrix(predictions.svm,bank.test[,1])\n",
    "mat\n",
    "matrix1<-rbind(matrix1,saveMatrix1(mat,\"SVM-多项式核函数\"))"
   ]
  },
  {
   "cell_type": "markdown",
   "metadata": {},
   "source": [
    "### SVM-linear"
   ]
  },
  {
   "cell_type": "code",
   "execution_count": 29,
   "metadata": {},
   "outputs": [],
   "source": [
    "# tuned<-tune(svm,y~.,\n",
    "#            data=bank.train,\n",
    "#            kernel='linear',\n",
    "#            ranges=list(cost=c(0.001,0.01,0.1,1,10,100)))\n",
    "# summary(tuned)"
   ]
  },
  {
   "cell_type": "code",
   "execution_count": 30,
   "metadata": {
    "scrolled": false
   },
   "outputs": [
    {
     "data": {
      "text/plain": [
       "Confusion Matrix and Statistics\n",
       "\n",
       "          Reference\n",
       "Prediction  yes   no\n",
       "       yes   59   24\n",
       "       no    76 1076\n",
       "                                        \n",
       "               Accuracy : 0.919         \n",
       "                 95% CI : (0.902, 0.934)\n",
       "    No Information Rate : 0.891         \n",
       "    P-Value [Acc > NIR] : 0.000545      \n",
       "                                        \n",
       "                  Kappa : 0.5           \n",
       "                                        \n",
       " Mcnemar's Test P-Value : 0.00000034    \n",
       "                                        \n",
       "            Sensitivity : 0.4370        \n",
       "            Specificity : 0.9782        \n",
       "         Pos Pred Value : 0.7108        \n",
       "         Neg Pred Value : 0.9340        \n",
       "             Prevalence : 0.1093        \n",
       "         Detection Rate : 0.0478        \n",
       "   Detection Prevalence : 0.0672        \n",
       "      Balanced Accuracy : 0.7076        \n",
       "                                        \n",
       "       'Positive' Class : yes           \n",
       "                                        "
      ]
     },
     "metadata": {},
     "output_type": "display_data"
    }
   ],
   "source": [
    "# svm\n",
    "library('e1071')\n",
    "svmfit<-svm(y~.,data=bank.train,kernel='linear',cost=.1,scale=FALSE)\n",
    "# summary(svmfit)\n",
    "predictions.svm<-predict(svmfit,bank.test[,-1],type='class')\n",
    "mat<-confusionMatrix(predictions.svm,bank.test[,1])\n",
    "mat\n",
    "matrix1<-rbind(matrix1,saveMatrix1(mat,\"SVM-线性核函数\"))"
   ]
  },
  {
   "cell_type": "markdown",
   "metadata": {},
   "source": [
    "### SVM-Drop duration Linear"
   ]
  },
  {
   "cell_type": "code",
   "execution_count": 31,
   "metadata": {},
   "outputs": [],
   "source": [
    "# tuned<-tune(svm,y~.,\n",
    "#            data=bank.train2,\n",
    "#            kernel='linear',\n",
    "#            ranges=list(cost=c(0.01,0.1,1,10)))\n",
    "# summary(tuned)"
   ]
  },
  {
   "cell_type": "code",
   "execution_count": 32,
   "metadata": {},
   "outputs": [
    {
     "data": {
      "text/plain": [
       "Confusion Matrix and Statistics\n",
       "\n",
       "          Reference\n",
       "Prediction  yes   no\n",
       "       yes   24   10\n",
       "       no   111 1090\n",
       "                                             \n",
       "               Accuracy : 0.902              \n",
       "                 95% CI : (0.884, 0.918)     \n",
       "    No Information Rate : 0.891              \n",
       "    P-Value [Acc > NIR] : 0.108              \n",
       "                                             \n",
       "                  Kappa : 0.251              \n",
       "                                             \n",
       " Mcnemar's Test P-Value : <0.0000000000000002\n",
       "                                             \n",
       "            Sensitivity : 0.1778             \n",
       "            Specificity : 0.9909             \n",
       "         Pos Pred Value : 0.7059             \n",
       "         Neg Pred Value : 0.9076             \n",
       "             Prevalence : 0.1093             \n",
       "         Detection Rate : 0.0194             \n",
       "   Detection Prevalence : 0.0275             \n",
       "      Balanced Accuracy : 0.5843             \n",
       "                                             \n",
       "       'Positive' Class : yes                \n",
       "                                             "
      ]
     },
     "metadata": {},
     "output_type": "display_data"
    }
   ],
   "source": [
    "# svm\n",
    "library('e1071')\n",
    "svmfit<-svm(y~.,data=bank.train2,kernel='linear',cost=1,scale=FALSE)\n",
    "# summary(svmfit)\n",
    "predictions.svm<-predict(svmfit,bank.test2[,-1],type='class')\n",
    "mat<-confusionMatrix(predictions.svm,bank.test2[,1])\n",
    "mat\n",
    "matrix2<-rbind(matrix2,saveMatrix2(mat,\"SVM-线性核函数\"))"
   ]
  },
  {
   "cell_type": "markdown",
   "metadata": {},
   "source": [
    "### SVM-Drop duration Polynomial"
   ]
  },
  {
   "cell_type": "code",
   "execution_count": 33,
   "metadata": {},
   "outputs": [],
   "source": [
    "# tuned<-tune(svm,y~.,\n",
    "#            data=bank.train2,\n",
    "#            kernel='polynomial',\n",
    "#            ranges=list(cost=c(0.01,0.1,1,10)))\n",
    "# summary(tuned)"
   ]
  },
  {
   "cell_type": "code",
   "execution_count": 34,
   "metadata": {},
   "outputs": [
    {
     "data": {
      "text/plain": [
       "Confusion Matrix and Statistics\n",
       "\n",
       "          Reference\n",
       "Prediction yes  no\n",
       "       yes  45 102\n",
       "       no   90 998\n",
       "                                        \n",
       "               Accuracy : 0.845         \n",
       "                 95% CI : (0.823, 0.864)\n",
       "    No Information Rate : 0.891         \n",
       "    P-Value [Acc > NIR] : 1.000         \n",
       "                                        \n",
       "                  Kappa : 0.232         \n",
       "                                        \n",
       " Mcnemar's Test P-Value : 0.427         \n",
       "                                        \n",
       "            Sensitivity : 0.3333        \n",
       "            Specificity : 0.9073        \n",
       "         Pos Pred Value : 0.3061        \n",
       "         Neg Pred Value : 0.9173        \n",
       "             Prevalence : 0.1093        \n",
       "         Detection Rate : 0.0364        \n",
       "   Detection Prevalence : 0.1190        \n",
       "      Balanced Accuracy : 0.6203        \n",
       "                                        \n",
       "       'Positive' Class : yes           \n",
       "                                        "
      ]
     },
     "metadata": {},
     "output_type": "display_data"
    }
   ],
   "source": [
    "# svm\n",
    "library('e1071')\n",
    "svmfit<-svm(y~.,data=bank.train2,kernel='polynomial',cost=.001,scale=FALSE)\n",
    "# summary(svmfit)\n",
    "predictions.svm<-predict(svmfit,bank.test2[,-1],type='class')\n",
    "mat<-confusionMatrix(predictions.svm,bank.test2[,1])\n",
    "mat\n",
    "matrix2<-rbind(matrix2,saveMatrix2(mat,\"SVM-多项式核函数\"))"
   ]
  },
  {
   "cell_type": "code",
   "execution_count": 35,
   "metadata": {},
   "outputs": [
    {
     "data": {
      "text/html": [
       "<table>\n",
       "<caption>A data.frame: 6 × 17</caption>\n",
       "<thead>\n",
       "\t<tr><th scope=col>y</th><th scope=col>job</th><th scope=col>education</th><th scope=col>default</th><th scope=col>contact</th><th scope=col>month</th><th scope=col>poutcome</th><th scope=col>housing</th><th scope=col>age</th><th scope=col>campaign</th><th scope=col>pdays</th><th scope=col>previous</th><th scope=col>emp.var.rate</th><th scope=col>cons.price.idx</th><th scope=col>cons.conf.idx</th><th scope=col>euribor3m</th><th scope=col>nr.employed</th></tr>\n",
       "\t<tr><th scope=col>&lt;fct&gt;</th><th scope=col>&lt;fct&gt;</th><th scope=col>&lt;fct&gt;</th><th scope=col>&lt;fct&gt;</th><th scope=col>&lt;fct&gt;</th><th scope=col>&lt;fct&gt;</th><th scope=col>&lt;fct&gt;</th><th scope=col>&lt;fct&gt;</th><th scope=col>&lt;int&gt;</th><th scope=col>&lt;int&gt;</th><th scope=col>&lt;int&gt;</th><th scope=col>&lt;int&gt;</th><th scope=col>&lt;dbl&gt;</th><th scope=col>&lt;dbl&gt;</th><th scope=col>&lt;dbl&gt;</th><th scope=col>&lt;dbl&gt;</th><th scope=col>&lt;dbl&gt;</th></tr>\n",
       "</thead>\n",
       "<tbody>\n",
       "\t<tr><td>no</td><td>blue-collar</td><td>basic.9y         </td><td>no</td><td>cellular </td><td>may</td><td>nonexistent</td><td>yes    </td><td>30</td><td>2</td><td>999</td><td>0</td><td>-1.8</td><td>92.89</td><td>-46.2</td><td>1.313</td><td>5099</td></tr>\n",
       "\t<tr><td>no</td><td>services   </td><td>high.school      </td><td>no</td><td>telephone</td><td>may</td><td>nonexistent</td><td>no     </td><td>39</td><td>4</td><td>999</td><td>0</td><td> 1.1</td><td>93.99</td><td>-36.4</td><td>4.855</td><td>5191</td></tr>\n",
       "\t<tr><td>no</td><td>services   </td><td>high.school      </td><td>no</td><td>telephone</td><td>jun</td><td>nonexistent</td><td>yes    </td><td>25</td><td>1</td><td>999</td><td>0</td><td> 1.4</td><td>94.47</td><td>-41.8</td><td>4.962</td><td>5228</td></tr>\n",
       "\t<tr><td>no</td><td>services   </td><td>basic.9y         </td><td>no</td><td>telephone</td><td>jun</td><td>nonexistent</td><td>unknown</td><td>38</td><td>3</td><td>999</td><td>0</td><td> 1.4</td><td>94.47</td><td>-41.8</td><td>4.959</td><td>5228</td></tr>\n",
       "\t<tr><td>no</td><td>admin.     </td><td>university.degree</td><td>no</td><td>cellular </td><td>nov</td><td>nonexistent</td><td>yes    </td><td>47</td><td>1</td><td>999</td><td>0</td><td>-0.1</td><td>93.20</td><td>-42.0</td><td>4.191</td><td>5196</td></tr>\n",
       "\t<tr><td>no</td><td>services   </td><td>university.degree</td><td>no</td><td>cellular </td><td>sep</td><td>failure    </td><td>no     </td><td>32</td><td>3</td><td>999</td><td>2</td><td>-1.1</td><td>94.20</td><td>-37.5</td><td>0.884</td><td>4964</td></tr>\n",
       "</tbody>\n",
       "</table>\n"
      ],
      "text/latex": [
       "A data.frame: 6 × 17\n",
       "\\begin{tabular}{r|lllllllllllllllll}\n",
       " y & job & education & default & contact & month & poutcome & housing & age & campaign & pdays & previous & emp.var.rate & cons.price.idx & cons.conf.idx & euribor3m & nr.employed\\\\\n",
       " <fct> & <fct> & <fct> & <fct> & <fct> & <fct> & <fct> & <fct> & <int> & <int> & <int> & <int> & <dbl> & <dbl> & <dbl> & <dbl> & <dbl>\\\\\n",
       "\\hline\n",
       "\t no & blue-collar & basic.9y          & no & cellular  & may & nonexistent & yes     & 30 & 2 & 999 & 0 & -1.8 & 92.89 & -46.2 & 1.313 & 5099\\\\\n",
       "\t no & services    & high.school       & no & telephone & may & nonexistent & no      & 39 & 4 & 999 & 0 &  1.1 & 93.99 & -36.4 & 4.855 & 5191\\\\\n",
       "\t no & services    & high.school       & no & telephone & jun & nonexistent & yes     & 25 & 1 & 999 & 0 &  1.4 & 94.47 & -41.8 & 4.962 & 5228\\\\\n",
       "\t no & services    & basic.9y          & no & telephone & jun & nonexistent & unknown & 38 & 3 & 999 & 0 &  1.4 & 94.47 & -41.8 & 4.959 & 5228\\\\\n",
       "\t no & admin.      & university.degree & no & cellular  & nov & nonexistent & yes     & 47 & 1 & 999 & 0 & -0.1 & 93.20 & -42.0 & 4.191 & 5196\\\\\n",
       "\t no & services    & university.degree & no & cellular  & sep & failure     & no      & 32 & 3 & 999 & 2 & -1.1 & 94.20 & -37.5 & 0.884 & 4964\\\\\n",
       "\\end{tabular}\n"
      ],
      "text/markdown": [
       "\n",
       "A data.frame: 6 × 17\n",
       "\n",
       "| y &lt;fct&gt; | job &lt;fct&gt; | education &lt;fct&gt; | default &lt;fct&gt; | contact &lt;fct&gt; | month &lt;fct&gt; | poutcome &lt;fct&gt; | housing &lt;fct&gt; | age &lt;int&gt; | campaign &lt;int&gt; | pdays &lt;int&gt; | previous &lt;int&gt; | emp.var.rate &lt;dbl&gt; | cons.price.idx &lt;dbl&gt; | cons.conf.idx &lt;dbl&gt; | euribor3m &lt;dbl&gt; | nr.employed &lt;dbl&gt; |\n",
       "|---|---|---|---|---|---|---|---|---|---|---|---|---|---|---|---|---|\n",
       "| no | blue-collar | basic.9y          | no | cellular  | may | nonexistent | yes     | 30 | 2 | 999 | 0 | -1.8 | 92.89 | -46.2 | 1.313 | 5099 |\n",
       "| no | services    | high.school       | no | telephone | may | nonexistent | no      | 39 | 4 | 999 | 0 |  1.1 | 93.99 | -36.4 | 4.855 | 5191 |\n",
       "| no | services    | high.school       | no | telephone | jun | nonexistent | yes     | 25 | 1 | 999 | 0 |  1.4 | 94.47 | -41.8 | 4.962 | 5228 |\n",
       "| no | services    | basic.9y          | no | telephone | jun | nonexistent | unknown | 38 | 3 | 999 | 0 |  1.4 | 94.47 | -41.8 | 4.959 | 5228 |\n",
       "| no | admin.      | university.degree | no | cellular  | nov | nonexistent | yes     | 47 | 1 | 999 | 0 | -0.1 | 93.20 | -42.0 | 4.191 | 5196 |\n",
       "| no | services    | university.degree | no | cellular  | sep | failure     | no      | 32 | 3 | 999 | 2 | -1.1 | 94.20 | -37.5 | 0.884 | 4964 |\n",
       "\n"
      ],
      "text/plain": [
       "  y  job         education         default contact   month poutcome    housing\n",
       "1 no blue-collar basic.9y          no      cellular  may   nonexistent yes    \n",
       "2 no services    high.school       no      telephone may   nonexistent no     \n",
       "3 no services    high.school       no      telephone jun   nonexistent yes    \n",
       "4 no services    basic.9y          no      telephone jun   nonexistent unknown\n",
       "5 no admin.      university.degree no      cellular  nov   nonexistent yes    \n",
       "6 no services    university.degree no      cellular  sep   failure     no     \n",
       "  age campaign pdays previous emp.var.rate cons.price.idx cons.conf.idx\n",
       "1 30  2        999   0        -1.8         92.89          -46.2        \n",
       "2 39  4        999   0         1.1         93.99          -36.4        \n",
       "3 25  1        999   0         1.4         94.47          -41.8        \n",
       "4 38  3        999   0         1.4         94.47          -41.8        \n",
       "5 47  1        999   0        -0.1         93.20          -42.0        \n",
       "6 32  3        999   2        -1.1         94.20          -37.5        \n",
       "  euribor3m nr.employed\n",
       "1 1.313     5099       \n",
       "2 4.855     5191       \n",
       "3 4.962     5228       \n",
       "4 4.959     5228       \n",
       "5 4.191     5196       \n",
       "6 0.884     4964       "
      ]
     },
     "metadata": {},
     "output_type": "display_data"
    }
   ],
   "source": [
    "head(bank.train2)"
   ]
  },
  {
   "cell_type": "markdown",
   "metadata": {},
   "source": [
    "### 分拆"
   ]
  },
  {
   "cell_type": "code",
   "execution_count": 36,
   "metadata": {
    "scrolled": false
   },
   "outputs": [
    {
     "data": {
      "text/plain": [
       "Confusion Matrix and Statistics\n",
       "\n",
       "          Reference\n",
       "Prediction  yes   no\n",
       "       yes   23   14\n",
       "       no   112 1086\n",
       "                                             \n",
       "               Accuracy : 0.898              \n",
       "                 95% CI : (0.88, 0.914)      \n",
       "    No Information Rate : 0.891              \n",
       "    P-Value [Acc > NIR] : 0.221              \n",
       "                                             \n",
       "                  Kappa : 0.231              \n",
       "                                             \n",
       " Mcnemar's Test P-Value : <0.0000000000000002\n",
       "                                             \n",
       "            Sensitivity : 0.1704             \n",
       "            Specificity : 0.9873             \n",
       "         Pos Pred Value : 0.6216             \n",
       "         Neg Pred Value : 0.9065             \n",
       "             Prevalence : 0.1093             \n",
       "         Detection Rate : 0.0186             \n",
       "   Detection Prevalence : 0.0300             \n",
       "      Balanced Accuracy : 0.5788             \n",
       "                                             \n",
       "       'Positive' Class : yes                \n",
       "                                             "
      ]
     },
     "metadata": {},
     "output_type": "display_data"
    }
   ],
   "source": [
    "dummy<-dummyVars(~.,data=bank.train2[,-1])\n",
    "dummy_train<-predict(dummy,bank.train2[,-1])\n",
    "dummy_train<-data.frame(dummy_train)\n",
    "dummy_train$y<-factor(bank.train2$y,levels=c('yes','no'))\n",
    "\n",
    "dummy<-dummyVars(~.,data=bank.test2[,-1])\n",
    "dummy_test<-predict(dummy,bank.test2[,-1])\n",
    "dummy_test<-data.frame(dummy_test)\n",
    "dummy_test$y<-factor(bank.test2$y,levels=c('yes','no'))\n",
    "\n",
    "library('e1071')\n",
    "svmfit<-svm(y~.,data=dummy_train,kernel='polynomial',cost=.001,scale=FALSE)\n",
    "# summary(svmfit)\n",
    "n<-length(dummy_test)\n",
    "predictions.svm<-predict(svmfit,dummy_test[,1:(n-1)],type='class')\n",
    "confusionMatrix(predictions.svm,dummy_test[,n])"
   ]
  },
  {
   "cell_type": "markdown",
   "metadata": {},
   "source": [
    "### 神经网络\n",
    "有duration-nnet"
   ]
  },
  {
   "cell_type": "code",
   "execution_count": 37,
   "metadata": {},
   "outputs": [
    {
     "data": {
      "text/plain": [
       "Confusion Matrix and Statistics\n",
       "\n",
       "          Reference\n",
       "Prediction  yes   no\n",
       "       yes   65   36\n",
       "       no    70 1064\n",
       "                                        \n",
       "               Accuracy : 0.914         \n",
       "                 95% CI : (0.897, 0.929)\n",
       "    No Information Rate : 0.891         \n",
       "    P-Value [Acc > NIR] : 0.00373       \n",
       "                                        \n",
       "                  Kappa : 0.504         \n",
       "                                        \n",
       " Mcnemar's Test P-Value : 0.00135       \n",
       "                                        \n",
       "            Sensitivity : 0.4815        \n",
       "            Specificity : 0.9673        \n",
       "         Pos Pred Value : 0.6436        \n",
       "         Neg Pred Value : 0.9383        \n",
       "             Prevalence : 0.1093        \n",
       "         Detection Rate : 0.0526        \n",
       "   Detection Prevalence : 0.0818        \n",
       "      Balanced Accuracy : 0.7244        \n",
       "                                        \n",
       "       'Positive' Class : yes           \n",
       "                                        "
      ]
     },
     "metadata": {},
     "output_type": "display_data"
    }
   ],
   "source": [
    "# nnet\n",
    "nnfit<-train(y~.,data=bank.train,method='nnet',trace=FALSE)\n",
    "# summary(nnfit)\n",
    "predictions<-predict(nnfit,bank.test[,-1])\n",
    "mat<-confusionMatrix(predictions,bank.test[,1])\n",
    "mat\n",
    "matrix1<-rbind(matrix1,saveMatrix1(mat,\"神经网络-nnet\"))"
   ]
  },
  {
   "cell_type": "markdown",
   "metadata": {},
   "source": [
    "没有duration"
   ]
  },
  {
   "cell_type": "code",
   "execution_count": 38,
   "metadata": {},
   "outputs": [
    {
     "data": {
      "text/plain": [
       "Confusion Matrix and Statistics\n",
       "\n",
       "          Reference\n",
       "Prediction  yes   no\n",
       "       yes   36   23\n",
       "       no    99 1077\n",
       "                                         \n",
       "               Accuracy : 0.901          \n",
       "                 95% CI : (0.883, 0.917) \n",
       "    No Information Rate : 0.891          \n",
       "    P-Value [Acc > NIR] : 0.126          \n",
       "                                         \n",
       "                  Kappa : 0.326          \n",
       "                                         \n",
       " Mcnemar's Test P-Value : 0.0000000000112\n",
       "                                         \n",
       "            Sensitivity : 0.2667         \n",
       "            Specificity : 0.9791         \n",
       "         Pos Pred Value : 0.6102         \n",
       "         Neg Pred Value : 0.9158         \n",
       "             Prevalence : 0.1093         \n",
       "         Detection Rate : 0.0291         \n",
       "   Detection Prevalence : 0.0478         \n",
       "      Balanced Accuracy : 0.6229         \n",
       "                                         \n",
       "       'Positive' Class : yes            \n",
       "                                         "
      ]
     },
     "metadata": {},
     "output_type": "display_data"
    }
   ],
   "source": [
    "# nnet\n",
    "nnfit<-train(y~.,data=bank.train2,method='nnet',trace=FALSE)\n",
    "# summary(nnfit)\n",
    "predictions<-predict(nnfit,bank.test2[,-1])\n",
    "mat<-confusionMatrix(predictions,bank.test2[,1])\n",
    "mat\n",
    "matrix2<-rbind(matrix2,saveMatrix2(mat,\"神经网络-nnet\"))"
   ]
  },
  {
   "cell_type": "markdown",
   "metadata": {},
   "source": [
    "### multinom\n",
    "有duration"
   ]
  },
  {
   "cell_type": "code",
   "execution_count": 44,
   "metadata": {
    "scrolled": false
   },
   "outputs": [
    {
     "data": {
      "text/plain": [
       "Confusion Matrix and Statistics\n",
       "\n",
       "          Reference\n",
       "Prediction  yes   no\n",
       "       yes   63   23\n",
       "       no    72 1077\n",
       "                                        \n",
       "               Accuracy : 0.923         \n",
       "                 95% CI : (0.907, 0.937)\n",
       "    No Information Rate : 0.891         \n",
       "    P-Value [Acc > NIR] : 0.000082575   \n",
       "                                        \n",
       "                  Kappa : 0.53          \n",
       "                                        \n",
       " Mcnemar's Test P-Value : 0.000000845   \n",
       "                                        \n",
       "            Sensitivity : 0.4667        \n",
       "            Specificity : 0.9791        \n",
       "         Pos Pred Value : 0.7326        \n",
       "         Neg Pred Value : 0.9373        \n",
       "             Prevalence : 0.1093        \n",
       "         Detection Rate : 0.0510        \n",
       "   Detection Prevalence : 0.0696        \n",
       "      Balanced Accuracy : 0.7229        \n",
       "                                        \n",
       "       'Positive' Class : yes           \n",
       "                                        "
      ]
     },
     "metadata": {},
     "output_type": "display_data"
    }
   ],
   "source": [
    "# nnet\n",
    "nnfit<-train(y~.,data=bank.train,method='multinom',trace=FALSE)\n",
    "# summary(nnfit)\n",
    "predictions<-predict(nnfit,bank.test[,-1])\n",
    "mat<-confusionMatrix(predictions,bank.test[,1])\n",
    "mat\n",
    "matrix1<-rbind(matrix1,saveMatrix1(mat,'神经网络-multinom'))"
   ]
  },
  {
   "cell_type": "markdown",
   "metadata": {},
   "source": [
    "### 没有duration"
   ]
  },
  {
   "cell_type": "code",
   "execution_count": 45,
   "metadata": {},
   "outputs": [
    {
     "data": {
      "text/plain": [
       "Confusion Matrix and Statistics\n",
       "\n",
       "          Reference\n",
       "Prediction  yes   no\n",
       "       yes   24   14\n",
       "       no   111 1086\n",
       "                                             \n",
       "               Accuracy : 0.899              \n",
       "                 95% CI : (0.881, 0.915)     \n",
       "    No Information Rate : 0.891              \n",
       "    P-Value [Acc > NIR] : 0.194              \n",
       "                                             \n",
       "                  Kappa : 0.241              \n",
       "                                             \n",
       " Mcnemar's Test P-Value : <0.0000000000000002\n",
       "                                             \n",
       "            Sensitivity : 0.1778             \n",
       "            Specificity : 0.9873             \n",
       "         Pos Pred Value : 0.6316             \n",
       "         Neg Pred Value : 0.9073             \n",
       "             Prevalence : 0.1093             \n",
       "         Detection Rate : 0.0194             \n",
       "   Detection Prevalence : 0.0308             \n",
       "      Balanced Accuracy : 0.5825             \n",
       "                                             \n",
       "       'Positive' Class : yes                \n",
       "                                             "
      ]
     },
     "metadata": {},
     "output_type": "display_data"
    }
   ],
   "source": [
    "# multinom\n",
    "nnfit<-train(y~.,data=bank.train2,method='multinom',trace=FALSE)\n",
    "# summary(nnfit)\n",
    "predictions<-predict(nnfit,bank.test2[,-1])\n",
    "mat<-confusionMatrix(predictions,bank.test2[,1])\n",
    "mat\n",
    "matrix2<-rbind(matrix2,saveMatrix2(mat,\"神经网络-multinom\"))"
   ]
  },
  {
   "cell_type": "markdown",
   "metadata": {},
   "source": [
    "### 条件推理树"
   ]
  },
  {
   "cell_type": "code",
   "execution_count": 46,
   "metadata": {},
   "outputs": [
    {
     "name": "stderr",
     "output_type": "stream",
     "text": [
      "Loading required package: modeltools\n",
      "Loading required package: stats4\n",
      "Loading required package: strucchange\n",
      "Loading required package: zoo\n",
      "\n",
      "Attaching package: ‘zoo’\n",
      "\n",
      "The following objects are masked from ‘package:base’:\n",
      "\n",
      "    as.Date, as.Date.numeric\n",
      "\n",
      "Loading required package: sandwich\n"
     ]
    },
    {
     "data": {
      "image/png": "[encoded data removed]",
      "text/plain": [
       "plot without title"
      ]
     },
     "metadata": {},
     "output_type": "display_data"
    }
   ],
   "source": [
    "library(mvtnorm)\n",
    "library(party)\n",
    "fit_tree<-ctree(y~.,data=bank.train)\n",
    "plot(fit_tree)"
   ]
  },
  {
   "cell_type": "markdown",
   "metadata": {},
   "source": [
    "## 分类决策树\n",
    "有duration"
   ]
  },
  {
   "cell_type": "code",
   "execution_count": 47,
   "metadata": {},
   "outputs": [
    {
     "data": {
      "text/plain": [
       "Confusion Matrix and Statistics\n",
       "\n",
       "          Reference\n",
       "Prediction  yes   no\n",
       "       yes   51   20\n",
       "       no    84 1080\n",
       "                                        \n",
       "               Accuracy : 0.916         \n",
       "                 95% CI : (0.899, 0.931)\n",
       "    No Information Rate : 0.891         \n",
       "    P-Value [Acc > NIR] : 0.00204       \n",
       "                                        \n",
       "                  Kappa : 0.454         \n",
       "                                        \n",
       " Mcnemar's Test P-Value : 0.000000000651\n",
       "                                        \n",
       "            Sensitivity : 0.3778        \n",
       "            Specificity : 0.9818        \n",
       "         Pos Pred Value : 0.7183        \n",
       "         Neg Pred Value : 0.9278        \n",
       "             Prevalence : 0.1093        \n",
       "         Detection Rate : 0.0413        \n",
       "   Detection Prevalence : 0.0575        \n",
       "      Balanced Accuracy : 0.6798        \n",
       "                                        \n",
       "       'Positive' Class : yes           \n",
       "                                        "
      ]
     },
     "metadata": {},
     "output_type": "display_data"
    }
   ],
   "source": [
    "library(rpart)\n",
    "tree_fit<-rpart(y~.,data=bank.train,method = 'class')\n",
    "fit.pruned<-prune(tree_fit,cp=tree_fit$cptable[which.min(tree_fit$cptable[,'xerror']),'CP'])\n",
    "predictions<-predict(fit.pruned,bank.test,type='class')\n",
    "mat<-confusionMatrix(predictions,bank.test[,1])\n",
    "mat\n",
    "matrix1<-rbind(matrix1,saveMatrix1(mat,\"分类决策树\"))"
   ]
  },
  {
   "cell_type": "markdown",
   "metadata": {},
   "source": [
    "无duration"
   ]
  },
  {
   "cell_type": "code",
   "execution_count": 48,
   "metadata": {},
   "outputs": [
    {
     "data": {
      "text/plain": [
       "Confusion Matrix and Statistics\n",
       "\n",
       "          Reference\n",
       "Prediction  yes   no\n",
       "       yes   21    9\n",
       "       no   114 1091\n",
       "                                             \n",
       "               Accuracy : 0.9                \n",
       "                 95% CI : (0.882, 0.917)     \n",
       "    No Information Rate : 0.891              \n",
       "    P-Value [Acc > NIR] : 0.147              \n",
       "                                             \n",
       "                  Kappa : 0.224              \n",
       "                                             \n",
       " Mcnemar's Test P-Value : <0.0000000000000002\n",
       "                                             \n",
       "            Sensitivity : 0.1556             \n",
       "            Specificity : 0.9918             \n",
       "         Pos Pred Value : 0.7000             \n",
       "         Neg Pred Value : 0.9054             \n",
       "             Prevalence : 0.1093             \n",
       "         Detection Rate : 0.0170             \n",
       "   Detection Prevalence : 0.0243             \n",
       "      Balanced Accuracy : 0.5737             \n",
       "                                             \n",
       "       'Positive' Class : yes                \n",
       "                                             "
      ]
     },
     "metadata": {},
     "output_type": "display_data"
    }
   ],
   "source": [
    "library(rpart)\n",
    "tree_fit2<-rpart(y~.,data=bank.train2,method = 'class')\n",
    "fit.pruned<-prune(tree_fit2,cp=tree_fit2$cptable[which.min(tree_fit2$cptable[,'xerror']),'CP'])\n",
    "predictions<-predict(fit.pruned,bank.test2,type='class')\n",
    "mat<-confusionMatrix(predictions,bank.test2[,1])\n",
    "mat\n",
    "matrix2<-rbind(matrix2,saveMatrix2(mat,\"分类决策树\"))"
   ]
  },
  {
   "cell_type": "markdown",
   "metadata": {},
   "source": [
    "### 分类条件推理树\n",
    "有duration"
   ]
  },
  {
   "cell_type": "code",
   "execution_count": 49,
   "metadata": {},
   "outputs": [
    {
     "data": {
      "text/plain": [
       "Confusion Matrix and Statistics\n",
       "\n",
       "          Reference\n",
       "Prediction  yes   no\n",
       "       yes   68   42\n",
       "       no    67 1058\n",
       "                                        \n",
       "               Accuracy : 0.912         \n",
       "                 95% CI : (0.895, 0.927)\n",
       "    No Information Rate : 0.891         \n",
       "    P-Value [Acc > NIR] : 0.00858       \n",
       "                                        \n",
       "                  Kappa : 0.507         \n",
       "                                        \n",
       " Mcnemar's Test P-Value : 0.02152       \n",
       "                                        \n",
       "            Sensitivity : 0.5037        \n",
       "            Specificity : 0.9618        \n",
       "         Pos Pred Value : 0.6182        \n",
       "         Neg Pred Value : 0.9404        \n",
       "             Prevalence : 0.1093        \n",
       "         Detection Rate : 0.0551        \n",
       "   Detection Prevalence : 0.0891        \n",
       "      Balanced Accuracy : 0.7328        \n",
       "                                        \n",
       "       'Positive' Class : yes           \n",
       "                                        "
      ]
     },
     "metadata": {},
     "output_type": "display_data"
    }
   ],
   "source": [
    "fit.ctree<-ctree(y~.,data=bank.train)\n",
    "predictions<-predict(fit.ctree,bank.test)\n",
    "mat<-confusionMatrix(predictions,bank.test[,1])\n",
    "mat\n",
    "matrix1<-rbind(matrix1,saveMatrix1(mat,\"分类条件推理树\"))"
   ]
  },
  {
   "cell_type": "markdown",
   "metadata": {},
   "source": [
    "无duration"
   ]
  },
  {
   "cell_type": "code",
   "execution_count": 50,
   "metadata": {},
   "outputs": [
    {
     "data": {
      "text/plain": [
       "Confusion Matrix and Statistics\n",
       "\n",
       "          Reference\n",
       "Prediction  yes   no\n",
       "       yes   21    9\n",
       "       no   114 1091\n",
       "                                             \n",
       "               Accuracy : 0.9                \n",
       "                 95% CI : (0.882, 0.917)     \n",
       "    No Information Rate : 0.891              \n",
       "    P-Value [Acc > NIR] : 0.147              \n",
       "                                             \n",
       "                  Kappa : 0.224              \n",
       "                                             \n",
       " Mcnemar's Test P-Value : <0.0000000000000002\n",
       "                                             \n",
       "            Sensitivity : 0.1556             \n",
       "            Specificity : 0.9918             \n",
       "         Pos Pred Value : 0.7000             \n",
       "         Neg Pred Value : 0.9054             \n",
       "             Prevalence : 0.1093             \n",
       "         Detection Rate : 0.0170             \n",
       "   Detection Prevalence : 0.0243             \n",
       "      Balanced Accuracy : 0.5737             \n",
       "                                             \n",
       "       'Positive' Class : yes                \n",
       "                                             "
      ]
     },
     "metadata": {},
     "output_type": "display_data"
    }
   ],
   "source": [
    "fit.ctree<-ctree(y~.,data=bank.train2)\n",
    "predictions<-predict(fit.ctree,bank.test2)\n",
    "mat<-confusionMatrix(predictions,bank.test2[,1])\n",
    "mat\n",
    "matrix2<-rbind(matrix2,saveMatrix2(mat,\"分类条件推理树\"))"
   ]
  },
  {
   "cell_type": "markdown",
   "metadata": {},
   "source": [
    "### 随机森林\n",
    "有duration"
   ]
  },
  {
   "cell_type": "code",
   "execution_count": 51,
   "metadata": {},
   "outputs": [
    {
     "name": "stderr",
     "output_type": "stream",
     "text": [
      "randomForest 4.6-14\n",
      "Type rfNews() to see new features/changes/bug fixes.\n"
     ]
    },
    {
     "data": {
      "text/plain": [
       "Confusion Matrix and Statistics\n",
       "\n",
       "          Reference\n",
       "Prediction  yes   no\n",
       "       yes   52   18\n",
       "       no    83 1082\n",
       "                                        \n",
       "               Accuracy : 0.918         \n",
       "                 95% CI : (0.902, 0.933)\n",
       "    No Information Rate : 0.891         \n",
       "    P-Value [Acc > NIR] : 0.00077       \n",
       "                                        \n",
       "                  Kappa : 0.468         \n",
       "                                        \n",
       " Mcnemar's Test P-Value : 0.000000000191\n",
       "                                        \n",
       "            Sensitivity : 0.3852        \n",
       "            Specificity : 0.9836        \n",
       "         Pos Pred Value : 0.7429        \n",
       "         Neg Pred Value : 0.9288        \n",
       "             Prevalence : 0.1093        \n",
       "         Detection Rate : 0.0421        \n",
       "   Detection Prevalence : 0.0567        \n",
       "      Balanced Accuracy : 0.6844        \n",
       "                                        \n",
       "       'Positive' Class : yes           \n",
       "                                        "
      ]
     },
     "metadata": {},
     "output_type": "display_data"
    }
   ],
   "source": [
    "library(randomForest, warn.conflicts = FALSE)\n",
    "fit.rf<-randomForest(y~.,data=bank.train)\n",
    "predictions<-predict(fit.rf,bank.test)\n",
    "mat<-confusionMatrix(predictions,bank.test[,1])\n",
    "mat\n",
    "matrix1<-rbind(matrix1,saveMatrix1(mat,\"随机森林\"))"
   ]
  },
  {
   "cell_type": "markdown",
   "metadata": {},
   "source": [
    "无duration"
   ]
  },
  {
   "cell_type": "code",
   "execution_count": 52,
   "metadata": {},
   "outputs": [
    {
     "data": {
      "text/plain": [
       "Confusion Matrix and Statistics\n",
       "\n",
       "          Reference\n",
       "Prediction  yes   no\n",
       "       yes   28   17\n",
       "       no   107 1083\n",
       "                                             \n",
       "               Accuracy : 0.9                \n",
       "                 95% CI : (0.881, 0.916)     \n",
       "    No Information Rate : 0.891              \n",
       "    P-Value [Acc > NIR] : 0.169              \n",
       "                                             \n",
       "                  Kappa : 0.271              \n",
       "                                             \n",
       " Mcnemar's Test P-Value : 0.00000000000000132\n",
       "                                             \n",
       "            Sensitivity : 0.2074             \n",
       "            Specificity : 0.9845             \n",
       "         Pos Pred Value : 0.6222             \n",
       "         Neg Pred Value : 0.9101             \n",
       "             Prevalence : 0.1093             \n",
       "         Detection Rate : 0.0227             \n",
       "   Detection Prevalence : 0.0364             \n",
       "      Balanced Accuracy : 0.5960             \n",
       "                                             \n",
       "       'Positive' Class : yes                \n",
       "                                             "
      ]
     },
     "metadata": {},
     "output_type": "display_data"
    }
   ],
   "source": [
    "library(randomForest, warn.conflicts = FALSE)\n",
    "fit.rf<-randomForest(y~.,data=bank.train2)\n",
    "predictions<-predict(fit.rf,bank.test2)\n",
    "mat<-confusionMatrix(predictions,bank.test2[,1])\n",
    "mat\n",
    "matrix2<-rbind(matrix2,saveMatrix2(mat,\"随机森林\"))"
   ]
  },
  {
   "cell_type": "code",
   "execution_count": 53,
   "metadata": {},
   "outputs": [
    {
     "data": {
      "text/html": [
       "<table>\n",
       "<caption>A data.frame: 8 × 12</caption>\n",
       "<thead>\n",
       "\t<tr><th scope=col>model</th><th scope=col>Accuracy</th><th scope=col>Sensitivity</th><th scope=col>Precesion</th><th scope=col>Specificity</th><th scope=col>Recall</th><th scope=col>F1</th><th scope=col>Kappa</th><th scope=col>TP</th><th scope=col>FN</th><th scope=col>FP</th><th scope=col>TF</th></tr>\n",
       "\t<tr><th scope=col>&lt;fct&gt;</th><th scope=col>&lt;dbl&gt;</th><th scope=col>&lt;dbl&gt;</th><th scope=col>&lt;dbl&gt;</th><th scope=col>&lt;dbl&gt;</th><th scope=col>&lt;dbl&gt;</th><th scope=col>&lt;dbl&gt;</th><th scope=col>&lt;dbl&gt;</th><th scope=col>&lt;int&gt;</th><th scope=col>&lt;int&gt;</th><th scope=col>&lt;int&gt;</th><th scope=col>&lt;int&gt;</th></tr>\n",
       "</thead>\n",
       "<tbody>\n",
       "\t<tr><td>逻辑回归         </td><td>0.9247</td><td>0.4074</td><td>0.8088</td><td>0.9882</td><td>0.4074</td><td>0.5419</td><td>0.5057</td><td>55</td><td>80</td><td>13</td><td>1087</td></tr>\n",
       "\t<tr><td>SVM-多项式核函数 </td><td>0.9198</td><td>0.4741</td><td>0.6957</td><td>0.9745</td><td>0.4741</td><td>0.5639</td><td>0.5215</td><td>64</td><td>71</td><td>28</td><td>1072</td></tr>\n",
       "\t<tr><td>SVM-线性核函数   </td><td>0.9190</td><td>0.4370</td><td>0.7108</td><td>0.9782</td><td>0.4370</td><td>0.5413</td><td>0.4996</td><td>59</td><td>76</td><td>24</td><td>1076</td></tr>\n",
       "\t<tr><td>神经网络-nnet    </td><td>0.9142</td><td>0.4815</td><td>0.6436</td><td>0.9673</td><td>0.4815</td><td>0.5508</td><td>0.5045</td><td>65</td><td>70</td><td>36</td><td>1064</td></tr>\n",
       "\t<tr><td>神经网络-multinom</td><td>0.9231</td><td>0.4667</td><td>0.7326</td><td>0.9791</td><td>0.4667</td><td>0.5701</td><td>0.5302</td><td>63</td><td>72</td><td>23</td><td>1077</td></tr>\n",
       "\t<tr><td>分类决策树       </td><td>0.9158</td><td>0.3778</td><td>0.7183</td><td>0.9818</td><td>0.3778</td><td>0.4951</td><td>0.4540</td><td>51</td><td>84</td><td>20</td><td>1080</td></tr>\n",
       "\t<tr><td>分类条件推理树   </td><td>0.9117</td><td>0.5037</td><td>0.6182</td><td>0.9618</td><td>0.5037</td><td>0.5551</td><td>0.5067</td><td>68</td><td>67</td><td>42</td><td>1058</td></tr>\n",
       "\t<tr><td>随机森林         </td><td>0.9182</td><td>0.3852</td><td>0.7429</td><td>0.9836</td><td>0.3852</td><td>0.5073</td><td>0.4676</td><td>52</td><td>83</td><td>18</td><td>1082</td></tr>\n",
       "</tbody>\n",
       "</table>\n"
      ],
      "text/latex": [
       "A data.frame: 8 × 12\n",
       "\\begin{tabular}{r|llllllllllll}\n",
       " model & Accuracy & Sensitivity & Precesion & Specificity & Recall & F1 & Kappa & TP & FN & FP & TF\\\\\n",
       " <fct> & <dbl> & <dbl> & <dbl> & <dbl> & <dbl> & <dbl> & <dbl> & <int> & <int> & <int> & <int>\\\\\n",
       "\\hline\n",
       "\t 逻辑回归          & 0.9247 & 0.4074 & 0.8088 & 0.9882 & 0.4074 & 0.5419 & 0.5057 & 55 & 80 & 13 & 1087\\\\\n",
       "\t SVM-多项式核函数  & 0.9198 & 0.4741 & 0.6957 & 0.9745 & 0.4741 & 0.5639 & 0.5215 & 64 & 71 & 28 & 1072\\\\\n",
       "\t SVM-线性核函数    & 0.9190 & 0.4370 & 0.7108 & 0.9782 & 0.4370 & 0.5413 & 0.4996 & 59 & 76 & 24 & 1076\\\\\n",
       "\t 神经网络-nnet     & 0.9142 & 0.4815 & 0.6436 & 0.9673 & 0.4815 & 0.5508 & 0.5045 & 65 & 70 & 36 & 1064\\\\\n",
       "\t 神经网络-multinom & 0.9231 & 0.4667 & 0.7326 & 0.9791 & 0.4667 & 0.5701 & 0.5302 & 63 & 72 & 23 & 1077\\\\\n",
       "\t 分类决策树        & 0.9158 & 0.3778 & 0.7183 & 0.9818 & 0.3778 & 0.4951 & 0.4540 & 51 & 84 & 20 & 1080\\\\\n",
       "\t 分类条件推理树    & 0.9117 & 0.5037 & 0.6182 & 0.9618 & 0.5037 & 0.5551 & 0.5067 & 68 & 67 & 42 & 1058\\\\\n",
       "\t 随机森林          & 0.9182 & 0.3852 & 0.7429 & 0.9836 & 0.3852 & 0.5073 & 0.4676 & 52 & 83 & 18 & 1082\\\\\n",
       "\\end{tabular}\n"
      ],
      "text/markdown": [
       "\n",
       "A data.frame: 8 × 12\n",
       "\n",
       "| model &lt;fct&gt; | Accuracy &lt;dbl&gt; | Sensitivity &lt;dbl&gt; | Precesion &lt;dbl&gt; | Specificity &lt;dbl&gt; | Recall &lt;dbl&gt; | F1 &lt;dbl&gt; | Kappa &lt;dbl&gt; | TP &lt;int&gt; | FN &lt;int&gt; | FP &lt;int&gt; | TF &lt;int&gt; |\n",
       "|---|---|---|---|---|---|---|---|---|---|---|---|\n",
       "| 逻辑回归          | 0.9247 | 0.4074 | 0.8088 | 0.9882 | 0.4074 | 0.5419 | 0.5057 | 55 | 80 | 13 | 1087 |\n",
       "| SVM-多项式核函数  | 0.9198 | 0.4741 | 0.6957 | 0.9745 | 0.4741 | 0.5639 | 0.5215 | 64 | 71 | 28 | 1072 |\n",
       "| SVM-线性核函数    | 0.9190 | 0.4370 | 0.7108 | 0.9782 | 0.4370 | 0.5413 | 0.4996 | 59 | 76 | 24 | 1076 |\n",
       "| 神经网络-nnet     | 0.9142 | 0.4815 | 0.6436 | 0.9673 | 0.4815 | 0.5508 | 0.5045 | 65 | 70 | 36 | 1064 |\n",
       "| 神经网络-multinom | 0.9231 | 0.4667 | 0.7326 | 0.9791 | 0.4667 | 0.5701 | 0.5302 | 63 | 72 | 23 | 1077 |\n",
       "| 分类决策树        | 0.9158 | 0.3778 | 0.7183 | 0.9818 | 0.3778 | 0.4951 | 0.4540 | 51 | 84 | 20 | 1080 |\n",
       "| 分类条件推理树    | 0.9117 | 0.5037 | 0.6182 | 0.9618 | 0.5037 | 0.5551 | 0.5067 | 68 | 67 | 42 | 1058 |\n",
       "| 随机森林          | 0.9182 | 0.3852 | 0.7429 | 0.9836 | 0.3852 | 0.5073 | 0.4676 | 52 | 83 | 18 | 1082 |\n",
       "\n"
      ],
      "text/plain": [
       "  model             Accuracy Sensitivity Precesion Specificity Recall F1    \n",
       "1 逻辑回归          0.9247   0.4074      0.8088    0.9882      0.4074 0.5419\n",
       "2 SVM-多项式核函数  0.9198   0.4741      0.6957    0.9745      0.4741 0.5639\n",
       "3 SVM-线性核函数    0.9190   0.4370      0.7108    0.9782      0.4370 0.5413\n",
       "4 神经网络-nnet     0.9142   0.4815      0.6436    0.9673      0.4815 0.5508\n",
       "5 神经网络-multinom 0.9231   0.4667      0.7326    0.9791      0.4667 0.5701\n",
       "6 分类决策树        0.9158   0.3778      0.7183    0.9818      0.3778 0.4951\n",
       "7 分类条件推理树    0.9117   0.5037      0.6182    0.9618      0.5037 0.5551\n",
       "8 随机森林          0.9182   0.3852      0.7429    0.9836      0.3852 0.5073\n",
       "  Kappa  TP FN FP TF  \n",
       "1 0.5057 55 80 13 1087\n",
       "2 0.5215 64 71 28 1072\n",
       "3 0.4996 59 76 24 1076\n",
       "4 0.5045 65 70 36 1064\n",
       "5 0.5302 63 72 23 1077\n",
       "6 0.4540 51 84 20 1080\n",
       "7 0.5067 68 67 42 1058\n",
       "8 0.4676 52 83 18 1082"
      ]
     },
     "metadata": {},
     "output_type": "display_data"
    },
    {
     "data": {
      "text/html": [
       "<table>\n",
       "<caption>A data.frame: 8 × 12</caption>\n",
       "<thead>\n",
       "\t<tr><th scope=col>model</th><th scope=col>Accuracy</th><th scope=col>Sensitivity</th><th scope=col>Precesion</th><th scope=col>Specificity</th><th scope=col>Recall</th><th scope=col>F1</th><th scope=col>Kappa</th><th scope=col>TP</th><th scope=col>FN</th><th scope=col>FP</th><th scope=col>TF</th></tr>\n",
       "\t<tr><th scope=col>&lt;fct&gt;</th><th scope=col>&lt;dbl&gt;</th><th scope=col>&lt;dbl&gt;</th><th scope=col>&lt;dbl&gt;</th><th scope=col>&lt;dbl&gt;</th><th scope=col>&lt;dbl&gt;</th><th scope=col>&lt;dbl&gt;</th><th scope=col>&lt;dbl&gt;</th><th scope=col>&lt;int&gt;</th><th scope=col>&lt;int&gt;</th><th scope=col>&lt;int&gt;</th><th scope=col>&lt;int&gt;</th></tr>\n",
       "</thead>\n",
       "<tbody>\n",
       "\t<tr><td>逻辑回归         </td><td>0.8980</td><td>0.2000</td><td>0.6000</td><td>0.9836</td><td>0.2000</td><td>0.3000</td><td>0.2595</td><td>27</td><td>108</td><td> 18</td><td>1082</td></tr>\n",
       "\t<tr><td>SVM-线性核函数   </td><td>0.9020</td><td>0.1778</td><td>0.7059</td><td>0.9909</td><td>0.1778</td><td>0.2840</td><td>0.2511</td><td>24</td><td>111</td><td> 10</td><td>1090</td></tr>\n",
       "\t<tr><td>SVM-多项式核函数 </td><td>0.8445</td><td>0.3333</td><td>0.3061</td><td>0.9073</td><td>0.3333</td><td>0.3191</td><td>0.2316</td><td>45</td><td> 90</td><td>102</td><td> 998</td></tr>\n",
       "\t<tr><td>神经网络-nnet    </td><td>0.9012</td><td>0.2667</td><td>0.6102</td><td>0.9791</td><td>0.2667</td><td>0.3711</td><td>0.3263</td><td>36</td><td> 99</td><td> 23</td><td>1077</td></tr>\n",
       "\t<tr><td>神经网络-multinom</td><td>0.8988</td><td>0.1778</td><td>0.6316</td><td>0.9873</td><td>0.1778</td><td>0.2775</td><td>0.2410</td><td>24</td><td>111</td><td> 14</td><td>1086</td></tr>\n",
       "\t<tr><td>分类决策树       </td><td>0.9004</td><td>0.1556</td><td>0.7000</td><td>0.9918</td><td>0.1556</td><td>0.2545</td><td>0.2237</td><td>21</td><td>114</td><td>  9</td><td>1091</td></tr>\n",
       "\t<tr><td>分类条件推理树   </td><td>0.9004</td><td>0.1556</td><td>0.7000</td><td>0.9918</td><td>0.1556</td><td>0.2545</td><td>0.2237</td><td>21</td><td>114</td><td>  9</td><td>1091</td></tr>\n",
       "\t<tr><td>随机森林         </td><td>0.8996</td><td>0.2074</td><td>0.6222</td><td>0.9845</td><td>0.2074</td><td>0.3111</td><td>0.2713</td><td>28</td><td>107</td><td> 17</td><td>1083</td></tr>\n",
       "</tbody>\n",
       "</table>\n"
      ],
      "text/latex": [
       "A data.frame: 8 × 12\n",
       "\\begin{tabular}{r|llllllllllll}\n",
       " model & Accuracy & Sensitivity & Precesion & Specificity & Recall & F1 & Kappa & TP & FN & FP & TF\\\\\n",
       " <fct> & <dbl> & <dbl> & <dbl> & <dbl> & <dbl> & <dbl> & <dbl> & <int> & <int> & <int> & <int>\\\\\n",
       "\\hline\n",
       "\t 逻辑回归          & 0.8980 & 0.2000 & 0.6000 & 0.9836 & 0.2000 & 0.3000 & 0.2595 & 27 & 108 &  18 & 1082\\\\\n",
       "\t SVM-线性核函数    & 0.9020 & 0.1778 & 0.7059 & 0.9909 & 0.1778 & 0.2840 & 0.2511 & 24 & 111 &  10 & 1090\\\\\n",
       "\t SVM-多项式核函数  & 0.8445 & 0.3333 & 0.3061 & 0.9073 & 0.3333 & 0.3191 & 0.2316 & 45 &  90 & 102 &  998\\\\\n",
       "\t 神经网络-nnet     & 0.9012 & 0.2667 & 0.6102 & 0.9791 & 0.2667 & 0.3711 & 0.3263 & 36 &  99 &  23 & 1077\\\\\n",
       "\t 神经网络-multinom & 0.8988 & 0.1778 & 0.6316 & 0.9873 & 0.1778 & 0.2775 & 0.2410 & 24 & 111 &  14 & 1086\\\\\n",
       "\t 分类决策树        & 0.9004 & 0.1556 & 0.7000 & 0.9918 & 0.1556 & 0.2545 & 0.2237 & 21 & 114 &   9 & 1091\\\\\n",
       "\t 分类条件推理树    & 0.9004 & 0.1556 & 0.7000 & 0.9918 & 0.1556 & 0.2545 & 0.2237 & 21 & 114 &   9 & 1091\\\\\n",
       "\t 随机森林          & 0.8996 & 0.2074 & 0.6222 & 0.9845 & 0.2074 & 0.3111 & 0.2713 & 28 & 107 &  17 & 1083\\\\\n",
       "\\end{tabular}\n"
      ],
      "text/markdown": [
       "\n",
       "A data.frame: 8 × 12\n",
       "\n",
       "| model &lt;fct&gt; | Accuracy &lt;dbl&gt; | Sensitivity &lt;dbl&gt; | Precesion &lt;dbl&gt; | Specificity &lt;dbl&gt; | Recall &lt;dbl&gt; | F1 &lt;dbl&gt; | Kappa &lt;dbl&gt; | TP &lt;int&gt; | FN &lt;int&gt; | FP &lt;int&gt; | TF &lt;int&gt; |\n",
       "|---|---|---|---|---|---|---|---|---|---|---|---|\n",
       "| 逻辑回归          | 0.8980 | 0.2000 | 0.6000 | 0.9836 | 0.2000 | 0.3000 | 0.2595 | 27 | 108 |  18 | 1082 |\n",
       "| SVM-线性核函数    | 0.9020 | 0.1778 | 0.7059 | 0.9909 | 0.1778 | 0.2840 | 0.2511 | 24 | 111 |  10 | 1090 |\n",
       "| SVM-多项式核函数  | 0.8445 | 0.3333 | 0.3061 | 0.9073 | 0.3333 | 0.3191 | 0.2316 | 45 |  90 | 102 |  998 |\n",
       "| 神经网络-nnet     | 0.9012 | 0.2667 | 0.6102 | 0.9791 | 0.2667 | 0.3711 | 0.3263 | 36 |  99 |  23 | 1077 |\n",
       "| 神经网络-multinom | 0.8988 | 0.1778 | 0.6316 | 0.9873 | 0.1778 | 0.2775 | 0.2410 | 24 | 111 |  14 | 1086 |\n",
       "| 分类决策树        | 0.9004 | 0.1556 | 0.7000 | 0.9918 | 0.1556 | 0.2545 | 0.2237 | 21 | 114 |   9 | 1091 |\n",
       "| 分类条件推理树    | 0.9004 | 0.1556 | 0.7000 | 0.9918 | 0.1556 | 0.2545 | 0.2237 | 21 | 114 |   9 | 1091 |\n",
       "| 随机森林          | 0.8996 | 0.2074 | 0.6222 | 0.9845 | 0.2074 | 0.3111 | 0.2713 | 28 | 107 |  17 | 1083 |\n",
       "\n"
      ],
      "text/plain": [
       "  model             Accuracy Sensitivity Precesion Specificity Recall F1    \n",
       "1 逻辑回归          0.8980   0.2000      0.6000    0.9836      0.2000 0.3000\n",
       "2 SVM-线性核函数    0.9020   0.1778      0.7059    0.9909      0.1778 0.2840\n",
       "3 SVM-多项式核函数  0.8445   0.3333      0.3061    0.9073      0.3333 0.3191\n",
       "4 神经网络-nnet     0.9012   0.2667      0.6102    0.9791      0.2667 0.3711\n",
       "5 神经网络-multinom 0.8988   0.1778      0.6316    0.9873      0.1778 0.2775\n",
       "6 分类决策树        0.9004   0.1556      0.7000    0.9918      0.1556 0.2545\n",
       "7 分类条件推理树    0.9004   0.1556      0.7000    0.9918      0.1556 0.2545\n",
       "8 随机森林          0.8996   0.2074      0.6222    0.9845      0.2074 0.3111\n",
       "  Kappa  TP FN  FP  TF  \n",
       "1 0.2595 27 108  18 1082\n",
       "2 0.2511 24 111  10 1090\n",
       "3 0.2316 45  90 102  998\n",
       "4 0.3263 36  99  23 1077\n",
       "5 0.2410 24 111  14 1086\n",
       "6 0.2237 21 114   9 1091\n",
       "7 0.2237 21 114   9 1091\n",
       "8 0.2713 28 107  17 1083"
      ]
     },
     "metadata": {},
     "output_type": "display_data"
    }
   ],
   "source": [
    "matrix1\n",
    "matrix2"
   ]
  },
  {
   "cell_type": "code",
   "execution_count": 56,
   "metadata": {},
   "outputs": [],
   "source": [
    "write.csv(matrix1,'result/小数据集训练结果-有duration特征.csv')\n",
    "write.csv(matrix2,'result/小数据集训练结果-无duration特征.csv')"
   ]
  },
  {
   "cell_type": "code",
   "execution_count": null,
   "metadata": {},
   "outputs": [],
   "source": []
  }
 ],
 "metadata": {
  "kernelspec": {
   "display_name": "R",
   "language": "R",
   "name": "ir"
  },
  "language_info": {
   "codemirror_mode": "r",
   "file_extension": ".r",
   "mimetype": "text/x-r-source",
   "name": "R",
   "pygments_lexer": "r",
   "version": "3.6.1"
  }
 },
 "nbformat": 4,
 "nbformat_minor": 2
}
