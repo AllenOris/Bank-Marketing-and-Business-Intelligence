{
 "cells": [
  {
   "cell_type": "markdown",
   "metadata": {},
   "source": [
    "# Bank Marketing "
   ]
  },
  {
   "cell_type": "code",
   "execution_count": null,
   "metadata": {},
   "outputs": [],
   "source": [
    "bank_additional_full_df<-read.csv('./data/bank-additional/bank-additional-full.csv',sep=';')\n",
    "bank_additional_df=read.csv('./data/bank-additional/bank-additional.csv',sep=';')\n",
    "bank_full_df=read.csv('./data/bank/bank-full.csv',sep=';')\n",
    "bank_df=read.csv('./data/bank/bank.csv',sep=';')\n",
    "dat=bank_additional_df"
   ]
  },
  {
   "cell_type": "markdown",
   "metadata": {},
   "source": [
    "**查看列信息**"
   ]
  },
  {
   "cell_type": "code",
   "execution_count": null,
   "metadata": {
    "scrolled": false
   },
   "outputs": [],
   "source": [
    "colnames(dat)\n",
    "str(dat)"
   ]
  },
  {
   "cell_type": "markdown",
   "metadata": {},
   "source": [
    "**是否存在空值**"
   ]
  },
  {
   "cell_type": "code",
   "execution_count": null,
   "metadata": {
    "scrolled": false
   },
   "outputs": [],
   "source": [
    "indx<-apply(dat,2,function(x) any(is.na(x)))\n",
    "indx\n",
    "dat[1:5,1:12]\n",
    "dat[1:5,13:21]\n",
    "dim(dat)"
   ]
  },
  {
   "cell_type": "code",
   "execution_count": null,
   "metadata": {
    "scrolled": false
   },
   "outputs": [],
   "source": [
    "library(pastecs)\n",
    "library(ggplot2)\n",
    "library(dfexplore)\n",
    "# stat.desc(bank_additional_full_df)\n",
    "# dfplot(dat)"
   ]
  },
  {
   "cell_type": "code",
   "execution_count": null,
   "metadata": {},
   "outputs": [],
   "source": [
    "library(ggplot2)\n",
    "dt=data.frame(A=c(sum(dat$y=='yes'),sum(dat$y=='no')),B=c('yes','no'))\n",
    "myLabel = as.vector(dt$B)   ## 转成向量，否则图例的标签可能与实际顺序不一致\n",
    "myLabel\n",
    "myLabel = paste(myLabel, \"(\", round(dt$A / sum(dt$A) * 100, 2), \"%)        \", sep = \"\")   ## 用 round() 对结果保留两位小数\n",
    "myLabel\n",
    "p <- ggplot(dt, aes(x = \"\", y = A, fill = B)) + \n",
    "  geom_bar(stat = \"identity\", width = 1) +    \n",
    "  coord_polar(theta = \"y\") + \n",
    "  labs(x = \"\", y = \"\", title = \"\") + \n",
    "  theme(axis.ticks = element_blank()) + \n",
    "  theme(legend.title = element_blank(), legend.position = \"top\") + \n",
    "  scale_fill_discrete(breaks = dt$B, labels = myLabel)   ## 将原来的图例标签换成现在的myLabel\n",
    "p+ggtitle('接受推销比例')\n"
   ]
  },
  {
   "cell_type": "code",
   "execution_count": null,
   "metadata": {},
   "outputs": [],
   "source": [
    "p<-ggplot(dat)+geom_histogram(aes(x=emp.var.rate,fill=y))\n",
    "p+xlab('就业变动率')+ylab('数量')+ggtitle('就业变动率直方图')"
   ]
  },
  {
   "cell_type": "code",
   "execution_count": null,
   "metadata": {},
   "outputs": [],
   "source": [
    "# previous属性直方图(联系次数)\n",
    "# pdf('img/img01.pdf',width=4,height=4)\n",
    "# theme(text = element_text(family='GB1'))\n",
    "p<-ggplot(dat)+geom_histogram(aes(x=previous,fill=y))\n",
    "p+xlab('联系一个客户的次数')+ylab('数量')+ggtitle('就业变动率直方图')\n",
    "# +  theme(text = element_text(family='GB1'))\n",
    "# dev.off()"
   ]
  },
  {
   "cell_type": "code",
   "execution_count": null,
   "metadata": {},
   "outputs": [],
   "source": [
    "# previous属性直方图(联系次数)\n",
    "# pdf('img/img01.pdf',width=4,height=4)\n",
    "# theme(text = element_text(family='GB1'))\n",
    "p<-ggplot(dat)+geom_histogram(aes(x=age,width=1))\n",
    "p+xlab('年龄')+ylab('数量')+ggtitle('年龄分布')"
   ]
  },
  {
   "cell_type": "code",
   "execution_count": null,
   "metadata": {},
   "outputs": [],
   "source": [
    "library(pastecs)\n",
    "stat.desc(dat$duration/60)\n",
    "ggplot(dat, aes(x=duration)) + geom_density(colour='orange')"
   ]
  },
  {
   "cell_type": "code",
   "execution_count": null,
   "metadata": {},
   "outputs": [],
   "source": [
    "myfunc <- function(x){\n",
    "  sum(x=='yes')/length(x)\n",
    "}\n",
    "dat2<-dat\n",
    "dat2$duration[dat2$duration>1500]<-1500\n",
    "dat2$duration<-dat2$duration%/%30\n",
    "dur<-aggregate(dat2$y, by=list(dat2$duration),FUN=myfunc)\n",
    "library(ggplot2)\n",
    "# library(lubridate) \n",
    "p<-ggplot(data = dur, mapping = aes(x = Group.1, y = x, group = 1000)) + geom_line(\n",
    "    colour='red')\n",
    "p+xlab('电话持续时长(30s)')+ylab(\"接受产品比例\")+ggtitle('电话时间与接受比例折线图')"
   ]
  },
  {
   "cell_type": "code",
   "execution_count": null,
   "metadata": {},
   "outputs": [],
   "source": [
    "colnames(dat)"
   ]
  },
  {
   "cell_type": "code",
   "execution_count": null,
   "metadata": {},
   "outputs": [],
   "source": [
    "dat_e<-dat[,-11]\n",
    "colnames(dat_e)"
   ]
  },
  {
   "cell_type": "code",
   "execution_count": null,
   "metadata": {},
   "outputs": [],
   "source": [
    "library(ggplot2)\n",
    "myfunc <- function(x){\n",
    "  sum(x=='yes')/length(x)\n",
    "}\n",
    "\n",
    "dat2<-dat\n",
    "job<-aggregate(dat2$y, by=list(dat2$job),FUN=myfunc)\n",
    "library(ggplot2)\n",
    "# library(lubridate) \n",
    "\n",
    "ggplot(dat, aes(x=job,fill=y)) + geom_bar(stat=\"count\")+coord_flip()\n",
    "\n",
    "p<-ggplot(data = job, mapping = aes(x = Group.1, y = x)) + geom_line(\n",
    "    colour='red')+geom_bar(stat='identity',fill='orange')+coord_flip()\n",
    "p+xlab('工作')+ylab(\"接受产品比例\")+ggtitle('工作与接受比例比例图')\n"
   ]
  },
  {
   "cell_type": "code",
   "execution_count": null,
   "metadata": {},
   "outputs": [],
   "source": [
    "library(ggplot2)\n",
    "myfunc <- function(x){\n",
    "  sum(x=='yes')/length(x)\n",
    "}\n",
    "\n",
    "dat2<-dat\n",
    "marital<-aggregate(dat2$y, by=list(dat2$marital),FUN=myfunc)\n",
    "library(ggplot2)\n",
    "# library(lubridate) \n",
    "\n",
    "ggplot(dat, aes(x=marital,fill=y)) + geom_bar(stat=\"count\")+xlab('婚姻状况')+ylab(\"接受产品比例\")+ggtitle('婚姻状况与接受比例图')\n"
   ]
  },
  {
   "cell_type": "code",
   "execution_count": null,
   "metadata": {},
   "outputs": [],
   "source": [
    "library(ggplot2)\n",
    "myfunc <- function(x){\n",
    "  sum(x=='yes')/length(x)\n",
    "}\n",
    "\n",
    "dat2<-dat\n",
    "education<-aggregate(dat2$y, by=list(dat2$education),FUN=myfunc)\n",
    "library(ggplot2)\n",
    "# library(lubridate) \n",
    "\n",
    "ggplot(dat, aes(x=education,fill=y)) + geom_bar(stat=\"count\")\n",
    "\n",
    "p<-ggplot(data = education, mapping = aes(x = Group.1, y = x)) + geom_line(\n",
    "    colour='red')+geom_bar(stat='identity',fill='orange')\n",
    "p+xlab('教育状况')+ylab(\"接受产品比例\")+ggtitle('教育状况与接受比例图')+coord_flip()\n"
   ]
  },
  {
   "cell_type": "code",
   "execution_count": null,
   "metadata": {},
   "outputs": [],
   "source": [
    "colnames(dat)"
   ]
  },
  {
   "cell_type": "code",
   "execution_count": null,
   "metadata": {},
   "outputs": [],
   "source": [
    "dat_num<-dat[,c('y','age','duration','campaign','pdays','previous',\n",
    "                'emp.var.rate','cons.price.idx','cons.conf.idx',\n",
    "                'euribor3m','nr.employed')]\n",
    "cor(dat_num[,-1])"
   ]
  },
  {
   "cell_type": "code",
   "execution_count": null,
   "metadata": {},
   "outputs": [],
   "source": [
    "# data_info<-data.frame(sapply(dat,as.factor))\n",
    "# # data_info<-as.data.frame(dat)\n",
    "# # head(data_info)\n",
    "# head(data_info)\n",
    "# data_info$y<-as.vector(data_info$y)\n",
    "# data_info$y[data_info$y=='yes']<-'1'\n",
    "# data_info$y[data_info$y=='no']<-'0'\n",
    "# i<-1\n",
    "# n=length(data_info)\n",
    "# for(col in data_info[-n]){\n",
    "#     i<-i+1\n",
    "#     print(colnames(data_info)[i])\n",
    "#     print(IV(X=col,Y=data_info$y))\n",
    "#     cat('\\n')\n",
    "# }"
   ]
  },
  {
   "cell_type": "code",
   "execution_count": null,
   "metadata": {},
   "outputs": [],
   "source": [
    "library(InformationValue)\n",
    "dat_cat<-dat[,c('y','job','marital','education','default','housing',\n",
    "               'loan','contact','month','day_of_week','poutcome')]\n",
    "options(scipen = 999, digits = 4)\n",
    "\n",
    "dat_cat$y<-as.vector(dat_cat$y)\n",
    "dat_cat$y[dat_cat$y=='yes']<-'1'\n",
    "dat_cat$y[dat_cat$y=='no']<-'0'\n",
    "i<-1\n",
    "IV_info<-data.frame(features=0,InformationValue=0)\n",
    "IV_info<-IV_info[-1,0]\n",
    "for(col in dat_cat[-1]){\n",
    "    i<-i+1\n",
    "#     print(colnames(dat_cat)[i])\n",
    "    iv<-IV(X=col,Y=dat_cat$y)\n",
    "    iv<-data.frame(iv)[1,1]\n",
    "    IV_info<-rbind(IV_info,data.frame(features=colnames(dat_cat)[i],InformationValue=iv))\n",
    "    cat('\\n')\n",
    "}\n",
    "write.csv(IV_info,'result/完整数据集-离散变量IV值')\n",
    "#     \n",
    "# print(\"教育 IV\")"
   ]
  },
  {
   "cell_type": "code",
   "execution_count": null,
   "metadata": {},
   "outputs": [],
   "source": [
    "train<-data.frame(dat_cat,dat_num[,-1])\n",
    "train$y<-as.factor(train$y)\n",
    "head(train)\n",
    "str(train)"
   ]
  },
  {
   "cell_type": "code",
   "execution_count": null,
   "metadata": {},
   "outputs": [],
   "source": [
    "library(lattice)\n",
    "library(caret)\n",
    "train2<-train\n",
    "train2$y<-as.vector(train2$y)\n",
    "train2$y[train2$y==\"0\"]<-'no'\n",
    "train2$y[train2$y==\"1\"]<-'yes'\n",
    "train2$y<-factor(train2$y,levels=c('yes','no'))\n",
    "levels(train2$y)\n",
    "train<-train2"
   ]
  },
  {
   "cell_type": "code",
   "execution_count": null,
   "metadata": {},
   "outputs": [],
   "source": [
    "set.seed(233)\n",
    "head(train)\n",
    "train<-subset(train,select=(c(y,job,education,default,contact,month,poutcome,housing,\n",
    "                            age,duration,campaign,pdays,previous,emp.var.rate,cons.price.idx,\n",
    "                            cons.conf.idx,euribor3m,nr.employed)))\n",
    "head(train)"
   ]
  },
  {
   "cell_type": "code",
   "execution_count": null,
   "metadata": {},
   "outputs": [],
   "source": [
    "multiplot <- function(..., plotlist=NULL, file, cols=1, layout=NULL) {\n",
    "  library(grid)\n",
    " \n",
    "  # Make a list from the ... arguments and plotlist\n",
    "  plots <- c(list(...), plotlist)\n",
    " \n",
    "  numPlots = length(plots)\n",
    " \n",
    "  # If layout is NULL, then use 'cols' to determine layout\n",
    "  if (is.null(layout)) {\n",
    "    # Make the panel\n",
    "    # ncol: Number of columns of plots\n",
    "    # nrow: Number of rows needed, calculated from # of cols\n",
    "    layout <- matrix(seq(1, cols * ceiling(numPlots/cols)),\n",
    "                    ncol = cols, nrow = ceiling(numPlots/cols))\n",
    "  }\n",
    " \n",
    " if (numPlots==1) {\n",
    "    print(plots[[1]])\n",
    " \n",
    "  } else {\n",
    "    # Set up the page\n",
    "    grid.newpage()\n",
    "    pushViewport(viewport(layout = grid.layout(nrow(layout), ncol(layout))))\n",
    " \n",
    "    # Make each plot, in the correct location\n",
    "    for (i in 1:numPlots) {\n",
    "      # Get the i,j matrix positions of the regions that contain this subplot\n",
    "      matchidx <- as.data.frame(which(layout == i, arr.ind = TRUE))\n",
    " \n",
    "      print(plots[[i]], vp = viewport(layout.pos.row = matchidx$row,\n",
    "                                      layout.pos.col = matchidx$col))\n",
    "    }\n",
    "  }\n",
    "}\n"
   ]
  },
  {
   "cell_type": "code",
   "execution_count": null,
   "metadata": {},
   "outputs": [],
   "source": [
    "# 训练集分割\n",
    "partition_indexed<-createDataPartition(train$y,times=1,p=.7,list=FALSE)\n",
    "bank.train<-train[partition_indexed,]\n",
    "bank.test<-train[-partition_indexed,]\n",
    "\n",
    "library(ggplot2)\n",
    "dt<-data.frame(A=c(sum(bank.train$y=='yes'),sum(bank.train$y=='no')),B=c('yes','no'))\n",
    "myLabel = as.vector(dt$B)   ## 转成向量，否则图例的标签可能与实际顺序不一致\n",
    "myLabel = paste(myLabel, \"(\", round(dt$A / sum(dt$A) * 100, 2), \"%)        \", sep = \"\")   ## 用 round() 对结果保留两位小数\n",
    "p <- ggplot(dt, aes(x = \"\", y = A, fill = B)) + \n",
    "  geom_bar(stat = \"identity\", width = 1) +    \n",
    "  coord_polar(theta = \"y\") + \n",
    "  labs(x = \"\", y = \"\", title = \"\") + \n",
    "  theme(axis.ticks = element_blank()) + \n",
    "  theme(legend.title = element_blank(), legend.position = \"top\") + \n",
    "  scale_fill_discrete(breaks = dt$B, labels = myLabel)   ## 将原来的图例标签换成现在的myLabel\n",
    "p1<-p+ggtitle('训练集接受推销比例')\n",
    "\n",
    "dt<-data.frame(A=c(sum(bank.test$y=='yes'),sum(bank.test$y=='no')),B=c('yes','no'))\n",
    "myLabel = as.vector(dt$B)   ## 转成向量，否则图例的标签可能与实际顺序不一致\n",
    "myLabel = paste(myLabel, \"(\", round(dt$A / sum(dt$A) * 100, 2), \"%)        \", sep = \"\")   ## 用 round() 对结果保留两位小数\n",
    "p <- ggplot(dt, aes(x = \"\", y = A, fill = B)) + \n",
    "  geom_bar(stat = \"identity\", width = 1) +    \n",
    "  coord_polar(theta = \"y\") + \n",
    "  labs(x = \"\", y = \"\", title = \"\") + \n",
    "  theme(axis.ticks = element_blank()) + \n",
    "  theme(legend.title = element_blank(), legend.position = \"top\") + \n",
    "  scale_fill_discrete(breaks = dt$B, labels = myLabel)   ## 将原来的图例标签换成现在的myLabel\n",
    "p2<-p+ggtitle('测试集接受推销比例')\n",
    "multiplot(p1, p2,cols=2)"
   ]
  },
  {
   "cell_type": "markdown",
   "metadata": {},
   "source": [
    "## 开始训练"
   ]
  },
  {
   "cell_type": "markdown",
   "metadata": {},
   "source": [
    "### 结果存储声明"
   ]
  },
  {
   "cell_type": "code",
   "execution_count": null,
   "metadata": {},
   "outputs": [],
   "source": [
    "matrix1 <- data.frame(model=0,Accuracy=0,Sensitivity=0,Precision=0,Specificity=0,Recall=0,F1=0,Kappa=0,TP=0,FN=0,FP=0,TF=0)\n",
    "matrix1 <- matrix1[-1,]\n",
    "library(miscTools)\n",
    "saveMatrix1<-function(mat,label){\n",
    "    df<-data.frame(mat[2])\n",
    "    df3<-data.frame(mat[3])\n",
    "    acc<-df3[1,1]\n",
    "    df4<-data.frame(mat[4])\n",
    "    sen<-df4[1,1]\n",
    "    spe<-df4[2,1]\n",
    "    pre<-df4[5,1]\n",
    "    rec<-df4[6,1]\n",
    "    f1<-df4[7,1]\n",
    "    kappa<-df3[2,1]\n",
    "    line<-data.frame(model=label,Accuracy=acc,Sensitivity=sen,Precesion=pre,Specificity=spe,Recall=rec,F1=f1,\n",
    "                     Kappa=kappa,TP=df[1,3],FN=df[2,3],FP=df[3,3],TF=df[4,3])\n",
    "    return(line)\n",
    "}\n",
    "\n",
    "matrix2 <- data.frame(model=0,Accuracy=0,Sensitivity=0,Precision=0,Specificity=0,Recall=0,F1=0,Kappa=0,TP=0,FN=0,FP=0,TF=0)\n",
    "matrix2 <- matrix2[-1,]\n",
    "library(miscTools)\n",
    "saveMatrix2<-function(mat,label){\n",
    "    df<-data.frame(mat[2])\n",
    "    df3<-data.frame(mat[3])\n",
    "    acc<-df3[1,1]\n",
    "    df4<-data.frame(mat[4])\n",
    "    sen<-df4[1,1]\n",
    "    spe<-df4[2,1]\n",
    "    pre<-df4[5,1]\n",
    "    rec<-df4[6,1]\n",
    "    f1<-df4[7,1]\n",
    "    kappa<-df3[2,1]\n",
    "    line<-data.frame(model=label,Accuracy=acc,Sensitivity=sen,Precesion=pre,Specificity=spe,Recall=rec,F1=f1,\n",
    "                     Kappa=kappa,TP=df[1,3],FN=df[2,3],FP=df[3,3],TF=df[4,3])\n",
    "    return(line)\n",
    "}"
   ]
  },
  {
   "cell_type": "code",
   "execution_count": null,
   "metadata": {},
   "outputs": [],
   "source": [
    "bank.train2<-bank.train\n",
    "bank.test2<-bank.test\n",
    "bank.train2$duration<-NULL\n",
    "bank.test2$duration<-NULL"
   ]
  },
  {
   "cell_type": "markdown",
   "metadata": {},
   "source": [
    "### 逻辑回归"
   ]
  },
  {
   "cell_type": "code",
   "execution_count": null,
   "metadata": {},
   "outputs": [],
   "source": [
    "# train with logistic regression\n",
    "fit_log_with<-train(y~.,data=bank.train,\n",
    "              method='LogitBoost',family='binomial')\n",
    "predictions<-predict(fit_log_with,bank.test[,-1])\n",
    "mat<-confusionMatrix(predictions,bank.test[,1])\n",
    "mat\n",
    "matrix1<-rbind(matrix1,saveMatrix1(mat,\"逻辑回归\"))"
   ]
  },
  {
   "cell_type": "code",
   "execution_count": null,
   "metadata": {},
   "outputs": [],
   "source": [
    "# cut duration\n",
    "fit_log_without<-train(y~.,data=bank.train2,\n",
    "              method='LogitBoost',family='binomial')\n",
    "predictions<-predict(fit_log_without,bank.test2[,-1])\n",
    "mat<-confusionMatrix(predictions,bank.test2[,1])\n",
    "mat\n",
    "matrix2<-rbind(matrix2,saveMatrix2(mat,\"逻辑回归\"))"
   ]
  },
  {
   "cell_type": "markdown",
   "metadata": {},
   "source": [
    "## SVM\n",
    "kernel\t\n",
    "the kernel used in training and predicting. You might consider changing some of the following parameters, depending on the kernel type.\n",
    "\n",
    "linear:\n",
    "\n",
    "𝑢′∗𝑣\n",
    "\n",
    "polynomial:\n",
    "\n",
    "(𝑔𝑎𝑚𝑚𝑎∗𝑢′∗𝑣+𝑐𝑜𝑒𝑓0)𝑑𝑒𝑔𝑟𝑒𝑒\n",
    "\n",
    "radial basis:\n",
    "\n",
    "𝑒𝑥𝑝(−𝑔𝑎𝑚𝑚𝑎∗|𝑢−𝑣|2)\n",
    "\n",
    "sigmoid:\n",
    "\n",
    "𝑡𝑎𝑛ℎ(𝑔𝑎𝑚𝑚𝑎∗𝑢′∗𝑣+𝑐𝑜𝑒𝑓0)"
   ]
  },
  {
   "cell_type": "code",
   "execution_count": null,
   "metadata": {},
   "outputs": [],
   "source": [
    "# library(e1071)\n",
    "# tuned<-tune(svm,y~.,\n",
    "#            data=bank.train,\n",
    "#            kernel='polynomial',\n",
    "#            ranges=list(cost=c(0.001,0.01,0.1,1,10,100)))\n",
    "# summary(tuned)"
   ]
  },
  {
   "cell_type": "code",
   "execution_count": null,
   "metadata": {},
   "outputs": [],
   "source": [
    "# svm\n",
    "library('e1071')\n",
    "svmfit<-svm(y~.,data=bank.train,kernel='polynomial',cost=100,scale=FALSE)\n",
    "# summary(svmfit)\n",
    "predictions.svm<-predict(svmfit,bank.test[,-1],type='class')\n",
    "mat<-confusionMatrix(predictions.svm,bank.test[,1])\n",
    "mat\n",
    "matrix1<-rbind(matrix1,saveMatrix1(mat,\"SVM-多项式核函数\"))"
   ]
  },
  {
   "cell_type": "markdown",
   "metadata": {},
   "source": [
    "### SVM-linear"
   ]
  },
  {
   "cell_type": "code",
   "execution_count": null,
   "metadata": {},
   "outputs": [],
   "source": [
    "# tuned<-tune(svm,y~.,\n",
    "#            data=bank.train,\n",
    "#            kernel='linear',\n",
    "#            ranges=list(cost=c(0.001,0.01,0.1,1,10,100)))\n",
    "# summary(tuned)"
   ]
  },
  {
   "cell_type": "code",
   "execution_count": null,
   "metadata": {
    "scrolled": false
   },
   "outputs": [],
   "source": [
    "# svm\n",
    "library('e1071')\n",
    "svmfit<-svm(y~.,data=bank.train,kernel='linear',cost=.1,scale=FALSE)\n",
    "# summary(svmfit)\n",
    "predictions.svm<-predict(svmfit,bank.test[,-1],type='class')\n",
    "mat<-confusionMatrix(predictions.svm,bank.test[,1])\n",
    "mat\n",
    "matrix1<-rbind(matrix1,saveMatrix1(mat,\"SVM-线性核函数\"))"
   ]
  },
  {
   "cell_type": "markdown",
   "metadata": {},
   "source": [
    "### SVM-Drop duration Linear"
   ]
  },
  {
   "cell_type": "code",
   "execution_count": null,
   "metadata": {},
   "outputs": [],
   "source": [
    "# tuned<-tune(svm,y~.,\n",
    "#            data=bank.train2,\n",
    "#            kernel='linear',\n",
    "#            ranges=list(cost=c(0.01,0.1,1,10)))\n",
    "# summary(tuned)"
   ]
  },
  {
   "cell_type": "code",
   "execution_count": null,
   "metadata": {},
   "outputs": [],
   "source": [
    "# svm\n",
    "library('e1071')\n",
    "svmfit<-svm(y~.,data=bank.train2,kernel='linear',cost=1,scale=FALSE)\n",
    "# summary(svmfit)\n",
    "predictions.svm<-predict(svmfit,bank.test2[,-1],type='class')\n",
    "mat<-confusionMatrix(predictions.svm,bank.test2[,1])\n",
    "mat\n",
    "matrix2<-rbind(matrix2,saveMatrix2(mat,\"SVM-线性核函数\"))"
   ]
  },
  {
   "cell_type": "markdown",
   "metadata": {},
   "source": [
    "### SVM-Drop duration Polynomial"
   ]
  },
  {
   "cell_type": "code",
   "execution_count": null,
   "metadata": {},
   "outputs": [],
   "source": [
    "# tuned<-tune(svm,y~.,\n",
    "#            data=bank.train2,\n",
    "#            kernel='polynomial',\n",
    "#            ranges=list(cost=c(0.01,0.1,1,10)))\n",
    "# summary(tuned)"
   ]
  },
  {
   "cell_type": "code",
   "execution_count": null,
   "metadata": {},
   "outputs": [],
   "source": [
    "# svm\n",
    "library('e1071')\n",
    "svmfit<-svm(y~.,data=bank.train2,kernel='polynomial',cost=.001,scale=FALSE)\n",
    "# summary(svmfit)\n",
    "predictions.svm<-predict(svmfit,bank.test2[,-1],type='class')\n",
    "mat<-confusionMatrix(predictions.svm,bank.test2[,1])\n",
    "mat\n",
    "matrix2<-rbind(matrix2,saveMatrix2(mat,\"SVM-多项式核函数\"))"
   ]
  },
  {
   "cell_type": "code",
   "execution_count": null,
   "metadata": {},
   "outputs": [],
   "source": [
    "head(bank.train2)"
   ]
  },
  {
   "cell_type": "markdown",
   "metadata": {},
   "source": [
    "### 分拆"
   ]
  },
  {
   "cell_type": "code",
   "execution_count": null,
   "metadata": {
    "scrolled": false
   },
   "outputs": [],
   "source": [
    "dummy<-dummyVars(~.,data=bank.train2[,-1])\n",
    "dummy_train<-predict(dummy,bank.train2[,-1])\n",
    "dummy_train<-data.frame(dummy_train)\n",
    "dummy_train$y<-factor(bank.train2$y,levels=c('yes','no'))\n",
    "\n",
    "dummy<-dummyVars(~.,data=bank.test2[,-1])\n",
    "dummy_test<-predict(dummy,bank.test2[,-1])\n",
    "dummy_test<-data.frame(dummy_test)\n",
    "dummy_test$y<-factor(bank.test2$y,levels=c('yes','no'))\n",
    "\n",
    "library('e1071')\n",
    "svmfit<-svm(y~.,data=dummy_train,kernel='polynomial',cost=.001,scale=FALSE)\n",
    "# summary(svmfit)\n",
    "n<-length(dummy_test)\n",
    "predictions.svm<-predict(svmfit,dummy_test[,1:(n-1)],type='class')\n",
    "confusionMatrix(predictions.svm,dummy_test[,n])"
   ]
  },
  {
   "cell_type": "markdown",
   "metadata": {},
   "source": [
    "### 神经网络\n",
    "有duration-nnet"
   ]
  },
  {
   "cell_type": "code",
   "execution_count": null,
   "metadata": {},
   "outputs": [],
   "source": [
    "# nnet\n",
    "nnfit<-train(y~.,data=bank.train,method='nnet',trace=FALSE)\n",
    "# summary(nnfit)\n",
    "predictions<-predict(nnfit,bank.test[,-1])\n",
    "mat<-confusionMatrix(predictions,bank.test[,1])\n",
    "mat\n",
    "matrix1<-rbind(matrix1,saveMatrix1(mat,\"神经网络-nnet\"))"
   ]
  },
  {
   "cell_type": "markdown",
   "metadata": {},
   "source": [
    "没有duration"
   ]
  },
  {
   "cell_type": "code",
   "execution_count": null,
   "metadata": {},
   "outputs": [],
   "source": [
    "# nnet\n",
    "nnfit<-train(y~.,data=bank.train2,method='nnet',trace=FALSE)\n",
    "# summary(nnfit)\n",
    "predictions<-predict(nnfit,bank.test2[,-1])\n",
    "mat<-confusionMatrix(predictions,bank.test2[,1])\n",
    "mat\n",
    "matrix2<-rbind(matrix2,saveMatrix2(mat,\"神经网络-nnet\"))"
   ]
  },
  {
   "cell_type": "markdown",
   "metadata": {},
   "source": [
    "### multinom\n",
    "有duration"
   ]
  },
  {
   "cell_type": "code",
   "execution_count": null,
   "metadata": {
    "scrolled": false
   },
   "outputs": [],
   "source": [
    "# nnet\n",
    "nnfit<-train(y~.,data=bank.train,method='multinom',trace=FALSE)\n",
    "# summary(nnfit)\n",
    "predictions<-predict(nnfit,bank.test[,-1])\n",
    "mat<-confusionMatrix(predictions,bank.test[,1])\n",
    "mat\n",
    "matrix1<-rbind(matrix1,saveMatrix1(mat,'神经网络-multinom'))"
   ]
  },
  {
   "cell_type": "markdown",
   "metadata": {},
   "source": [
    "### 没有duration"
   ]
  },
  {
   "cell_type": "code",
   "execution_count": null,
   "metadata": {},
   "outputs": [],
   "source": [
    "# multinom\n",
    "nnfit<-train(y~.,data=bank.train2,method='multinom',trace=FALSE)\n",
    "# summary(nnfit)\n",
    "predictions<-predict(nnfit,bank.test2[,-1])\n",
    "mat<-confusionMatrix(predictions,bank.test2[,1])\n",
    "mat\n",
    "matrix2<-rbind(matrix2,saveMatrix2(mat,\"神经网络-multinom\"))"
   ]
  },
  {
   "cell_type": "markdown",
   "metadata": {},
   "source": [
    "### 条件推理树"
   ]
  },
  {
   "cell_type": "code",
   "execution_count": null,
   "metadata": {},
   "outputs": [],
   "source": [
    "library(mvtnorm)\n",
    "library(party)\n",
    "fit_tree<-ctree(y~.,data=bank.train)\n",
    "plot(fit_tree)"
   ]
  },
  {
   "cell_type": "markdown",
   "metadata": {},
   "source": [
    "## 分类决策树\n",
    "有duration"
   ]
  },
  {
   "cell_type": "code",
   "execution_count": null,
   "metadata": {},
   "outputs": [],
   "source": [
    "library(rpart)\n",
    "tree_fit<-rpart(y~.,data=bank.train,method = 'class')\n",
    "fit.pruned<-prune(tree_fit,cp=tree_fit$cptable[which.min(tree_fit$cptable[,'xerror']),'CP'])\n",
    "predictions<-predict(fit.pruned,bank.test,type='class')\n",
    "mat<-confusionMatrix(predictions,bank.test[,1])\n",
    "mat\n",
    "matrix1<-rbind(matrix1,saveMatrix1(mat,\"分类决策树\"))"
   ]
  },
  {
   "cell_type": "markdown",
   "metadata": {},
   "source": [
    "无duration"
   ]
  },
  {
   "cell_type": "code",
   "execution_count": null,
   "metadata": {},
   "outputs": [],
   "source": [
    "library(rpart)\n",
    "tree_fit2<-rpart(y~.,data=bank.train2,method = 'class')\n",
    "fit.pruned<-prune(tree_fit2,cp=tree_fit2$cptable[which.min(tree_fit2$cptable[,'xerror']),'CP'])\n",
    "predictions<-predict(fit.pruned,bank.test2,type='class')\n",
    "mat<-confusionMatrix(predictions,bank.test2[,1])\n",
    "mat\n",
    "matrix2<-rbind(matrix2,saveMatrix2(mat,\"分类决策树\"))"
   ]
  },
  {
   "cell_type": "markdown",
   "metadata": {},
   "source": [
    "### 分类条件推理树\n",
    "有duration"
   ]
  },
  {
   "cell_type": "code",
   "execution_count": null,
   "metadata": {},
   "outputs": [],
   "source": [
    "fit.ctree<-ctree(y~.,data=bank.train)\n",
    "predictions<-predict(fit.ctree,bank.test)\n",
    "mat<-confusionMatrix(predictions,bank.test[,1])\n",
    "mat\n",
    "matrix1<-rbind(matrix1,saveMatrix1(mat,\"分类条件推理树\"))"
   ]
  },
  {
   "cell_type": "markdown",
   "metadata": {},
   "source": [
    "无duration"
   ]
  },
  {
   "cell_type": "code",
   "execution_count": null,
   "metadata": {},
   "outputs": [],
   "source": [
    "fit.ctree<-ctree(y~.,data=bank.train2)\n",
    "predictions<-predict(fit.ctree,bank.test2)\n",
    "mat<-confusionMatrix(predictions,bank.test2[,1])\n",
    "mat\n",
    "matrix2<-rbind(matrix2,saveMatrix2(mat,\"分类条件推理树\"))"
   ]
  },
  {
   "cell_type": "markdown",
   "metadata": {},
   "source": [
    "### 随机森林\n",
    "有duration"
   ]
  },
  {
   "cell_type": "code",
   "execution_count": null,
   "metadata": {},
   "outputs": [],
   "source": [
    "library(randomForest, warn.conflicts = FALSE)\n",
    "fit_rf_with<-randomForest(y~.,data=bank.train)\n",
    "predictions<-predict(fit_rf_with,bank.test)\n",
    "mat<-confusionMatrix(predictions,bank.test[,1])\n",
    "mat\n",
    "matrix1<-rbind(matrix1,saveMatrix1(mat,\"随机森林\"))"
   ]
  },
  {
   "cell_type": "markdown",
   "metadata": {},
   "source": [
    "无duration"
   ]
  },
  {
   "cell_type": "code",
   "execution_count": null,
   "metadata": {},
   "outputs": [],
   "source": [
    "library(randomForest, warn.conflicts = FALSE)\n",
    "fit_rf_without<-randomForest(y~.,data=bank.train2)\n",
    "predictions<-predict(fit_rf_without,bank.test2)\n",
    "mat<-confusionMatrix(predictions,bank.test2[,1])\n",
    "mat\n",
    "matrix2<-rbind(matrix2,saveMatrix2(mat,\"随机森林\"))"
   ]
  },
  {
   "cell_type": "code",
   "execution_count": null,
   "metadata": {},
   "outputs": [],
   "source": [
    "matrix1\n",
    "matrix2"
   ]
  },
  {
   "cell_type": "code",
   "execution_count": null,
   "metadata": {},
   "outputs": [],
   "source": [
    "names(matrix1) <- c(\"模型名称\", \"准确度\", \"灵敏度\",\"精度\",\"特异度\",\"召回率\",\"F1\",\"Kappa\",\"True Positive\",\"False Negative\",\n",
    "              \"False Positive\",\"True Negative\")\n",
    "\n",
    "names(matrix2) <- c(\"模型名称\", \"准确度\", \"灵敏度\",\"精度\",\"特异度\",\"召回率\",\"F1\",\"Kappa\",\"True Positive\",\"False Negative\",\n",
    "              \"False Positive\",\"True Negative\")\n",
    "\n",
    "write.csv(matrix1,'result/完整数据集训练结果-有duration特征.csv')\n",
    "write.csv(matrix2,'result/完整数据集训练结果-无duration特征.csv')"
   ]
  },
  {
   "cell_type": "code",
   "execution_count": null,
   "metadata": {},
   "outputs": [],
   "source": [
    "matrix1"
   ]
  },
  {
   "cell_type": "markdown",
   "metadata": {},
   "source": [
    "## 模型评估\n",
    "### 逻辑回归模型评估"
   ]
  },
  {
   "cell_type": "code",
   "execution_count": null,
   "metadata": {},
   "outputs": [],
   "source": [
    "library(DALEX)\n",
    "performance.test<-bank.test\n",
    "performance.test$y<-as.vector(performance.test$y)\n",
    "performance.test$y[performance.test$y=='yes']<-0\n",
    "performance.test$y[performance.test$y=='no']<-1\n",
    "performance.test$y=as.numeric(performance.test$y)\n",
    "performance.test2<-bank.test2\n",
    "performance.test2$y<-as.vector(performance.test2$y)\n",
    "performance.test2$y[performance.test2$y=='yes']<-0\n",
    "performance.test2$y[performance.test2$y=='no']<-1\n",
    "performance.test2$y=as.numeric(performance.test2$y)"
   ]
  },
  {
   "cell_type": "code",
   "execution_count": null,
   "metadata": {},
   "outputs": [],
   "source": [
    "explainer_log_with <- DALEX::explain(fit_log_with, label=\"LogitBoost\", \n",
    "                                    data = performance.test, \n",
    "                                     y = performance.test$y\n",
    "                                    ,type='class')\n",
    "mp_log_with<-model_performance(explainer_log_with)\n",
    "vi_log_with<-variable_importance(explainer_log_with,\n",
    "                                 loss_function=loss_root_mean_square)\n",
    "plot(vi_log_with)"
   ]
  },
  {
   "cell_type": "markdown",
   "metadata": {},
   "source": [
    "### 无duration"
   ]
  },
  {
   "cell_type": "code",
   "execution_count": null,
   "metadata": {},
   "outputs": [],
   "source": [
    "explainer_log_without <- DALEX::explain(fit_log_without, \n",
    "                                        label=\"LogitBoost\", \n",
    "                                    data = performance.test2, \n",
    "                                     y = performance.test2$y\n",
    "                                    ,type='class')\n",
    "mp_log_without<-model_performance(explainer_log_without)\n",
    "vi_log_without<-variable_importance(explainer_log_without,\n",
    "                                 loss_function=loss_root_mean_square)\n",
    "plot(vi_log_without)"
   ]
  },
  {
   "cell_type": "markdown",
   "metadata": {},
   "source": [
    "### 随机森林评估"
   ]
  },
  {
   "cell_type": "markdown",
   "metadata": {},
   "source": [
    "有duration"
   ]
  },
  {
   "cell_type": "code",
   "execution_count": null,
   "metadata": {},
   "outputs": [],
   "source": [
    "explainer_rf_with <- DALEX::explain(fit_rf_with, label=\"ranger\", \n",
    "                                    data = performance.test, \n",
    "                                     y = performance.test$y\n",
    "                                    ,type='class')\n",
    "mp_rf_with<-model_performance(explainer_rf_with)\n",
    "vi_rf_with<-variable_importance(explainer_rf_with,\n",
    "                                 loss_function=loss_root_mean_square)\n",
    "plot(vi_rf_with)\n",
    "\n",
    "\n",
    "library(pdp)\n",
    "pdp_rf_with  <- variable_response(explainer_rf_with, \n",
    "                                  variable =  \"age\", \n",
    "                                  type = \"pdp\")\n",
    "plot(pdp_rf_with)"
   ]
  },
  {
   "cell_type": "markdown",
   "metadata": {},
   "source": [
    "### 无duration"
   ]
  },
  {
   "cell_type": "code",
   "execution_count": null,
   "metadata": {},
   "outputs": [],
   "source": [
    "explainer_rf_without <- DALEX::explain(fit_rf_without, label=\"ranger\", \n",
    "                                    data = performance.test2, \n",
    "                                     y = performance.test2$y\n",
    "                                    ,type='class')\n",
    "mp_rf_without<-model_performance(explainer_rf_without)\n",
    "vi_rf_without<-variable_importance(explainer_rf_without,\n",
    "                                 loss_function=loss_root_mean_square)\n",
    "plot(vi_rf_without)\n",
    "\n",
    "library(pdp)\n",
    "pdp_rf_without  <- variable_response(explainer_rf_without, variable =  \"euribor3m\", type = \"pdp\")\n",
    "plot(pdp_rf_without)"
   ]
  },
  {
   "cell_type": "code",
   "execution_count": null,
   "metadata": {
    "scrolled": false
   },
   "outputs": [],
   "source": [
    "# summary(fit_rf_with)\n",
    "fit_rf_with$importance\n",
    "# summary(fit_rf_without)\n",
    "fit_rf_without$importance\n",
    "\n",
    "write.csv(fit_rf_with$importance\n",
    ",'result/完整数据集-随机森林结果-特征重要程度-有duration.csv')\n",
    "write.csv(fit_rf_without$importance\n",
    ",\n",
    "'result/完整数据集-随机森林结果-特征重要程度-无duration.csv')\n",
    "\n",
    "importance<-fit_rf_with\n",
    "library(ggplot2)\n",
    "ggplot()"
   ]
  },
  {
   "cell_type": "code",
   "execution_count": null,
   "metadata": {},
   "outputs": [],
   "source": []
  },
  {
   "cell_type": "code",
   "execution_count": null,
   "metadata": {},
   "outputs": [],
   "source": []
  }
 ],
 "metadata": {
  "kernelspec": {
   "display_name": "R",
   "language": "R",
   "name": "ir"
  },
  "language_info": {
   "codemirror_mode": "r",
   "file_extension": ".r",
   "mimetype": "text/x-r-source",
   "name": "R",
   "pygments_lexer": "r",
   "version": "3.6.1"
  }
 },
 "nbformat": 4,
 "nbformat_minor": 2
}
